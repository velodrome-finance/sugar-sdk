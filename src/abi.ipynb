{
 "cells": [
  {
   "cell_type": "markdown",
   "metadata": {},
   "source": [
    "# ABI definitions"
   ]
  },
  {
   "cell_type": "code",
   "execution_count": null,
   "metadata": {},
   "outputs": [],
   "source": [
    "#| default_exp abi"
   ]
  },
  {
   "cell_type": "code",
   "execution_count": null,
   "metadata": {},
   "outputs": [],
   "source": [
    "#| hide\n",
    "from nbdev.showdoc import *"
   ]
  },
  {
   "cell_type": "code",
   "execution_count": null,
   "metadata": {},
   "outputs": [],
   "source": [
    "#| export\n",
    "import requests, os, json"
   ]
  },
  {
   "cell_type": "code",
   "execution_count": null,
   "metadata": {},
   "outputs": [],
   "source": [
    "#| export\n",
    "\n",
    "abis_dir=\"abis\"\n",
    "\n",
    "def download_contract_abi(name, address, abis_dir=abis_dir, etherscan_api_url=\"https://api-optimistic.etherscan.io/api\"):\n",
    "    api_key = os.getenv(\"ETHERSCAN_API_KEY\")\n",
    "    if not api_key: raise Exception(\"ETHERSCAN_API_KEY not set in environment variables\")\n",
    "    response = requests.get(etherscan_api_url, params={ \"chainid\": 1, \"module\": \"contract\", \"action\": \"getabi\", \"address\": address, \"apikey\": api_key })\n",
    "    if response.status_code != 200: raise Exception(f\"API request failed with status code {response.status_code}\")\n",
    "    response_data = response.json()\n",
    "    if response_data.get(\"message\") != \"OK\": raise Exception(f\"API request failed with message: {response_data.get('message')}\")\n",
    "    os.makedirs(abis_dir, exist_ok=True)\n",
    "    with open(os.path.join(abis_dir, f\"{name}.json\"), \"w\") as file:\n",
    "        json.dump(json.loads(response_data.get(\"result\")), file, indent=4)\n",
    "\n",
    "def get_abi(name):\n",
    "    dir, path = None, os.path.abspath(__file__)\n",
    "    dir_path = os.path.dirname(path)\n",
    "\n",
    "    for d in [abis_dir, os.path.join(dir_path, abis_dir), os.path.join(dir_path, \"../\", abis_dir)]:\n",
    "        if os.path.exists(d):\n",
    "            dir = d\n",
    "            break\n",
    "\n",
    "    if not dir: raise Exception(\"Cannot find abis directory. Did you run download_contract_abi?\")\n",
    "        \n",
    "    with open(os.path.join(dir, f\"{name}.json\"), \"r\") as file:\n",
    "        return file.read()"
   ]
  },
  {
   "cell_type": "code",
   "execution_count": null,
   "metadata": {},
   "outputs": [],
   "source": [
    "#| hide\n",
    "import nbdev; nbdev.nbdev_export()"
   ]
  }
 ],
 "metadata": {
  "kernelspec": {
   "display_name": "python3",
   "language": "python",
   "name": "python3"
  }
 },
 "nbformat": 4,
 "nbformat_minor": 2
}
