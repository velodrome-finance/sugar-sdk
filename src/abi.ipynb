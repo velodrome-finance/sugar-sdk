{
 "cells": [
  {
   "cell_type": "markdown",
   "metadata": {},
   "source": [
    "# ABI definitions"
   ]
  },
  {
   "cell_type": "code",
   "execution_count": null,
   "metadata": {},
   "outputs": [],
   "source": [
    "#| default_exp abi"
   ]
  },
  {
   "cell_type": "code",
   "execution_count": null,
   "metadata": {},
   "outputs": [],
   "source": [
    "#| hide\n",
    "from nbdev.showdoc import *"
   ]
  },
  {
   "cell_type": "code",
   "execution_count": null,
   "metadata": {},
   "outputs": [],
   "source": [
    "#| export\n",
    "import requests, os, json"
   ]
  },
  {
   "cell_type": "code",
   "execution_count": null,
   "metadata": {},
   "outputs": [],
   "source": [
    "#| export\n",
    "\n",
    "bridge_get_fee_abi = [\n",
    "    {\n",
    "        \"name\": \"quoteGasPayment\",\n",
    "        \"type\": \"function\",\n",
    "        \"stateMutability\": \"view\",\n",
    "        \"inputs\": [\n",
    "            {\n",
    "            \"name\": \"chainId\",\n",
    "            \"type\": \"uint32\"\n",
    "            }\n",
    "        ],\n",
    "        \"outputs\": [\n",
    "            {\n",
    "            \"name\": \"\",\n",
    "            \"type\": \"uint256\"\n",
    "            }\n",
    "        ]\n",
    "    }\n",
    "]\n",
    "\n",
    "bridge_transfer_remote_abi = [\n",
    "    {\n",
    "        \"name\": \"transferRemote\",\n",
    "        \"type\": \"function\",\n",
    "        \"stateMutability\": \"payable\",\n",
    "        \"inputs\": [\n",
    "            {\n",
    "                \"name\": \"_destination\",\n",
    "                \"type\": \"uint32\"\n",
    "            },\n",
    "            {\n",
    "                \"name\": \"_recipient\", \n",
    "                \"type\": \"bytes32\"\n",
    "            },\n",
    "            {\n",
    "                \"name\": \"_amountOrId\",\n",
    "                \"type\": \"uint256\"\n",
    "            }\n",
    "        ],\n",
    "        \"outputs\": [\n",
    "            {\n",
    "                \"name\": \"messageId\",\n",
    "                \"type\": \"bytes32\"\n",
    "            }\n",
    "        ]\n",
    "    }\n",
    "]    \n",
    "\n",
    "erc20_abi = [\n",
    "    {\n",
    "        \"name\": \"approve\",\n",
    "        \"type\": \"function\",\n",
    "        \"inputs\": [\n",
    "            {\"name\": \"spender\", \"type\": \"address\"},\n",
    "            {\"name\": \"amount\", \"type\": \"uint256\"}\n",
    "        ],\n",
    "        \"outputs\": [{\"name\": \"\", \"type\": \"bool\"}]\n",
    "    },\n",
    "    {\n",
    "        \"name\": \"balanceOf\",\n",
    "        \"type\": \"function\",\n",
    "        \"constant\": True,\n",
    "        \"inputs\": [{\"name\": \"owner\", \"type\": \"address\"}],\n",
    "        \"outputs\": [{\"name\": \"\", \"type\": \"uint256\"}]\n",
    "    }\n",
    "]"
   ]
  },
  {
   "cell_type": "code",
   "execution_count": null,
   "metadata": {},
   "outputs": [],
   "source": [
    "#| export\n",
    "\n",
    "abis_dir=\"abis\"\n",
    "\n",
    "def download_contract_abi(name, address, abis_dir=os.path.join(\"sugar\", abis_dir), etherscan_api_url=\"https://api.etherscan.io/v2/api\"):\n",
    "    api_key = os.getenv(\"ETHERSCAN_API_KEY\")\n",
    "    if not api_key: raise Exception(\"ETHERSCAN_API_KEY not set in environment variables\")\n",
    "    params = {\n",
    "        \"chainid\": \"10\",\n",
    "        \"module\": \"contract\", \n",
    "        \"action\": \"getabi\",\n",
    "        \"address\": address,\n",
    "        \"apikey\": api_key\n",
    "    }\n",
    "    \n",
    "    response = requests.get(etherscan_api_url, params=params)\n",
    "    if response.status_code != 200: \n",
    "        raise Exception(f\"API request failed with status code {response.status_code}\")\n",
    "    \n",
    "    response_data = response.json()\n",
    "    if response_data.get(\"message\") != \"OK\": \n",
    "        raise Exception(f\"API request failed with message: {response_data.get('message')}\")\n",
    "    os.makedirs(abis_dir, exist_ok=True)\n",
    "    with open(os.path.join(abis_dir, f\"{name}.json\"), \"w\") as file:\n",
    "        json.dump(json.loads(response_data.get(\"result\")), file, indent=4)\n",
    "\n",
    "def get_abi(name):\n",
    "    dir, path = None, os.path.abspath(__file__)\n",
    "    dir_path = os.path.dirname(path)\n",
    "    abis_locations = [\n",
    "        abis_dir,\n",
    "        os.path.join(dir_path, abis_dir),\n",
    "        os.path.join(\"../\", abis_dir),\n",
    "        os.path.join(\"../sugar\", abis_dir),\n",
    "    ]\n",
    "\n",
    "    for d in abis_locations:\n",
    "        if os.path.exists(d):\n",
    "            dir = d\n",
    "            break\n",
    "\n",
    "    if not dir: raise Exception(\"Cannot find abis directory. Did you run download_contract_abi?\")\n",
    "        \n",
    "    with open(os.path.join(dir, f\"{name}.json\"), \"r\") as file:\n",
    "        return file.read()"
   ]
  },
  {
   "cell_type": "code",
   "execution_count": null,
   "metadata": {},
   "outputs": [],
   "source": [
    "#| hide\n",
    "import nbdev; nbdev.nbdev_export()"
   ]
  }
 ],
 "metadata": {
  "kernelspec": {
   "display_name": "python3",
   "language": "python",
   "name": "python3"
  }
 },
 "nbformat": 4,
 "nbformat_minor": 2
}
