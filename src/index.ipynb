{
 "cells": [
  {
   "cell_type": "markdown",
   "metadata": {},
   "source": [
    "# Sugar SDK\n",
    "\n",
    "> Python SDK for sugar. Hope you like sweets cause this stuff is 🍭"
   ]
  },
  {
   "cell_type": "markdown",
   "metadata": {},
   "source": [
    "## Using Sugar\n",
    "\n",
    "```bash\n",
    "pip install git+https://github.com/velodrome-finance/sugar-sdk\n",
    "```\n",
    "\n",
    "**TODO**: push to pypi"
   ]
  },
  {
   "cell_type": "markdown",
   "metadata": {},
   "source": [
    "## Base quickstart\n",
    "\n",
    "Getting start with Sugar on Base network:\n",
    "\n",
    "```python\n",
    "from sugar.chains import BaseChain, AsyncBaseChain\n",
    "\n",
    "# async version\n",
    "async with AsyncBaseChain() as chain:\n",
    "    prices = await chain.get_prices(await chain.get_all_tokens())\n",
    "    for p in prices[:5]:\n",
    "        print(f\"{p.token.symbol} price: {p.price}\")\n",
    "\n",
    "# sync version\n",
    "with BaseChain() as chain:\n",
    "    for p in chain.get_prices(chain.get_all_tokens())[:5]:\n",
    "        print(f\"{p.token.symbol} price: {p.price}\")\n",
    "```"
   ]
  },
  {
   "cell_type": "markdown",
   "metadata": {},
   "source": [
    "## OP quickstart\n",
    "\n",
    "Getting started with Sugar on OP network:\n",
    "\n",
    "```python\n",
    "from sugar.chains import AsyncOPChain, OPChain\n",
    "\n",
    "async with AsyncOPChain() as chain:\n",
    "    prices = await chain.get_prices(await chain.get_all_tokens())\n",
    "    for p in prices[:5]:\n",
    "        print(f\"{p.token.symbol} price: {p.price}\")\n",
    "\n",
    "with OPChain() as chain:\n",
    "    for p in chain.get_prices(chain.get_all_tokens())[:5]:\n",
    "        print(f\"{p.token.symbol} price: {p.price}\")\n",
    "```"
   ]
  },
  {
   "cell_type": "markdown",
   "metadata": {},
   "source": [
    "## Pools\n",
    "\n",
    "Getting information about pools:\n",
    "\n",
    "```python\n",
    "from sugar.chains import AsyncOPChain, OPChain\n",
    "\n",
    "async with AsyncOPChain() as chain:\n",
    "    pools = await chain.get_pools()\n",
    "    usdc_velo = next(iter([p for p in pools if p.token0.token_address == OPChain.usdc.token_address and p.token1.token_address == OPChain.velo.token_address]), None)\n",
    "    print(f\"{usdc_velo.symbol}\")\n",
    "    print(\"-----------------------\")\n",
    "    print(f\"Volume: {usdc_velo.token0_volume} {usdc_velo.token0.symbol} | {usdc_velo.token1_volume} {usdc_velo.token1.symbol} | ${usdc_velo.volume}\")\n",
    "    print(f\"Fees: {usdc_velo.token0_fees.amount} {usdc_velo.token0.symbol} | {usdc_velo.token1_fees.amount} {usdc_velo.token1.symbol} | ${usdc_velo.total_fees}\")\n",
    "    print(f\"TVL: {usdc_velo.reserve0.amount} {usdc_velo.token0.symbol} | {usdc_velo.reserve1.amount} {usdc_velo.token1.symbol} | ${usdc_velo.tvl}\")\n",
    "    print(f\"APR: {usdc_velo.apr}%\")\n",
    "\n",
    "with OPChain() as chain:\n",
    "    pools = chain.get_pools()\n",
    "    usdc_velo = next(iter([p for p in pools if p.token0.token_address == OPChain.usdc.token_address and p.token1.token_address == OPChain.velo.token_address]), None)\n",
    "    print(f\"{usdc_velo.symbol}\")\n",
    "    print(\"-----------------------\")\n",
    "    print(f\"Volume: {usdc_velo.token0_volume} {usdc_velo.token0.symbol} | {usdc_velo.token1_volume} {usdc_velo.token1.symbol} | ${usdc_velo.volume}\")\n",
    "    print(f\"Fees: {usdc_velo.token0_fees.amount} {usdc_velo.token0.symbol} | {usdc_velo.token1_fees.amount} {usdc_velo.token1.symbol} | ${usdc_velo.total_fees}\")\n",
    "    print(f\"TVL: {usdc_velo.reserve0.amount} {usdc_velo.token0.symbol} | {usdc_velo.reserve1.amount} {usdc_velo.token1.symbol} | ${usdc_velo.tvl}\")\n",
    "    print(f\"APR: {usdc_velo.apr}%\")\n",
    "```"
   ]
  },
  {
   "cell_type": "markdown",
   "metadata": {},
   "source": [
    "## Swaps\n",
    "\n",
    "Get a quote and swap: \n",
    "\n",
    "```python\n",
    "from sugar.chains import AsyncOPChain\n",
    "\n",
    "async with AsyncOPChain() as chain:\n",
    "    quote = await op.get_quote(from_token=AsyncOPChain.velo, to_token=AsyncOPChain.eth, amount=10)\n",
    "    # check on quote to see if you are OK with the amount\n",
    "    await op.swap_from_quote(quote)\n",
    "```\n",
    "\n",
    "\"I am Feeling lucky\" swap:\n",
    "\n",
    "```python\n",
    "from sugar.chains import AsyncOPChain\n",
    "\n",
    "async with AsyncOPChain() as chain:\n",
    "    await op.swap(from_token=velo, to_token=eth, amount=10)\n",
    "```\n",
    "\n",
    "> **NOTE**: amount you pass into quote/swap should be a float indicating decimal amount of input token **NOT** amount in wei. Sugar runs conversion for you behind the scenes"
   ]
  },
  {
   "cell_type": "markdown",
   "metadata": {},
   "source": [
    "## Configuration"
   ]
  },
  {
   "cell_type": "markdown",
   "metadata": {},
   "source": [
    "Full list of configuration parameters for Sugar. Chain IDs can be found [here](https://chainlist.org/). Sugar uses decimal versions: Base is `8453`, OP is `10`.\n",
    "\n",
    "|config|env|default value|\n",
    "|-|-|-|\n",
    "|native_token_symbol||ETH|\n",
    "|native_token_decimals||18|\n",
    "|wrapped_native_token_addr|`SUGAR_WRAPPED_NATIVE_TOKEN_ADDR_<CHAIN_ID>`|chain specific|\n",
    "|rpc_uri|`SUGAR_RPC_URI_<CHAIN_ID>`|chain specific|\n",
    "|sugar_contract_addr|`SUGAR_CONTRACT_ADDR_<CHAIN_ID>`|chain specific|\n",
    "|slipstream_contract_addr|`SUGAR_SLIPSTREAM_CONTRACT_ADDR_<CHAIN_ID>`|chain specific|\n",
    "|nfpm_contract_addr|`SUGAR_NFPM_CONTRACT_ADDR`|chain specific|\n",
    "|price_oracle_contract_addr|`SUGAR_PRICE_ORACLE_ADDR_<CHAIN_ID>`|chain specific|\n",
    "|router_contract_addr|`SUGAR_ROUTER_CONTRACT_ADDR_<CHAIN_ID>`|chain specific|\n",
    "|swapper_contract_addr|`SUGAR_ROUTER_SWAPPER_CONTRACT_ADDR_<CHAIN_ID>`|chain specific|\n",
    "|swap_slippage|`SUGAR_SWAP_SLIPPAGE_<CHAIN_ID>`|0.01|\n",
    "|token_addr|`SUGAR_TOKEN_ADDR_<CHAIN_ID>`|chain specific|\n",
    "|stable_token_addr|`SUGAR_STABLE_TOKEN_ADDR_<CHAIN_ID>`|chain specific|\n",
    "|connector_tokens_addrs|`SUGAR_CONNECTOR_TOKENS_ADDRS_<CHAIN_ID>`|chain specific|\n",
    "|excluded_tokens_addrs|`SUGAR_EXCLUDED_TOKENS_ADDRS_<CHAIN_ID>`|chain specific|\n",
    "|price_batch_size|`SUGAR_PRICE_BATCH_SIZE`|40|\n",
    "|price_threshold_filter|`SUGAR_PRICE_THRESHOLD_FILTER`|10|\n",
    "|pool_page_size|`SUGAR_POOL_PAGE_SIZE`|500|\n",
    "|pagination_limit|`SUGAR_PAGINATION_LIMIT`|2000|\n",
    "\n",
    "In order to write to Sugar contracts, you need to set your wallet private key using env var `SUGAR_PK`\n",
    "\n",
    "You can override specific settings in 2 ways:\n",
    "\n",
    "- by setting corresponding env var: `SUGAR_RPC_URI_10=https://myrpc.com`\n",
    "- in code:\n",
    "\n",
    "```python\n",
    "from sugar.chains import OPChain\n",
    "\n",
    "async with OPChain(rpc_uri=\"https://myrpc.com\") as chain:\n",
    "    ...\n",
    "```\n"
   ]
  },
  {
   "cell_type": "markdown",
   "metadata": {},
   "source": [
    "## Contributing to Sugar\n",
    "\n",
    "### Set up and acivate python virtual env\n",
    "\n",
    "```bash\n",
    "python3 -m venv env\n",
    "source env/bin/activate\n",
    "```\n",
    "\n",
    "### Install dependencies \n",
    "\n",
    "```bash\n",
    "pip install nbdev pre-commit\n",
    "pip install -e '.[dev]'\n",
    "```\n",
    "\n",
    "### Install pre-commit hooks for nbdev prep and cleanup\n",
    "\n",
    "```bash\n",
    "pre-commit install\n",
    "```\n",
    "\n",
    "### Regenerate ABIs if needed\n",
    "\n",
    "ABIs for contracts are stored inside `sugar/abis` dir. To regenerate them, use `abis.py` script (make sure you have `ETHERSCAN_API_KEY` env var set). We use [Optimistic Etherscan](https://optimistic.etherscan.io/).\n"
   ]
  },
  {
   "cell_type": "markdown",
   "metadata": {},
   "source": [
    "## Useful links\n",
    "\n",
    "- keep an eye on the latest sugar contract deployment for your favorite chain [here](https://github.com/velodrome-finance/sugar/tree/main/deployments)"
   ]
  }
 ],
 "metadata": {
  "kernelspec": {
   "display_name": "python3",
   "language": "python",
   "name": "python3"
  }
 },
 "nbformat": 4,
 "nbformat_minor": 4
}
