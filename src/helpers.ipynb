{
 "cells": [
  {
   "cell_type": "markdown",
   "metadata": {},
   "source": [
    "# Assorted helpers"
   ]
  },
  {
   "cell_type": "code",
   "execution_count": null,
   "metadata": {},
   "outputs": [],
   "source": [
    "#| default_exp helpers"
   ]
  },
  {
   "cell_type": "code",
   "execution_count": null,
   "metadata": {},
   "outputs": [],
   "source": [
    "#| export\n",
    "\n",
    "from json import dumps\n",
    "from web3 import Web3, constants\n",
    "from eth_abi import encode\n",
    "from typing import List, Tuple, Optional, Callable\n",
    "from decimal import Decimal, getcontext\n",
    "from datetime import datetime, timedelta\n",
    "from dataclasses import dataclass\n",
    "import networkx as nx\n",
    "import math, time, asyncio, decimal, secrets, socket\n",
    "from contextlib import contextmanager, asynccontextmanager\n",
    "from fastcore.test import test_eq"
   ]
  },
  {
   "cell_type": "code",
   "execution_count": null,
   "metadata": {},
   "outputs": [],
   "source": [
    "#| export\n",
    "\n",
    "def normalize_address(address: str) -> str: return Web3.to_checksum_address(address.lower())\n",
    "\n",
    "ADDRESS_ZERO = constants.ADDRESS_ZERO\n",
    "MAX_UINT256 = Web3.to_int(hexstr='0x' + 'f' * 64)\n",
    "\n",
    "def chunk(list_to_chunk: List, n: int):\n",
    "    for i in range(0, len(list_to_chunk), n):\n",
    "        yield list_to_chunk[i : i + n]\n",
    "\n",
    "\n",
    "def amount_to_k_string(amount: float) -> str:\n",
    "    \"\"\"Turns 2000 to \"2K\" \"\"\"\n",
    "    return f\"{round(amount/1000, 2)}K\"\n",
    "\n",
    "\n",
    "def format_currency(value: float, symbol: str = \"$\", prefix: bool = True) -> str:\n",
    "    v = \"{:0,.2f}\".format(value)\n",
    "    return f\"{symbol}{v}\" if prefix else f\"{v} {symbol}\"\n",
    "\n",
    "\n",
    "def format_percentage(value: float) -> str:\n",
    "    return \"{:0,.2f} %\".format(value)\n",
    "\n",
    "\n",
    "def amount_to_m_string(amount: float) -> str:\n",
    "    \"\"\"Turns 2000000 to \"2M\" \"\"\"\n",
    "    return f\"{round(amount/1000000, 2)}M\""
   ]
  },
  {
   "cell_type": "code",
   "execution_count": null,
   "metadata": {},
   "outputs": [],
   "source": [
    "#| export\n",
    "\n",
    "def float_to_uint256(amount: float, decimals: int = 18) -> int:\n",
    "    \"\"\"Convert float to uint256 with decimal scaling\"\"\"\n",
    "    # Convert float to Decimal for precision\n",
    "    amount_decimal = Decimal(str(amount))\n",
    "    # Scale by decimals\n",
    "    scaled_amount = amount_decimal * Decimal(10 ** decimals)\n",
    "    # Convert to integer\n",
    "    return int(scaled_amount)"
   ]
  },
  {
   "cell_type": "code",
   "execution_count": null,
   "metadata": {},
   "outputs": [
    {
     "data": {
      "text/plain": [
       "1000000000000000000"
      ]
     },
     "execution_count": null,
     "metadata": {},
     "output_type": "execute_result"
    }
   ],
   "source": [
    "float_to_uint256(1.0, 18)"
   ]
  },
  {
   "cell_type": "code",
   "execution_count": null,
   "metadata": {},
   "outputs": [],
   "source": [
    "#| export\n",
    "\n",
    "def get_future_timestamp(deadline_minutes: float) -> int:\n",
    "    \"\"\"Convert minutes from now to future unix timestamp\"\"\"\n",
    "    future_time = datetime.now() + timedelta(minutes=deadline_minutes)\n",
    "    return int(future_time.timestamp())"
   ]
  },
  {
   "cell_type": "code",
   "execution_count": null,
   "metadata": {},
   "outputs": [
    {
     "data": {
      "text/plain": [
       "1750942347"
      ]
     },
     "execution_count": null,
     "metadata": {},
     "output_type": "execute_result"
    }
   ],
   "source": [
    "get_future_timestamp(5)"
   ]
  },
  {
   "cell_type": "code",
   "execution_count": null,
   "metadata": {},
   "outputs": [],
   "source": [
    "#| export\n",
    "\n",
    "def apply_slippage(amount: int, slippage: float) -> int:\n",
    "    if slippage < 0 or slippage > 1: raise ValueError(\"Slippage must be between 0 and 1\")\n",
    "    return int(math.ceil(amount * (1 - slippage)))"
   ]
  },
  {
   "cell_type": "code",
   "execution_count": null,
   "metadata": {},
   "outputs": [],
   "source": [
    "#| export\n",
    "\n",
    "def parse_ether(ether: str) -> int:\n",
    "    # Set precision high enough to handle 18 decimal places\n",
    "    getcontext().prec = 50\n",
    "    \n",
    "    try:\n",
    "        # Convert to Decimal for precise arithmetic\n",
    "        ether_decimal = Decimal(str(ether))\n",
    "        \n",
    "        # Convert to wei (multiply by 10^18)\n",
    "        wei_decimal = ether_decimal * Decimal('1000000000000000000')\n",
    "        \n",
    "        # Convert to integer\n",
    "        return int(wei_decimal)\n",
    "    \n",
    "    except (ValueError, TypeError, decimal.InvalidOperation) as e:\n",
    "        raise ValueError(f\"Invalid ether value: {ether}\") from e"
   ]
  },
  {
   "cell_type": "code",
   "execution_count": null,
   "metadata": {},
   "outputs": [],
   "source": [
    "#| export\n",
    "\n",
    "def get_unique_str(length: int) -> str:\n",
    "    \"\"\"\n",
    "    Generate a cryptographically secure random string of specified length.\n",
    "    \n",
    "    This is the Python equivalent of the TypeScript function using crypto.getRandomValues().\n",
    "    Uses secrets module for cryptographic security.\n",
    "    \n",
    "    Args:\n",
    "        length: Desired length of the random string\n",
    "        \n",
    "    Returns:\n",
    "        str: Random string of specified length containing digits\n",
    "        \n",
    "    Examples:\n",
    "        >>> len(get_unique_str(10))\n",
    "        10\n",
    "        >>> get_unique_str(5).isdigit()\n",
    "        True\n",
    "    \"\"\"\n",
    "    # Generate random bytes and convert to string of digits\n",
    "    random_bytes = secrets.token_bytes(length)\n",
    "    return ''.join(str(byte % 10) for byte in random_bytes)[:length]\n",
    "\n",
    "def get_salt() -> str: return f\"0x{get_unique_str(64)}\" "
   ]
  },
  {
   "cell_type": "code",
   "execution_count": null,
   "metadata": {},
   "outputs": [
    {
     "data": {
      "text/plain": [
       "'7635613601916267396248769565479189614153287360361504658375907466'"
      ]
     },
     "execution_count": null,
     "metadata": {},
     "output_type": "execute_result"
    }
   ],
   "source": [
    "get_unique_str(64)"
   ]
  },
  {
   "cell_type": "code",
   "execution_count": null,
   "metadata": {},
   "outputs": [],
   "source": [
    "#| export\n",
    "\n",
    "def to_bytes32(val: str) -> bytes: \n",
    "    # Remove 0x prefix and pad to 64 hex characters (32 bytes)\n",
    "    hex_val = val.replace('0x', '').zfill(64)\n",
    "    return bytes.fromhex(hex_val)\n",
    "\n",
    "def to_bytes32_str(val: str) -> str: return f\"0x{to_bytes32(val).hex()}\""
   ]
  },
  {
   "cell_type": "code",
   "execution_count": null,
   "metadata": {},
   "outputs": [],
   "source": [
    "from fastcore.test import test_eq"
   ]
  },
  {
   "cell_type": "code",
   "execution_count": null,
   "metadata": {},
   "outputs": [],
   "source": [
    "test_eq(str(type(to_bytes32(\"0x1217bfe6c773eec6cc4a38b5dc45b92292b6e189\"))), \"<class 'bytes'>\")\n",
    "\n",
    "test_eq(to_bytes32(\"0x1217bfe6c773eec6cc4a38b5dc45b92292b6e189\").hex(), \"0000000000000000000000001217bfe6c773eec6cc4a38b5dc45b92292b6e189\".lower())\n",
    "test_eq(to_bytes32(\"0x1174A4719FaF964AfE2179A404b4830EC0DCB8D5\").hex(), \"0000000000000000000000001174A4719FaF964AfE2179A404b4830EC0DCB8D5\".lower())\n",
    "test_eq(to_bytes32(\"0x0000000000000000000000000000000000000000\").hex(), \"0000000000000000000000000000000000000000000000000000000000000000\".lower())\n",
    "test_eq(to_bytes32(ADDRESS_ZERO).hex(), \"0000000000000000000000000000000000000000000000000000000000000000\")\n",
    "\n",
    "test_eq(to_bytes32_str(\"0x1217bfe6c773eec6cc4a38b5dc45b92292b6e189\"), \"0x0000000000000000000000001217bfe6c773eec6cc4a38b5dc45b92292b6e189\")"
   ]
  },
  {
   "cell_type": "code",
   "execution_count": null,
   "metadata": {},
   "outputs": [],
   "source": [
    "test_eq(parse_ether(\"1\"), 1000000000000000000)\n",
    "test_eq(parse_ether(\"0.5\"), 500000000000000000)\n",
    "test_eq(parse_ether(\"1.5\"), 1500000000000000000)\n",
    "test_eq(parse_ether(\"0.001\"), 1000000000000000)"
   ]
  },
  {
   "cell_type": "code",
   "execution_count": null,
   "metadata": {},
   "outputs": [],
   "source": [
    "# 0.05% slippage\n",
    "test_eq(apply_slippage(232165, 0.05 / 100), 232049)\n",
    "\n",
    "# 1% slippage\n",
    "test_eq(apply_slippage(232165, 1 / 100), 229844)\n",
    "\n",
    "# 5% slippage\n",
    "test_eq(apply_slippage(232165, 5 / 100), 220557)\n",
    "\n",
    "# 0.01% slippage\n",
    "test_eq(apply_slippage(19936, 0.01 / 100), 19935)\n",
    "\n",
    "# 0.1% slippage\n",
    "test_eq(apply_slippage(19936, 0.1 / 100), 19917)"
   ]
  },
  {
   "cell_type": "markdown",
   "metadata": {},
   "source": [
    "## Graph department\n",
    "\n",
    "This is where all the nerds hang out"
   ]
  },
  {
   "cell_type": "code",
   "execution_count": null,
   "metadata": {},
   "outputs": [],
   "source": [
    "#| export\n",
    "# Claude 3.7 sonnet made this\n",
    "\n",
    "@dataclass\n",
    "class Pair: token0: str; token1: str; pool: str\n",
    "\n",
    "def find_all_paths(pairs: List[Pair], start_token: str, end_token: str, cutoff=3) -> List[List[Tuple]]:\n",
    "    # MultiGraph required to support parallel edges\n",
    "    # same tokens can be present in different pools, hence parallel edges\n",
    "    # specific pool identifier is stored inside edge attribute\n",
    "    G, complete_paths = nx.MultiGraph(), []\n",
    "    for pair in pairs: G.add_edge(pair.token0, pair.token1, pool=pair.pool)\n",
    "    node_paths =  [p for p in nx.all_simple_paths(G, source=start_token, target=end_token, cutoff=cutoff)]\n",
    "    for path in node_paths:\n",
    "        edge_path = []\n",
    "        # For each consecutive pair of nodes in the path\n",
    "        for i in range(len(path) - 1):\n",
    "            current = path[i]\n",
    "            next_node = path[i + 1]\n",
    "            \n",
    "            # Get all edges between these nodes\n",
    "            edges = G.get_edge_data(current, next_node)\n",
    "            \n",
    "            # There might be multiple edges (pools) between these nodes\n",
    "            # Add all possible edges to create different complete paths\n",
    "            current_paths = [] if not edge_path else edge_path.copy()\n",
    "            new_edge_paths = []\n",
    "            \n",
    "            # If this is the first segment, initialize with empty path\n",
    "            if not current_paths:\n",
    "                current_paths = [[]]\n",
    "                \n",
    "            # For each possible edge between current and next_node\n",
    "            for edge_key, edge_attrs in edges.items():\n",
    "                pool = edge_attrs['pool']\n",
    "                for current_path in current_paths:\n",
    "                    # Create a new path that includes this edge\n",
    "                    new_path = current_path + [(current, next_node, pool)]\n",
    "                    new_edge_paths.append(new_path)\n",
    "            \n",
    "            edge_path = new_edge_paths\n",
    "        \n",
    "        # Add all possible edge paths to the complete paths\n",
    "        complete_paths.extend(edge_path)\n",
    "    \n",
    "    # seen is a list of strings that look like this [\"pool1-pool2-pool3\", ...]\n",
    "    uniques, seen = [], []\n",
    "\n",
    "    for path in complete_paths:\n",
    "        p = '-'.join(map(lambda x: x[2], path))\n",
    "        if p not in seen:\n",
    "            uniques.append(path)\n",
    "            seen.append(p)\n",
    "\n",
    "    # remove duplicates\n",
    "    return uniques\n"
   ]
  },
  {
   "cell_type": "code",
   "execution_count": null,
   "metadata": {},
   "outputs": [
    {
     "name": "stdout",
     "output_type": "stream",
     "text": [
      "All paths from A to C:\n",
      "Path 1: pool1 -> pool2\n",
      "Path 1: pool12 -> pool2\n",
      "Path 1: pool13 -> pool2\n",
      "Path 1: pool1 -> pool5 -> pool4\n",
      "Path 1: pool12 -> pool5 -> pool4\n",
      "Path 1: pool13 -> pool5 -> pool4\n",
      "Path 1: pool3 -> pool4\n",
      "Path 1: pool3 -> pool5 -> pool2\n",
      "Path 1: pool7 -> pool6\n",
      "Path 2: pool1 -> pool2\n",
      "Path 2: pool12 -> pool2\n",
      "Path 2: pool13 -> pool2\n",
      "Path 2: pool1 -> pool5 -> pool4\n",
      "Path 2: pool12 -> pool5 -> pool4\n",
      "Path 2: pool13 -> pool5 -> pool4\n",
      "Path 2: pool3 -> pool4\n",
      "Path 2: pool3 -> pool5 -> pool2\n",
      "Path 2: pool7 -> pool6\n",
      "Path 3: pool1 -> pool2\n",
      "Path 3: pool12 -> pool2\n",
      "Path 3: pool13 -> pool2\n",
      "Path 3: pool1 -> pool5 -> pool4\n",
      "Path 3: pool12 -> pool5 -> pool4\n",
      "Path 3: pool13 -> pool5 -> pool4\n",
      "Path 3: pool3 -> pool4\n",
      "Path 3: pool3 -> pool5 -> pool2\n",
      "Path 3: pool7 -> pool6\n",
      "Path 4: pool1 -> pool2\n",
      "Path 4: pool12 -> pool2\n",
      "Path 4: pool13 -> pool2\n",
      "Path 4: pool1 -> pool5 -> pool4\n",
      "Path 4: pool12 -> pool5 -> pool4\n",
      "Path 4: pool13 -> pool5 -> pool4\n",
      "Path 4: pool3 -> pool4\n",
      "Path 4: pool3 -> pool5 -> pool2\n",
      "Path 4: pool7 -> pool6\n",
      "Path 5: pool1 -> pool2\n",
      "Path 5: pool12 -> pool2\n",
      "Path 5: pool13 -> pool2\n",
      "Path 5: pool1 -> pool5 -> pool4\n",
      "Path 5: pool12 -> pool5 -> pool4\n",
      "Path 5: pool13 -> pool5 -> pool4\n",
      "Path 5: pool3 -> pool4\n",
      "Path 5: pool3 -> pool5 -> pool2\n",
      "Path 5: pool7 -> pool6\n",
      "Path 6: pool1 -> pool2\n",
      "Path 6: pool12 -> pool2\n",
      "Path 6: pool13 -> pool2\n",
      "Path 6: pool1 -> pool5 -> pool4\n",
      "Path 6: pool12 -> pool5 -> pool4\n",
      "Path 6: pool13 -> pool5 -> pool4\n",
      "Path 6: pool3 -> pool4\n",
      "Path 6: pool3 -> pool5 -> pool2\n",
      "Path 6: pool7 -> pool6\n",
      "Path 7: pool1 -> pool2\n",
      "Path 7: pool12 -> pool2\n",
      "Path 7: pool13 -> pool2\n",
      "Path 7: pool1 -> pool5 -> pool4\n",
      "Path 7: pool12 -> pool5 -> pool4\n",
      "Path 7: pool13 -> pool5 -> pool4\n",
      "Path 7: pool3 -> pool4\n",
      "Path 7: pool3 -> pool5 -> pool2\n",
      "Path 7: pool7 -> pool6\n",
      "Path 8: pool1 -> pool2\n",
      "Path 8: pool12 -> pool2\n",
      "Path 8: pool13 -> pool2\n",
      "Path 8: pool1 -> pool5 -> pool4\n",
      "Path 8: pool12 -> pool5 -> pool4\n",
      "Path 8: pool13 -> pool5 -> pool4\n",
      "Path 8: pool3 -> pool4\n",
      "Path 8: pool3 -> pool5 -> pool2\n",
      "Path 8: pool7 -> pool6\n",
      "Path 9: pool1 -> pool2\n",
      "Path 9: pool12 -> pool2\n",
      "Path 9: pool13 -> pool2\n",
      "Path 9: pool1 -> pool5 -> pool4\n",
      "Path 9: pool12 -> pool5 -> pool4\n",
      "Path 9: pool13 -> pool5 -> pool4\n",
      "Path 9: pool3 -> pool4\n",
      "Path 9: pool3 -> pool5 -> pool2\n",
      "Path 9: pool7 -> pool6\n",
      "\n",
      "All paths from X to Z in a cyclical graph:\n",
      "Path 1: pool8 -> pool9\n",
      "Path 2: pool10\n"
     ]
    }
   ],
   "source": [
    " # Example pairs - including a cycle\n",
    "pairs = [\n",
    "    Pair(\"A\", \"B\", \"pool1\"),\n",
    "    Pair(\"A\", \"B\", \"pool12\"),\n",
    "    Pair(\"A\", \"B\", \"pool13\"),\n",
    "    Pair(\"B\", \"C\", \"pool2\"),\n",
    "    Pair(\"A\", \"D\", \"pool3\"),\n",
    "    Pair(\"D\", \"C\", \"pool4\"),\n",
    "    Pair(\"B\", \"D\", \"pool5\"),\n",
    "    Pair(\"C\", \"E\", \"pool6\"),\n",
    "    Pair(\"E\", \"A\", \"pool7\"),\n",
    "]\n",
    "\n",
    "# Find paths from A to C\n",
    "paths = find_all_paths(pairs, \"A\", \"C\")\n",
    "\n",
    "print(f\"All paths from A to C:\")\n",
    "for i, path in enumerate(paths):\n",
    "    for path in paths:\n",
    "        print(f\"Path {i+1}: {' -> '.join(list(map(lambda x: x[2], path)))}\")\n",
    "    \n",
    "# Let's also test with a different example involving a cycle\n",
    "cycle_pairs = [\n",
    "    Pair(\"X\", \"Y\", \"pool8\"),\n",
    "    Pair(\"Y\", \"Z\", \"pool9\"),\n",
    "    Pair(\"Z\", \"X\", \"pool10\"),\n",
    "]\n",
    "\n",
    "# Find paths from X to Z\n",
    "cycle_paths = find_all_paths(cycle_pairs, \"X\", \"Z\")\n",
    "\n",
    "print(f\"\\nAll paths from X to Z in a cyclical graph:\")\n",
    "for i, path in enumerate(cycle_paths):\n",
    "    print(f\"Path {i+1}: {' -> '.join(list(map(lambda x: x[2], path)))}\")"
   ]
  },
  {
   "cell_type": "markdown",
   "metadata": {},
   "source": [
    "## Superswaps helpers"
   ]
  },
  {
   "cell_type": "code",
   "execution_count": null,
   "metadata": {},
   "outputs": [],
   "source": [
    "# | export\n",
    "\n",
    "\n",
    "# TODO: get rid of ICACallData, use tuples instead\n",
    "@dataclass(frozen=True)\n",
    "class ICACallData: to: str; value: int; data: str\n",
    "\n",
    "\n",
    "def hash_ICA_calls(calls: List[ICACallData], salt: str) -> bytes:\n",
    "  call_tuples = [(bytes.fromhex(call.to.replace('0x', '')), call.value, bytes.fromhex(call.data.replace('0x', '')))  for call in calls]\n",
    "  encoded = encode([\"(bytes32,uint256,bytes)[]\"], [call_tuples])\n",
    "  return Web3.keccak(hexstr=f\"{salt}{encoded.hex()}\")\n",
    "\n",
    "def serialize_ica_calls(calls: List[ICACallData]) -> List[dict]:\n",
    "    \"\"\"\n",
    "    Convert a list of ICACallData to JSON string.\n",
    "    \"\"\"\n",
    "    return list(map(lambda call: {\"to\": call.to, \"value\": str(call.value), \"data\": call.data}, calls))"
   ]
  },
  {
   "cell_type": "code",
   "execution_count": null,
   "metadata": {},
   "outputs": [],
   "source": [
    "r = hash_ICA_calls(calls=[\n",
    "  ICACallData(\n",
    "    to=\"0x0000000000000000000000001217bfe6c773eec6cc4a38b5dc45b92292b6e189\",\n",
    "    value=0,\n",
    "    data=\"0x095ea7b30000000000000000000000006df1c91424f79e40e33b1a48f0687b666be710750000000000000000000000000000000000000000000000000000000000413bdc\"\n",
    "  ),\n",
    "  ICACallData(\n",
    "    to=\"0x0000000000000000000000006Df1c91424F79E40E33B1A48F0687B666bE71075\",\n",
    "    value=0,\n",
    "    data=\"0x24856bc3000000000000000000000000000000000000000000000000000000000000004000000000000000000000000000000000000000000000000000000000000000800000000000000000000000000000000000000000000000000000000000000002a1a1000000000000000000000000000000000000000000000000000000000000000000000000000000000000000000000000000000000000000000000000000200000000000000000000000000000000000000000000000000000000000000400000000000000000000000000000000000000000000000000000000000000260000000000000000000000000000000000000000000000000000000000000020000000000000000000000000000000000000000000000000000000000000000400000000000000000000000000000000000000000000000000000000000000080000000000000000000000000000000000000000000000000000000000000000100000000000000000000000000000000000000000000000000000000000000000000000000000000000000000000000000000000000000000000000000000001000000000000000000000000000000000000000000000000000000000000002000000000000000000000000000000000000000000000000000000000000001200000000000000000000000001e7a6b63f98484514610a9f0d5b399d4f7a9b1da00000000000000000000000000000000000000000000000000000000000ffc0300000000000000000000000000000000000000000000000000000000000fd48500000000000000000000000000000000000000000000000000000000000000c000000000000000000000000000000000000000000000000000000000000000010000000000000000000000000000000000000000000000000000000000000000000000000000000000000000000000000000000000000000000000000000002b1217bfe6c773eec6cc4a38b5dc45b92292b6e189000001078d782b760474a361dda0af3839290b0ef57ad6000000000000000000000000000000000000000000000000000000000000000000000000000000000000000000000000000000014000000000000000000000000000000000000000000000000000000000000000400000000000000000000000000000000000000000000000000000000000000080000000000000000000000000000000000000000000000000000000000000000107000000000000000000000000000000000000000000000000000000000000000000000000000000000000000000000000000000000000000000000000000001000000000000000000000000000000000000000000000000000000000000002000000000000000000000000000000000000000000000000000000000000000600000000000000000000000001217bfe6c773eec6cc4a38b5dc45b92292b6e1890000000000000000000000001e7a6b63f98484514610a9f0d5b399d4f7a9b1da8000000000000000000000000000000000000000000000000000000000000000\"\n",
    "  ),\n",
    "], salt=\"0x2098192114821323714521814891133166129651266242167207511481761894\")\n",
    "\n",
    "test_eq(r.hex(), \"81dccec12150cf3c23f3163872679f68986cbb5f877ae3b59d59813feb9b4afe\".lower())"
   ]
  },
  {
   "cell_type": "code",
   "execution_count": null,
   "metadata": {},
   "outputs": [
    {
     "data": {
      "text/plain": [
       "[{'to': '0x0000000000000000000000001217bfe6c773eec6cc4a38b5dc45b92292b6e189',\n",
       "  'value': '0',\n",
       "  'data': '0x095ea7b30000000000000000000000006df1c91424f79e40e33b1a48f0687b666be710750000000000000000000000000000000000000000000000000000000000413bdc'},\n",
       " {'to': '0x0000000000000000000000006Df1c91424F79E40E33B1A48F0687B666bE71075',\n",
       "  'value': '0',\n",
       "  'data': '0x24856bc3000000000000000000000000000000000000000000000000000000000000004000000000000000000000000000000000000000000000000000000000000000800000000000000000000000000000000000000000000000000000000000000002a1a1000000000000000000000000000000000000000000000000000000000000000000000000000000000000000000000000000000000000000000000000000200000000000000000000000000000000000000000000000000000000000000400000000000000000000000000000000000000000000000000000000000000260000000000000000000000000000000000000000000000000000000000000020000000000000000000000000000000000000000000000000000000000000000400000000000000000000000000000000000000000000000000000000000000080000000000000000000000000000000000000000000000000000000000000000100000000000000000000000000000000000000000000000000000000000000000000000000000000000000000000000000000000000000000000000000000001000000000000000000000000000000000000000000000000000000000000002000000000000000000000000000000000000000000000000000000000000001200000000000000000000000001e7a6b63f98484514610a9f0d5b399d4f7a9b1da00000000000000000000000000000000000000000000000000000000000ffc0300000000000000000000000000000000000000000000000000000000000fd48500000000000000000000000000000000000000000000000000000000000000c000000000000000000000000000000000000000000000000000000000000000010000000000000000000000000000000000000000000000000000000000000000000000000000000000000000000000000000000000000000000000000000002b1217bfe6c773eec6cc4a38b5dc45b92292b6e189000001078d782b760474a361dda0af3839290b0ef57ad6000000000000000000000000000000000000000000000000000000000000000000000000000000000000000000000000000000014000000000000000000000000000000000000000000000000000000000000000400000000000000000000000000000000000000000000000000000000000000080000000000000000000000000000000000000000000000000000000000000000107000000000000000000000000000000000000000000000000000000000000000000000000000000000000000000000000000000000000000000000000000001000000000000000000000000000000000000000000000000000000000000002000000000000000000000000000000000000000000000000000000000000000600000000000000000000000001217bfe6c773eec6cc4a38b5dc45b92292b6e1890000000000000000000000001e7a6b63f98484514610a9f0d5b399d4f7a9b1da8000000000000000000000000000000000000000000000000000000000000000'}]"
      ]
     },
     "execution_count": null,
     "metadata": {},
     "output_type": "execute_result"
    }
   ],
   "source": [
    "serialize_ica_calls([\n",
    "  ICACallData(\n",
    "    to=\"0x0000000000000000000000001217bfe6c773eec6cc4a38b5dc45b92292b6e189\",\n",
    "    value=0,\n",
    "    data=\"0x095ea7b30000000000000000000000006df1c91424f79e40e33b1a48f0687b666be710750000000000000000000000000000000000000000000000000000000000413bdc\"\n",
    "  ),\n",
    "  ICACallData(\n",
    "    to=\"0x0000000000000000000000006Df1c91424F79E40E33B1A48F0687B666bE71075\",\n",
    "    value=0,\n",
    "    data=\"0x24856bc3000000000000000000000000000000000000000000000000000000000000004000000000000000000000000000000000000000000000000000000000000000800000000000000000000000000000000000000000000000000000000000000002a1a1000000000000000000000000000000000000000000000000000000000000000000000000000000000000000000000000000000000000000000000000000200000000000000000000000000000000000000000000000000000000000000400000000000000000000000000000000000000000000000000000000000000260000000000000000000000000000000000000000000000000000000000000020000000000000000000000000000000000000000000000000000000000000000400000000000000000000000000000000000000000000000000000000000000080000000000000000000000000000000000000000000000000000000000000000100000000000000000000000000000000000000000000000000000000000000000000000000000000000000000000000000000000000000000000000000000001000000000000000000000000000000000000000000000000000000000000002000000000000000000000000000000000000000000000000000000000000001200000000000000000000000001e7a6b63f98484514610a9f0d5b399d4f7a9b1da00000000000000000000000000000000000000000000000000000000000ffc0300000000000000000000000000000000000000000000000000000000000fd48500000000000000000000000000000000000000000000000000000000000000c000000000000000000000000000000000000000000000000000000000000000010000000000000000000000000000000000000000000000000000000000000000000000000000000000000000000000000000000000000000000000000000002b1217bfe6c773eec6cc4a38b5dc45b92292b6e189000001078d782b760474a361dda0af3839290b0ef57ad6000000000000000000000000000000000000000000000000000000000000000000000000000000000000000000000000000000014000000000000000000000000000000000000000000000000000000000000000400000000000000000000000000000000000000000000000000000000000000080000000000000000000000000000000000000000000000000000000000000000107000000000000000000000000000000000000000000000000000000000000000000000000000000000000000000000000000000000000000000000000000001000000000000000000000000000000000000000000000000000000000000002000000000000000000000000000000000000000000000000000000000000000600000000000000000000000001217bfe6c773eec6cc4a38b5dc45b92292b6e1890000000000000000000000001e7a6b63f98484514610a9f0d5b399d4f7a9b1da8000000000000000000000000000000000000000000000000000000000000000\"\n",
    "  ),\n",
    "])"
   ]
  },
  {
   "cell_type": "markdown",
   "metadata": {},
   "source": [
    "## Home made timer helper for benchmarking"
   ]
  },
  {
   "cell_type": "code",
   "execution_count": null,
   "metadata": {},
   "outputs": [],
   "source": [
    "#| export\n",
    "# Claude 4 sonnet made this\n",
    "\n",
    "class Timer:\n",
    "    \"\"\"Simple timer utility for measuring execution time\"\"\"\n",
    "    \n",
    "    def __init__(self, name: str = \"Operation\", precision: int = 4, callback: Optional[Callable] = None):\n",
    "        self.name = name\n",
    "        self.precision = precision\n",
    "        self.callback = callback\n",
    "        self.start_time: Optional[float] = None\n",
    "        self.end_time: Optional[float] = None\n",
    "        self.elapsed: Optional[float] = None\n",
    "    \n",
    "    def __enter__(self):\n",
    "        self.start_time = time.perf_counter()\n",
    "        return self\n",
    "    \n",
    "    def __exit__(self, exc_type, exc_val, exc_tb):\n",
    "        self.end_time = time.perf_counter()\n",
    "        self.elapsed = self.end_time - self.start_time\n",
    "        result = f\"{self.name} took {self.elapsed:.{self.precision}f} seconds\"\n",
    "        \n",
    "        if self.callback:\n",
    "            self.callback(self.elapsed, result)\n",
    "        else:\n",
    "            print(result)\n",
    "    \n",
    "    async def __aenter__(self):\n",
    "        self.start_time = time.perf_counter()\n",
    "        return self\n",
    "    \n",
    "    async def __aexit__(self, exc_type, exc_val, exc_tb):\n",
    "        self.end_time = time.perf_counter()\n",
    "        self.elapsed = self.end_time - self.start_time\n",
    "        result = f\"{self.name} took {self.elapsed:.{self.precision}f} seconds\"\n",
    "        \n",
    "        if self.callback:\n",
    "            if asyncio.iscoroutinefunction(self.callback):\n",
    "                await self.callback(self.elapsed, result)\n",
    "            else:\n",
    "                self.callback(self.elapsed, result)\n",
    "        else:\n",
    "            print(result)\n",
    "\n",
    "@contextmanager\n",
    "def time_it(name: str = \"Operation\", precision: int = 4, callback: Optional[Callable] = None):\n",
    "    \"\"\"Context manager for timing synchronous code execution\"\"\"\n",
    "    timer = Timer(name, precision, callback)\n",
    "    with timer:\n",
    "        yield timer\n",
    "\n",
    "@asynccontextmanager\n",
    "async def atime_it(name: str = \"Operation\", precision: int = 4, callback: Optional[Callable] = None):\n",
    "    \"\"\"Async context manager for timing asynchronous code execution\"\"\"\n",
    "    timer = Timer(name, precision, callback)\n",
    "    async with timer:\n",
    "        yield timer"
   ]
  },
  {
   "cell_type": "markdown",
   "metadata": {},
   "source": [
    "Here's how to use it"
   ]
  },
  {
   "cell_type": "code",
   "execution_count": null,
   "metadata": {},
   "outputs": [
    {
     "name": "stdout",
     "output_type": "stream",
     "text": [
      "Calling sugar onchain took 1.0041 seconds\n",
      "Another API call took 1.0025 seconds\n"
     ]
    }
   ],
   "source": [
    "# Synchronous code\n",
    "with time_it(\"Calling sugar onchain\"):\n",
    "    # Your database query here\n",
    "    time.sleep(1)\n",
    "\n",
    "# Asynchronous code\n",
    "async with atime_it(\"Another API call\"):\n",
    "    await asyncio.sleep(1)"
   ]
  },
  {
   "cell_type": "code",
   "execution_count": null,
   "metadata": {},
   "outputs": [],
   "source": [
    "#| export\n",
    "\n",
    "def require_supersim():\n",
    "    try:\n",
    "        sock = socket.socket(socket.AF_INET, socket.SOCK_STREAM)\n",
    "        sock.settimeout(2)\n",
    "        result = sock.connect_ex(('127.0.0.1', 4444))\n",
    "        # are you running supersim?\n",
    "        test_eq(result, 0)\n",
    "    except socket.error as err:\n",
    "        test_eq(err, None)\n",
    "    finally:\n",
    "        sock.close()"
   ]
  },
  {
   "cell_type": "code",
   "execution_count": null,
   "metadata": {},
   "outputs": [],
   "source": [
    "#| hide\n",
    "import nbdev; nbdev.nbdev_export()"
   ]
  }
 ],
 "metadata": {
  "kernelspec": {
   "display_name": "python3",
   "language": "python",
   "name": "python3"
  }
 },
 "nbformat": 4,
 "nbformat_minor": 2
}
