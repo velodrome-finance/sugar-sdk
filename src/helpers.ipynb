{
 "cells": [
  {
   "cell_type": "markdown",
   "metadata": {},
   "source": [
    "# Assorted helpers"
   ]
  },
  {
   "cell_type": "code",
   "execution_count": null,
   "metadata": {},
   "outputs": [],
   "source": [
    "#| default_exp helpers"
   ]
  },
  {
   "cell_type": "code",
   "execution_count": null,
   "metadata": {},
   "outputs": [],
   "source": [
    "#| export\n",
    "\n",
    "from web3 import Web3, constants\n",
    "from typing import List\n",
    "from decimal import Decimal\n",
    "from datetime import datetime, timedelta\n",
    "from dataclasses import dataclass"
   ]
  },
  {
   "cell_type": "code",
   "execution_count": null,
   "metadata": {},
   "outputs": [],
   "source": [
    "#| export\n",
    "\n",
    "def normalize_address(address: str) -> str: return Web3.to_checksum_address(address.lower())\n",
    "\n",
    "ADDRESS_ZERO = constants.ADDRESS_ZERO\n",
    "MAX_UINT256 = Web3.to_int(hexstr='0x' + 'f' * 64)\n",
    "\n",
    "# def is_address(value: str) -> bool:\n",
    "#     return Web3.is_address(value)\n",
    "\n",
    "\n",
    "# def cache_in_seconds(seconds: int):\n",
    "#     return alru_cache(ttl=seconds)\n",
    "\n",
    "def chunk(list_to_chunk: List, n: int):\n",
    "    for i in range(0, len(list_to_chunk), n):\n",
    "        yield list_to_chunk[i : i + n]\n",
    "\n",
    "\n",
    "def amount_to_k_string(amount: float) -> str:\n",
    "    \"\"\"Turns 2000 to \"2K\" \"\"\"\n",
    "    return f\"{round(amount/1000, 2)}K\"\n",
    "\n",
    "\n",
    "def format_currency(value: float, symbol: str = \"$\", prefix: bool = True) -> str:\n",
    "    v = \"{:0,.2f}\".format(value)\n",
    "    return f\"{symbol}{v}\" if prefix else f\"{v} {symbol}\"\n",
    "\n",
    "\n",
    "def format_percentage(value: float) -> str:\n",
    "    return \"{:0,.2f} %\".format(value)\n",
    "\n",
    "\n",
    "def amount_to_m_string(amount: float) -> str:\n",
    "    \"\"\"Turns 2000000 to \"2M\" \"\"\"\n",
    "    return f\"{round(amount/1000000, 2)}M\""
   ]
  },
  {
   "cell_type": "code",
   "execution_count": null,
   "metadata": {},
   "outputs": [],
   "source": [
    "#| export\n",
    "\n",
    "def float_to_uint256(amount: float, decimals: int = 18) -> int:\n",
    "    \"\"\"Convert float to uint256 with decimal scaling\"\"\"\n",
    "    # Convert float to Decimal for precision\n",
    "    amount_decimal = Decimal(str(amount))\n",
    "    # Scale by decimals\n",
    "    scaled_amount = amount_decimal * Decimal(10 ** decimals)\n",
    "    # Convert to integer\n",
    "    return int(scaled_amount)"
   ]
  },
  {
   "cell_type": "code",
   "execution_count": null,
   "metadata": {},
   "outputs": [
    {
     "data": {
      "text/plain": [
       "1000000000000000000"
      ]
     },
     "execution_count": null,
     "metadata": {},
     "output_type": "execute_result"
    }
   ],
   "source": [
    "float_to_uint256(1.0, 18)"
   ]
  },
  {
   "cell_type": "code",
   "execution_count": null,
   "metadata": {},
   "outputs": [],
   "source": [
    "#| export\n",
    "\n",
    "def get_future_timestamp(deadline_minutes: float) -> int:\n",
    "    \"\"\"Convert minutes from now to future unix timestamp\"\"\"\n",
    "    future_time = datetime.now() + timedelta(minutes=deadline_minutes)\n",
    "    return int(future_time.timestamp())"
   ]
  },
  {
   "cell_type": "code",
   "execution_count": null,
   "metadata": {},
   "outputs": [
    {
     "data": {
      "text/plain": [
       "1742218407"
      ]
     },
     "execution_count": null,
     "metadata": {},
     "output_type": "execute_result"
    }
   ],
   "source": [
    "get_future_timestamp(5)"
   ]
  },
  {
   "cell_type": "code",
   "execution_count": null,
   "metadata": {},
   "outputs": [],
   "source": [
    "#| export\n",
    "\n",
    "def apply_slippage(amount: int, slippage: float) -> int:\n",
    "    if slippage < 0 or slippage > 1: raise ValueError(\"Slippage must be between 0 and 1\")\n",
    "    return int(amount * (1 - slippage))"
   ]
  },
  {
   "cell_type": "markdown",
   "metadata": {},
   "source": [
    "## Graph department\n",
    "\n",
    "This is where all the nerds hang out"
   ]
  },
  {
   "cell_type": "code",
   "execution_count": null,
   "metadata": {},
   "outputs": [],
   "source": [
    "#| export\n",
    "# Claude 3.7 sonnet made this\n",
    "\n",
    "from dataclasses import dataclass\n",
    "import networkx as nx\n",
    "\n",
    "@dataclass\n",
    "class Pair:\n",
    "    token0: str\n",
    "    token1: str\n",
    "\n",
    "def find_all_paths(pairs: List[Pair], start_token, end_token, cutoff=3):\n",
    "    # Create graph\n",
    "    G = nx.Graph()\n",
    "    for pair in pairs: G.add_edge(pair.token0, pair.token1)\n",
    "    \n",
    "    # Find all simple paths\n",
    "    return [p for p in nx.all_simple_paths(G, source=start_token, target=end_token, cutoff=cutoff)]\n"
   ]
  },
  {
   "cell_type": "code",
   "execution_count": null,
   "metadata": {},
   "outputs": [
    {
     "name": "stdout",
     "output_type": "stream",
     "text": [
      "All paths from A to C:\n",
      "Path 1: A -> B -> C\n",
      "Path 2: A -> B -> D -> C\n",
      "Path 3: A -> D -> C\n",
      "Path 4: A -> D -> B -> C\n",
      "Path 5: A -> E -> C\n",
      "\n",
      "All paths from X to Z in a cyclical graph:\n",
      "Path 1: X -> Y -> Z\n",
      "Path 2: X -> Z\n"
     ]
    }
   ],
   "source": [
    " # Example pairs - including a cycle\n",
    "pairs = [\n",
    "    Pair(\"A\", \"B\"),\n",
    "    Pair(\"B\", \"C\"),\n",
    "    Pair(\"A\", \"D\"),\n",
    "    Pair(\"D\", \"C\"),\n",
    "    Pair(\"B\", \"D\"),\n",
    "    Pair(\"C\", \"E\"),\n",
    "    Pair(\"E\", \"A\")\n",
    "]\n",
    "\n",
    "# Find paths from A to C\n",
    "paths = find_all_paths(pairs, \"A\", \"C\")\n",
    "\n",
    "print(f\"All paths from A to C:\")\n",
    "for i, path in enumerate(paths):\n",
    "    print(f\"Path {i+1}: {' -> '.join(path)}\")\n",
    "    \n",
    "# Let's also test with a different example involving a cycle\n",
    "cycle_pairs = [\n",
    "    Pair(\"X\", \"Y\"),\n",
    "    Pair(\"Y\", \"Z\"),\n",
    "    Pair(\"Z\", \"X\")\n",
    "]\n",
    "\n",
    "# Find paths from X to Z\n",
    "cycle_paths = find_all_paths(cycle_pairs, \"X\", \"Z\")\n",
    "\n",
    "print(f\"\\nAll paths from X to Z in a cyclical graph:\")\n",
    "for i, path in enumerate(cycle_paths):\n",
    "    print(f\"Path {i+1}: {' -> '.join(path)}\")"
   ]
  },
  {
   "cell_type": "code",
   "execution_count": null,
   "metadata": {},
   "outputs": [],
   "source": [
    "#| hide\n",
    "import nbdev; nbdev.nbdev_export()"
   ]
  }
 ],
 "metadata": {
  "kernelspec": {
   "display_name": "python3",
   "language": "python",
   "name": "python3"
  }
 },
 "nbformat": 4,
 "nbformat_minor": 2
}
