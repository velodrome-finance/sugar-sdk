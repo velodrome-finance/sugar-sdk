{
 "cells": [
  {
   "cell_type": "markdown",
   "metadata": {},
   "source": [
    "# Assorted helpers"
   ]
  },
  {
   "cell_type": "code",
   "execution_count": null,
   "metadata": {},
   "outputs": [],
   "source": [
    "#| default_exp helpers"
   ]
  },
  {
   "cell_type": "code",
   "execution_count": null,
   "metadata": {},
   "outputs": [],
   "source": [
    "#| export\n",
    "\n",
    "from web3 import Web3, constants\n",
    "from typing import List\n",
    "from decimal import Decimal\n",
    "from datetime import datetime, timedelta\n",
    "from dataclasses import dataclass"
   ]
  },
  {
   "cell_type": "code",
   "execution_count": null,
   "metadata": {},
   "outputs": [],
   "source": [
    "#| export\n",
    "\n",
    "def normalize_address(address: str) -> str: return Web3.to_checksum_address(address.lower())\n",
    "\n",
    "ADDRESS_ZERO = constants.ADDRESS_ZERO\n",
    "MAX_UINT256 = Web3.to_int(hexstr='0x' + 'f' * 64)\n",
    "\n",
    "# def is_address(value: str) -> bool:\n",
    "#     return Web3.is_address(value)\n",
    "\n",
    "\n",
    "# def cache_in_seconds(seconds: int):\n",
    "#     return alru_cache(ttl=seconds)\n",
    "\n",
    "def chunk(list_to_chunk: List, n: int):\n",
    "    for i in range(0, len(list_to_chunk), n):\n",
    "        yield list_to_chunk[i : i + n]\n",
    "\n",
    "\n",
    "def amount_to_k_string(amount: float) -> str:\n",
    "    \"\"\"Turns 2000 to \"2K\" \"\"\"\n",
    "    return f\"{round(amount/1000, 2)}K\"\n",
    "\n",
    "\n",
    "def format_currency(value: float, symbol: str = \"$\", prefix: bool = True) -> str:\n",
    "    v = \"{:0,.2f}\".format(value)\n",
    "    return f\"{symbol}{v}\" if prefix else f\"{v} {symbol}\"\n",
    "\n",
    "\n",
    "def format_percentage(value: float) -> str:\n",
    "    return \"{:0,.2f} %\".format(value)\n",
    "\n",
    "\n",
    "def amount_to_m_string(amount: float) -> str:\n",
    "    \"\"\"Turns 2000000 to \"2M\" \"\"\"\n",
    "    return f\"{round(amount/1000000, 2)}M\""
   ]
  },
  {
   "cell_type": "code",
   "execution_count": null,
   "metadata": {},
   "outputs": [],
   "source": [
    "#| export\n",
    "\n",
    "def float_to_uint256(amount: float, decimals: int = 18) -> int:\n",
    "    \"\"\"Convert float to uint256 with decimal scaling\"\"\"\n",
    "    # Convert float to Decimal for precision\n",
    "    amount_decimal = Decimal(str(amount))\n",
    "    # Scale by decimals\n",
    "    scaled_amount = amount_decimal * Decimal(10 ** decimals)\n",
    "    # Convert to integer\n",
    "    return int(scaled_amount)"
   ]
  },
  {
   "cell_type": "code",
   "execution_count": null,
   "metadata": {},
   "outputs": [
    {
     "data": {
      "text/plain": [
       "1000000000000000000"
      ]
     },
     "execution_count": null,
     "metadata": {},
     "output_type": "execute_result"
    }
   ],
   "source": [
    "float_to_uint256(1.0, 18)"
   ]
  },
  {
   "cell_type": "code",
   "execution_count": null,
   "metadata": {},
   "outputs": [],
   "source": [
    "#| export\n",
    "\n",
    "def get_future_timestamp(deadline_minutes: float) -> int:\n",
    "    \"\"\"Convert minutes from now to future unix timestamp\"\"\"\n",
    "    future_time = datetime.now() + timedelta(minutes=deadline_minutes)\n",
    "    return int(future_time.timestamp())"
   ]
  },
  {
   "cell_type": "code",
   "execution_count": null,
   "metadata": {},
   "outputs": [
    {
     "data": {
      "text/plain": [
       "1741886626"
      ]
     },
     "execution_count": null,
     "metadata": {},
     "output_type": "execute_result"
    }
   ],
   "source": [
    "get_future_timestamp(5)"
   ]
  },
  {
   "cell_type": "code",
   "execution_count": null,
   "metadata": {},
   "outputs": [],
   "source": [
    "#| export\n",
    "\n",
    "def apply_slippage(amount: int, slippage: float) -> int:\n",
    "    if slippage < 0 or slippage > 1: raise ValueError(\"Slippage must be between 0 and 1\")\n",
    "    return int(amount * (1 - slippage))"
   ]
  },
  {
   "cell_type": "markdown",
   "metadata": {},
   "source": [
    "## Graph department\n",
    "\n",
    "This is where all the nerds hang out"
   ]
  },
  {
   "cell_type": "code",
   "execution_count": null,
   "metadata": {},
   "outputs": [],
   "source": [
    "#| export\n",
    "# Claude 3.7 sonnet made this\n",
    "\n",
    "@dataclass\n",
    "class Pair: token0: str; token1: str\n",
    "\n",
    "def find_all_paths(pairs, a, b, max_depth=3):\n",
    "    \"\"\"\n",
    "    Find paths from token 'a' to token 'b' in a graph defined by pairs, with limits to prevent \n",
    "    excessive computation in dense, cyclical graphs.\n",
    "    \n",
    "    Parameters:\n",
    "    pairs (list): A list of dictionaries with 'token0' and 'token1' keys\n",
    "    a (str): Starting token\n",
    "    b (str): Destination token\n",
    "    max_depth (int): Maximum path length to explore\n",
    "    \n",
    "    Returns:\n",
    "    list: A list of paths, where each path is a list of tokens\n",
    "    \"\"\"\n",
    "    # Build adjacency list representation of the graph\n",
    "    graph = {}\n",
    "    for pair in pairs:\n",
    "        token0, token1 = pair.token0, pair.token1\n",
    "        \n",
    "        # Add connections in both directions for an undirected graph\n",
    "        if token0 not in graph:\n",
    "            graph[token0] = []\n",
    "        if token1 not in graph:\n",
    "            graph[token1] = []\n",
    "            \n",
    "        graph[token0].append(token1)\n",
    "        graph[token1].append(token0)\n",
    "    \n",
    "    # Check if start or end nodes exist in the graph\n",
    "    if a not in graph or b not in graph:\n",
    "        return []\n",
    "    \n",
    "    # List to store all found paths\n",
    "    all_paths = []\n",
    "    \n",
    "    # Helper function for DFS traversal with depth limit\n",
    "    def dfs(current, destination, visited, path, depth=0):    \n",
    "        # If we've exceeded our maximum depth, stop this branch\n",
    "        if depth >= max_depth:\n",
    "            return\n",
    "            \n",
    "        # Add current node to path\n",
    "        path.append(current)\n",
    "        \n",
    "        # If we've reached the destination, add the path to our results\n",
    "        if current == destination:\n",
    "            all_paths.append(path.copy())\n",
    "        else:\n",
    "            # Mark current node as visited to avoid cycles\n",
    "            visited.add(current)\n",
    "            \n",
    "            # Explore neighbors\n",
    "            for neighbor in graph[current]:\n",
    "                if neighbor not in visited:\n",
    "                    # Create copies of visited and path for this branch of exploration\n",
    "                    dfs(neighbor, destination, visited.copy(), path.copy(), depth + 1)\n",
    "    \n",
    "    # Start DFS from the starting token\n",
    "    dfs(a, b, set(), [])\n",
    "    \n",
    "    # clear duplicates (merge paths using \"-\", run this through a set, then split by \"-\")\n",
    "    return [p.split(\"-\") for p in set([\"-\".join(p) for p in all_paths])]\n",
    "    "
   ]
  },
  {
   "cell_type": "code",
   "execution_count": null,
   "metadata": {},
   "outputs": [
    {
     "name": "stdout",
     "output_type": "stream",
     "text": [
      "All paths from A to C:\n",
      "Path 1: A -> B -> C\n",
      "Path 2: A -> E -> C\n",
      "Path 3: A -> D -> C\n",
      "\n",
      "All paths from X to Z in a cyclical graph:\n",
      "Path 1: X -> Z\n",
      "Path 2: X -> Y -> Z\n"
     ]
    }
   ],
   "source": [
    " # Example pairs - including a cycle\n",
    "pairs = [\n",
    "    Pair(\"A\", \"B\"),\n",
    "    Pair(\"B\", \"C\"),\n",
    "    Pair(\"A\", \"D\"),\n",
    "    Pair(\"D\", \"C\"),\n",
    "    Pair(\"B\", \"D\"),\n",
    "    Pair(\"C\", \"E\"),\n",
    "    Pair(\"E\", \"A\")  # This creates a cycle A -> E -> C -> B -> A\n",
    "]\n",
    "\n",
    "# Find paths from A to C\n",
    "paths = find_all_paths(pairs, \"A\", \"C\")\n",
    "\n",
    "print(f\"All paths from A to C:\")\n",
    "for i, path in enumerate(paths):\n",
    "    print(f\"Path {i+1}: {' -> '.join(path)}\")\n",
    "    \n",
    "# Let's also test with a different example involving a cycle\n",
    "cycle_pairs = [\n",
    "    Pair(\"X\", \"Y\"),\n",
    "    Pair(\"Y\", \"Z\"),\n",
    "    Pair(\"Z\", \"X\")\n",
    "]\n",
    "\n",
    "# Find paths from X to Z\n",
    "cycle_paths = find_all_paths(cycle_pairs, \"X\", \"Z\")\n",
    "\n",
    "print(f\"\\nAll paths from X to Z in a cyclical graph:\")\n",
    "for i, path in enumerate(cycle_paths):\n",
    "    print(f\"Path {i+1}: {' -> '.join(path)}\")"
   ]
  },
  {
   "cell_type": "code",
   "execution_count": null,
   "metadata": {},
   "outputs": [],
   "source": [
    "#| hide\n",
    "import nbdev; nbdev.nbdev_export()"
   ]
  }
 ],
 "metadata": {
  "kernelspec": {
   "display_name": "python3",
   "language": "python",
   "name": "python3"
  }
 },
 "nbformat": 4,
 "nbformat_minor": 2
}
