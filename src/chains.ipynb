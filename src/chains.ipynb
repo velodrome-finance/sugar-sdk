{
 "cells": [
  {
   "cell_type": "markdown",
   "metadata": {},
   "source": [
    "# ⛓ Chain "
   ]
  },
  {
   "cell_type": "code",
   "execution_count": null,
   "metadata": {},
   "outputs": [],
   "source": [
    "#| default_exp chains"
   ]
  },
  {
   "cell_type": "code",
   "execution_count": null,
   "metadata": {},
   "outputs": [],
   "source": [
    "#| hide\n",
    "from nbdev.showdoc import *"
   ]
  },
  {
   "cell_type": "code",
   "execution_count": null,
   "metadata": {},
   "outputs": [],
   "source": [
    "#| export\n",
    "\n",
    "import asyncio, os, socket\n",
    "from functools import wraps\n",
    "from typing import List, TypeVar, Callable, Optional, Tuple, Dict\n",
    "from web3 import Web3, HTTPProvider, AsyncWeb3, AsyncHTTPProvider, Account\n",
    "from web3.eth.async_eth import AsyncContract\n",
    "from web3.eth import Contract\n",
    "from web3.manager import RequestManager, RequestBatcher\n",
    "from sugar.config import ChainSettings, make_op_chain_settings, make_base_chain_settings\n",
    "from sugar.helpers import normalize_address, MAX_UINT256, float_to_uint256, apply_slippage, get_future_timestamp\n",
    "from sugar.abi import sugar, slipstream, price_oracle, router, quoter, swapper\n",
    "from sugar.token import Token\n",
    "from sugar.pool import LiquidityPool, LiquidityPoolForSwap\n",
    "from sugar.price import Price\n",
    "from sugar.deposit import Deposit\n",
    "from sugar.helpers import ADDRESS_ZERO, chunk, normalize_address, Pair, find_all_paths\n",
    "from sugar.quote import QuoteInput, Quote\n",
    "from sugar.swap import setup_planner\n",
    "from fastcore.test import test_close\n",
    "from fastcore.test import test_eq\n"
   ]
  },
  {
   "cell_type": "code",
   "execution_count": null,
   "metadata": {},
   "outputs": [],
   "source": [
    "# monkey patching how web3 handles errors in batched requests\n",
    "# re: https://github.com/ethereum/web3.py/issues/3657\n",
    "original_format_batched_response = RequestManager._format_batched_response\n",
    "def safe_format_batched_response(*args):\n",
    "    try: return original_format_batched_response(*args)\n",
    "    except Exception as e: return e\n",
    "RequestManager._format_batched_response = safe_format_batched_response"
   ]
  },
  {
   "cell_type": "markdown",
   "metadata": {},
   "source": [
    "## Chain implementation "
   ]
  },
  {
   "cell_type": "code",
   "execution_count": null,
   "metadata": {},
   "outputs": [],
   "source": [
    "#| export\n",
    "\n",
    "T = TypeVar('T')\n",
    "\n",
    "def require_context(f: Callable[..., T]) -> Callable[..., T]:\n",
    "    @wraps(f)\n",
    "    def wrapper(self: 'CommonChain', *args, **kwargs) -> T:\n",
    "        if not self._in_context: raise RuntimeError(\"Chain methods can only be accessed within 'async with' block\")\n",
    "        return f(self, *args, **kwargs)\n",
    "    return wrapper\n",
    "\n",
    "def require_async_context(f: Callable[..., T]) -> Callable[..., T]:\n",
    "    @wraps(f)\n",
    "    async def wrapper(self: 'CommonChain', *args, **kwargs) -> T:\n",
    "        if not self._in_context: raise RuntimeError(\"Chain methods can only be accessed within 'async with' block\")\n",
    "        return await f(self, *args, **kwargs)\n",
    "    return wrapper\n",
    "\n",
    "\n",
    "class CommonChain:\n",
    "    @property\n",
    "    def account(self) -> Account: return self.web3.eth.account.from_key(os.getenv(\"SUGAR_PK\"))\n",
    "\n",
    "    def __init__(self, settings: ChainSettings):\n",
    "        self.settings, self._in_context = settings, False\n",
    "    \n",
    "    def prepare_set_token_allowance_contract(self, token: Token, contract_wrapper):\n",
    "        ERC20_ABI = [{\n",
    "            \"name\": \"approve\",\n",
    "            \"type\": \"function\",\n",
    "            \"constant\": False,\n",
    "            \"inputs\": [{\"name\": \"spender\", \"type\": \"address\"}, {\"name\": \"amount\", \"type\": \"uint256\"}],\n",
    "            \"outputs\": [{\"name\": \"\", \"type\": \"bool\"}]\n",
    "        }]\n",
    "        return contract_wrapper(address=token.wrapped_token_address or token.token_address, abi=ERC20_ABI)\n",
    "    \n",
    "    def prepare_tokens(self, tokens: List[Tuple], listed_only: bool) -> List[Token]:\n",
    "        native = Token.make_native_token(self.settings.native_token_symbol, self.settings.wrapped_native_token_addr, self.settings.native_token_decimals)\n",
    "        ts = list(map(lambda t: Token.from_tuple(t), tokens))\n",
    "        return [native] + (list(filter(lambda t: t.listed, ts)) if listed_only else ts)\n",
    "    \n",
    "    def _prepare_prices(self, tokens: List[Token], rates: List[int]) -> Dict[str, int]:\n",
    "        # token_address => normalized rate\n",
    "        result = {}\n",
    "        # rates are returned multiplied by eth decimals + the difference in decimals to eth\n",
    "        # we want them all normalized to 18 decimals\n",
    "        for cnt, rate in enumerate(rates):\n",
    "            t, eth_decimals = tokens[cnt], self.settings.native_token_decimals\n",
    "            if t.decimals == eth_decimals: nr = rate\n",
    "            elif t.decimals < eth_decimals: nr = rate // (10 ** (eth_decimals - t.decimals))\n",
    "            else: nr = rate * (10 ** (t.decimals - eth_decimals))\n",
    "            result[t.token_address] = nr\n",
    "        return result\n",
    "\n",
    "    def prepare_prices(self, tokens: List[Token], prices: List[int]) -> List[Price]:\n",
    "        \"\"\"Get prices for tokens in target stable token\"\"\"\n",
    "        eth_decimals = self.settings.native_token_decimals\n",
    "        # all rates in EHT: token => rate\n",
    "        rates_in_eth = self._prepare_prices(tokens, prices)\n",
    "        eth_rate, usd_rate = rates_in_eth[self.settings.native_token_symbol], rates_in_eth[self.settings.stable_token_addr]\n",
    "        # this gives us the price of 1 eth in usd with 18 decimals precision\n",
    "        eth_usd_price = (eth_rate * 10 ** eth_decimals) // usd_rate\n",
    "        # finally convert to prices in terms of stable\n",
    "        return [Price(token=t, price=(rates_in_eth[t.token_address] * eth_usd_price // 10 ** eth_decimals) / 10 ** eth_decimals) for t in tokens]\n",
    "    \n",
    "    def prepare_pools(self, pools: List[Tuple], tokens: List[Token], prices: List[Price]) -> List[LiquidityPool]:\n",
    "        tokens, prices = {t.token_address: t for t in tokens}, {price.token.token_address: price for price in prices}\n",
    "        return list(filter(lambda p: p is not None, map(lambda p: LiquidityPool.from_tuple(p, tokens, prices), pools)))\n",
    "    \n",
    "    def prepare_pools_for_swap(self, pools: List[Tuple]) -> List[LiquidityPoolForSwap]:\n",
    "        return list(map(lambda p: LiquidityPoolForSwap.from_tuple(p), pools))\n",
    "    \n",
    "    def filter_pools_for_swap(self, pools: List[LiquidityPoolForSwap], from_token: Token, to_token: Token) -> List[LiquidityPoolForSwap]:\n",
    "        match_tokens = set(self.settings.connector_tokens_addrs + [from_token.token_address, to_token.token_address])\n",
    "        return list(filter(lambda p: p.token0_address in match_tokens or p.token1_address in match_tokens, pools))\n",
    "    \n",
    "    def paths_to_pools(self, pools: List[LiquidityPoolForSwap], paths: List[List[Tuple]]) -> List[LiquidityPoolForSwap]:\n",
    "        pools_dict = {p.lp: p for p in pools}\n",
    "        return [list(map(lambda p: pools_dict[p[2]], path)) for path in paths]\n",
    "\n",
    "    def prepare_quote_batch(self, from_token: Token, to_token: Token, batcher: RequestBatcher, pools: List[List[LiquidityPoolForSwap]], amount_in: int, paths: List[List[Tuple]]):\n",
    "        inputs = []\n",
    "        for i, path in enumerate(paths):\n",
    "            p = [(p, p.token0_address != path[i][0]) for i, p in enumerate(pools[i])]\n",
    "            q = QuoteInput(from_token=from_token, to_token=to_token, amount_in=amount_in, path=p)\n",
    "            batcher.add(self.quoter.functions.quoteExactInput(q.route.encoded, amount_in))\n",
    "            inputs.append(q)\n",
    "        return batcher, inputs\n",
    "\n",
    "    def prepare_quotes(self, quote_inputs: List[QuoteInput], responses):\n",
    "        if len(responses) != len(quote_inputs): raise ValueError(f\"Number of responses {len(responses)} does not match number of quote inputs {len(quote_inputs)}\")\n",
    "        quotes = []\n",
    "        for i, r in enumerate(responses):\n",
    "            if isinstance(r, Exception): continue\n",
    "            else: quotes.append(Quote(input=quote_inputs[i], amount_out=r[0]))\n",
    "        return quotes\n",
    "    \n",
    "    def get_paths_for_quote(self, from_token: Token, to_token: Token, pools: List[LiquidityPoolForSwap], exclude_tokens: List[str]) -> List[List[Tuple]]:\n",
    "        exclude_tokens_set = set(map(lambda t: normalize_address(t), exclude_tokens))\n",
    "\n",
    "        if from_token.token_address in exclude_tokens: exclude_tokens_set.remove(from_token.token_address)\n",
    "        if to_token.token_address in exclude_tokens: exclude_tokens_set.remove(to_token.token_address)\n",
    "\n",
    "        pairs = [Pair(p.token0_address, p.token1_address, p.lp) for p in pools]\n",
    "        paths = find_all_paths(pairs, from_token.wrapped_token_address or from_token.token_address, to_token.wrapped_token_address or to_token.token_address)\n",
    "        # filter out paths with excluded tokens\n",
    "        return list(filter(lambda p: len(set(map(lambda t: t[0], p)) & exclude_tokens_set) == 0, paths))"
   ]
  },
  {
   "cell_type": "markdown",
   "metadata": {},
   "source": [
    "### Aync chain"
   ]
  },
  {
   "cell_type": "code",
   "execution_count": null,
   "metadata": {},
   "outputs": [],
   "source": [
    "#| export\n",
    "\n",
    "class AsyncChain(CommonChain):\n",
    "    web3: AsyncWeb3\n",
    "    sugar: AsyncContract\n",
    "    slipstream: AsyncContract\n",
    "    router: AsyncContract\n",
    "    prices: AsyncContract\n",
    "    quoter: AsyncContract\n",
    "    swapper: AsyncContract\n",
    "\n",
    "\n",
    "    async def __aenter__(self):\n",
    "        \"\"\"Async context manager entry\"\"\"\n",
    "        self._in_context = True\n",
    "        self.web3 = AsyncWeb3(AsyncHTTPProvider(self.settings.rpc_uri))\n",
    "        self.sugar = self.web3.eth.contract(address=self.settings.sugar_contract_addr, abi=sugar)\n",
    "        self.slipstream = self.web3.eth.contract(address=self.settings.slipstream_contract_addr, abi=slipstream)\n",
    "        self.prices = self.web3.eth.contract(address=self.settings.price_oracle_contract_addr, abi=price_oracle)\n",
    "        self.router = self.web3.eth.contract(address=self.settings.router_contract_addr, abi=router)\n",
    "        self.quoter = self.web3.eth.contract(address=self.settings.quoter_contract_addr, abi=quoter)\n",
    "        self.swapper = self.web3.eth.contract(address=self.settings.swapper_contract_addr, abi=swapper)\n",
    "        return self\n",
    "\n",
    "    async def __aexit__(self, exc_type, exc_val, exc_tb):\n",
    "        \"\"\"Async context manager exit\"\"\"\n",
    "        self._in_context = False\n",
    "        await self.web3.provider.disconnect()\n",
    "        return None\n",
    "\n",
    "    @require_async_context\n",
    "    async def get_all_tokens(self, listed_only: bool = True) -> List[Token]:\n",
    "        # TODO: pagination for tokens\n",
    "        tokens = await self.sugar.functions.tokens(1000, 0, ADDRESS_ZERO, []).call()\n",
    "        return self.prepare_tokens(tokens, listed_only)\n",
    "    \n",
    "    # @cache_in_seconds(ORACLE_PRICES_CACHE_MINUTES * 60)\n",
    "    async def _get_prices(self, tokens: Tuple[Token]) -> List[int]:\n",
    "        # token_address => normalized rate\n",
    "        return await self.prices.functions.getManyRatesToEthWithCustomConnectors(\n",
    "            list(map(lambda t: t.wrapped_token_address or t.token_address, tokens)),\n",
    "            False, # use wrappers\n",
    "            self.settings.connector_tokens_addrs,\n",
    "            10 # threshold_filter\n",
    "        ).call()\n",
    "\n",
    "    @require_async_context\n",
    "    async def get_prices(self, tokens: List[Token]) -> List[Price]:\n",
    "        \"\"\"Get prices for tokens in target stable token\"\"\"\n",
    "\n",
    "        # batches starts as a list of lists \n",
    "        batches = await asyncio.gather(\n",
    "            *map(\n",
    "                # XX: lists are not cacheable, convert them to tuples so lru cache is happy\n",
    "                lambda ts: self._get_prices(tuple(ts)),\n",
    "                list(chunk(tokens, self.settings.price_batch_size)),\n",
    "            )\n",
    "        )\n",
    "        return self.prepare_prices(tokens, sum(batches, []))\n",
    "\n",
    "    @require_async_context\n",
    "    async def get_pools(self, for_swaps: bool = False) -> List[LiquidityPool]:\n",
    "        pools, offset, limit = [], 0, self.settings.pool_page_size\n",
    "\n",
    "        while True:\n",
    "            f = self.sugar.functions.all if not for_swaps else self.sugar.functions.forSwaps\n",
    "            pools_batch = await f(limit, offset).call()\n",
    "            pools += pools_batch\n",
    "            if len(pools_batch) == 0: break\n",
    "            else: offset += limit\n",
    "\n",
    "        if not for_swaps:\n",
    "            tokens = await self.get_all_tokens()\n",
    "            return self.prepare_pools(pools, tokens, await self.get_prices(tokens))\n",
    "        else: return self.prepare_pools_for_swap(pools)\n",
    "    \n",
    "    \n",
    "    @require_async_context\n",
    "    async def get_pools_for_swaps(self) -> List[LiquidityPoolForSwap]: return await self.get_pools(for_swaps=True)\n",
    "\n",
    "    @require_async_context\n",
    "    async def _get_quotes_for_paths(self, from_token: Token, to_token: Token, amount_in: int, pools: List[LiquidityPoolForSwap], paths: List[List[Tuple]]) -> List[Optional[Quote]]:\n",
    "        path_pools = self.paths_to_pools(pools, paths)\n",
    "        async with self.web3.batch_requests() as batch:\n",
    "            batch, inputs = self.prepare_quote_batch(from_token, to_token, batch, path_pools, amount_in, paths)\n",
    "            return self.prepare_quotes(inputs, await batch.async_execute())\n",
    "\n",
    "    @require_async_context\n",
    "    async def get_quote(self, from_token: Token, to_token: Token, amount_in: float, filter_quotes: Optional[Callable[[Quote], bool]] = None) -> Optional[Quote]:\n",
    "        pools = self.filter_pools_for_swap(from_token=from_token, to_token=to_token, pools=await self.get_pools_for_swaps())\n",
    "        paths = self.get_paths_for_quote(from_token, to_token, pools, self.settings.excluded_tokens_addrs)\n",
    "        # TODO: investigate why this takes too long\n",
    "        # quotes = sum(await asyncio.gather(*[self._get_quotes_for_paths(from_token, to_token, amount_in, pools, paths) for paths in chunk(paths, 500)]), [])\n",
    "        quotes = [] \n",
    "        for paths in chunk(paths, 500):\n",
    "            r = await self._get_quotes_for_paths(from_token, to_token, float_to_uint256(amount_in, decimals=from_token.decimals), pools, paths)\n",
    "            for q in r:\n",
    "                if q is not None: quotes.append(q)\n",
    "        if filter_quotes is not None: quotes = list(filter(filter_quotes, quotes))\n",
    "        return max(quotes, key=lambda q: q.amount_out) if len(quotes) > 0 else None\n",
    "    \n",
    "    @require_async_context\n",
    "    async def swap(self, from_token: Token, to_token: Token, amount: float, slippage: float = 0.01):\n",
    "        q = await self.get_quote(from_token, to_token, amount)\n",
    "        if not q: raise ValueError(\"No quotes found\")\n",
    "        return await self.swap_from_quote(q, slippage=slippage)\n",
    "        \n",
    "    @require_async_context\n",
    "    async def swap_from_quote(self, quote: Quote, slippage: float = 0.01):\n",
    "        swapper_contract_addr, from_token = self.settings.swapper_contract_addr, quote.from_token\n",
    "        planner = setup_planner(quote=quote, slippage=slippage, account=self.account.address, router_address=swapper_contract_addr)\n",
    "        await self.set_token_allowance(from_token, swapper_contract_addr, quote.input.amount_in)\n",
    "        value = quote.input.amount_in if from_token.wrapped_token_address else 0\n",
    "        return await self.sign_and_send_tx(self.swapper.functions.execute(*[planner.commands, planner.inputs]), value=value)\n",
    "\n",
    "    @require_async_context\n",
    "    async def set_token_allowance(self, token: Token, addr: str, amount: int):\n",
    "        token_contract = self.prepare_set_token_allowance_contract(token, self.web3.eth.contract)\n",
    "        return await self.sign_and_send_tx(token_contract.functions.approve(addr, amount))\n",
    "        \n",
    "\n",
    "    @require_async_context\n",
    "    async def check_token_allowance(self, token: Token, addr: str) -> int:\n",
    "        ERC20_ABI = [{\n",
    "            \"name\": \"allowance\",\n",
    "            \"type\": \"function\",\n",
    "            \"constant\": True,\n",
    "            \"inputs\": [{\"name\": \"owner\", \"type\": \"address\"}, {\"name\": \"spender\", \"type\": \"address\"}],\n",
    "            \"outputs\": [{\"name\": \"\", \"type\": \"uint256\"}]\n",
    "        }]\n",
    "        token_contract = self.web3.eth.contract(address=token.wrapped_token_address or token.token_address, abi=ERC20_ABI)\n",
    "        return await token_contract.functions.allowance(self.account.address, addr).call()\n",
    "\n",
    "    @require_async_context\n",
    "    async def sign_and_send_tx(self, tx, value: int = 0, wait: bool = True):\n",
    "        spender = self.account.address\n",
    "        tx = await tx.build_transaction({ 'from': spender, 'value': value, 'nonce': await self.web3.eth.get_transaction_count(spender) })\n",
    "        signed_tx = self.account.sign_transaction(tx)\n",
    "        tx_hash = await self.web3.eth.send_raw_transaction(signed_tx.raw_transaction)\n",
    "        return await self.web3.eth.wait_for_transaction_receipt(tx_hash) if wait else tx_hash\n",
    "    \n",
    "    @require_async_context\n",
    "    async def deposit(self, deposit: Deposit, delay_in_minutes: float = 30, slippage: float = 0.01):\n",
    "        amount_token0, pool, router_contract_addr = deposit.amount_token0, deposit.pool, self.settings.router_contract_addr\n",
    "        print(f\"gonna deposit {amount_token0} {pool.token0.symbol} into {pool.symbol} from {self.account.address}\")\n",
    "        [token0_amount, token1_amount, _] = await self.router.functions.quoteAddLiquidity(\n",
    "            pool.token0.token_address,\n",
    "            pool.token1.token_address,\n",
    "            pool.is_stable,\n",
    "            pool.factory,\n",
    "            float_to_uint256(amount_token0, pool.token0.decimals),\n",
    "            MAX_UINT256\n",
    "        ).call()\n",
    "        print(f\"Quote: {pool.token0.symbol} {token0_amount / 10 ** pool.token0.decimals} -> {pool.token1.symbol} {token1_amount / 10 ** pool.token1.decimals}\")\n",
    "\n",
    "        # set up allowance for both tokens\n",
    "        print(f\"setting up allowance for {pool.token0.symbol}\")\n",
    "        await self.set_token_allowance(pool.token0, router_contract_addr, token0_amount)\n",
    "\n",
    "        print(f\"setting up allowance for {pool.token1.symbol}\")\n",
    "        await self.set_token_allowance(pool.token1, router_contract_addr, token1_amount)\n",
    "\n",
    "        # check allowances\n",
    "        token0_allowance = await self.check_token_allowance(pool.token0, router_contract_addr)\n",
    "        token1_allowance = await self.check_token_allowance(pool.token1, router_contract_addr)\n",
    "\n",
    "        print(f\"allowances: {token0_allowance}, {token1_allowance}\")\n",
    "\n",
    "        # adding liquidity\n",
    "\n",
    "        # if token 0 is native, use addLiquidityETH instead of standard addLiquidity\n",
    "        if pool.token0.token_address == self.settings.wrapped_native_token_addr:\n",
    "            params = [\n",
    "                pool.token1.token_address,\n",
    "                pool.is_stable,\n",
    "                token1_amount,\n",
    "                apply_slippage(token1_amount, slippage),\n",
    "                apply_slippage(token0_amount, slippage),\n",
    "                self.account.address,\n",
    "                get_future_timestamp(delay_in_minutes)\n",
    "            ]\n",
    "            print(f\"adding liquidity with params: {params}\")\n",
    "            return await self.sign_and_send_tx(self.router.functions.addLiquidityETH(*params), value=token0_amount)\n",
    "        \n",
    "        # token 1 is native, use addLiquidityETH instead of standard addLiquidity\n",
    "        if pool.token1.token_address == self.settings.wrapped_native_token_addr:\n",
    "            params = [\n",
    "                pool.token0.token_address,\n",
    "                pool.is_stable,\n",
    "                token0_amount,\n",
    "                apply_slippage(token0_amount, slippage),\n",
    "                apply_slippage(token1_amount, slippage),\n",
    "                self.account.address,\n",
    "                get_future_timestamp(delay_in_minutes)\n",
    "            ]\n",
    "            print(f\"adding liquidity with params: {params}\")\n",
    "            return await self.sign_and_send_tx(self.router.functions.addLiquidityETH(*params), value=token1_amount)\n",
    "\n",
    "        params = [\n",
    "            pool.token0.token_address,\n",
    "            pool.token1.token_address,\n",
    "            pool.is_stable,\n",
    "            token0_amount,\n",
    "            token1_amount,\n",
    "            apply_slippage(token0_amount, slippage),\n",
    "            apply_slippage(token1_amount, slippage),\n",
    "            self.account.address,\n",
    "            get_future_timestamp(delay_in_minutes)\n",
    "        ]\n",
    "\n",
    "        print(f\"adding liquidity with params: {params}\")\n",
    "\n",
    "        return await self.sign_and_send_tx(self.router.functions.addLiquidity(*params))"
   ]
  },
  {
   "cell_type": "markdown",
   "metadata": {},
   "source": [
    "## Sync chain"
   ]
  },
  {
   "cell_type": "code",
   "execution_count": null,
   "metadata": {},
   "outputs": [],
   "source": [
    "#| export\n",
    "\n",
    "class Chain(CommonChain):\n",
    "    web3: Web3\n",
    "    sugar: Contract\n",
    "    router: Contract\n",
    "    slipstream: Contract\n",
    "    prices: Contract\n",
    "    quoter: Contract\n",
    "    swapper: Contract\n",
    "\n",
    "    def __enter__(self):\n",
    "        \"\"\"Sync context manager entry\"\"\"\n",
    "        self._in_context = True\n",
    "        self.web3 = Web3(HTTPProvider(self.settings.rpc_uri))\n",
    "        self.sugar = self.web3.eth.contract(address=self.settings.sugar_contract_addr, abi=sugar)\n",
    "        self.slipstream = self.web3.eth.contract(address=self.settings.slipstream_contract_addr, abi=slipstream)\n",
    "        self.prices = self.web3.eth.contract(address=self.settings.price_oracle_contract_addr, abi=price_oracle)\n",
    "        self.router = self.web3.eth.contract(address=self.settings.router_contract_addr, abi=router)\n",
    "        self.quoter = self.web3.eth.contract(address=self.settings.quoter_contract_addr, abi=quoter)\n",
    "        self.swapper = self.web3.eth.contract(address=self.settings.swapper_contract_addr, abi=swapper)\n",
    "        return self\n",
    "\n",
    "    def __exit__(self, exc_type, exc_val, exc_tb):\n",
    "        \"\"\"Sync context manager exit\"\"\"\n",
    "        self._in_context = False\n",
    "        return None\n",
    "    \n",
    "    @require_context\n",
    "    def sign_and_send_tx(self, tx, value: int = 0, wait: bool = True):\n",
    "        spender = self.account.address\n",
    "        tx = tx.build_transaction({ 'from': spender, 'value': value, 'nonce': self.web3.eth.get_transaction_count(spender) })\n",
    "        signed_tx = self.account.sign_transaction(tx)\n",
    "        tx_hash = self.web3.eth.send_raw_transaction(signed_tx.raw_transaction)\n",
    "        return self.web3.eth.wait_for_transaction_receipt(tx_hash) if wait else tx_hash\n",
    "    \n",
    "    @require_context\n",
    "    def set_token_allowance(self, token: Token, addr: str, amount: int):\n",
    "        token_contract = self.prepare_set_token_allowance_contract(token, self.web3.eth.contract)\n",
    "        return self.sign_and_send_tx(token_contract.functions.approve(addr, amount))\n",
    "\n",
    "    @require_context\n",
    "    def get_all_tokens(self, listed_only: bool = True) -> List[Token]:\n",
    "        return self.prepare_tokens(self.sugar.functions.tokens(800, 0, ADDRESS_ZERO, []).call(), listed_only)\n",
    "    \n",
    "    # @cache_in_seconds(ORACLE_PRICES_CACHE_MINUTES * 60)\n",
    "    def _get_prices(self, tokens: Tuple[Token]) -> List[int]:\n",
    "        # token_address => normalized rate\n",
    "        return self.prices.functions.getManyRatesToEthWithCustomConnectors(\n",
    "            list(map(lambda t: t.wrapped_token_address or t.token_address, tokens)),\n",
    "            False, # use wrappers\n",
    "            self.settings.connector_tokens_addrs,\n",
    "            10 # threshold_filter\n",
    "        ).call()\n",
    "\n",
    "    @require_context\n",
    "    def get_prices(self, tokens: List[Token]) -> List[Price]:\n",
    "        \"\"\"Get prices for tokens in target stable token\"\"\"\n",
    "        return self.prepare_prices(tokens, sum([self._get_prices(tuple(ts)) for ts in list(chunk(tokens, self.settings.price_batch_size))], []))\n",
    "    \n",
    "    @require_context\n",
    "    def get_pools(self, for_swaps: bool = False) -> List[LiquidityPool]:\n",
    "        pools, offset, limit = [], 0, self.settings.pool_page_size\n",
    "\n",
    "        while True:\n",
    "            f = self.sugar.functions.all if not for_swaps else self.sugar.functions.forSwaps\n",
    "            pools_batch = f(limit, offset).call()\n",
    "            pools += pools_batch\n",
    "            if len(pools_batch) == 0: break\n",
    "            else: offset += limit\n",
    "\n",
    "        if not for_swaps:\n",
    "            tokens = self.get_all_tokens(listed_only=False)\n",
    "            return self.prepare_pools(pools, tokens, self.get_prices(tokens))\n",
    "        else: return self.prepare_pools_for_swap(pools)\n",
    "    \n",
    "    @require_context\n",
    "    def get_pools_for_swaps(self) -> List[LiquidityPoolForSwap]: return self.get_pools(for_swaps=True)\n",
    "\n",
    "    @require_context\n",
    "    def _get_quotes_for_paths(self, from_token: Token, to_token: Token, amount_in: int, pools: List[LiquidityPoolForSwap], paths: List[List[Tuple]]) -> List[Optional[Quote]]:\n",
    "        path_pools = self.paths_to_pools(pools, paths)\n",
    "        with self.web3.batch_requests() as batch:\n",
    "            batch, inputs = self.prepare_quote_batch(from_token, to_token, batch, path_pools, amount_in, paths)\n",
    "            return self.prepare_quotes(inputs, batch.execute())\n",
    "\n",
    "    @require_context\n",
    "    def get_quote(self, from_token: Token, to_token: Token, amount_in: float, filter_quotes: Optional[Callable[[Quote], bool]] = None) -> Optional[Quote]:\n",
    "        pools = self.filter_pools_for_swap(from_token=from_token, to_token=to_token, pools=self.get_pools_for_swaps())\n",
    "        paths = self.get_paths_for_quote(from_token, to_token, pools, self.settings.excluded_tokens_addrs)\n",
    "        path_chunks, chain_instance = list(chunk(paths, 500)), self\n",
    "        def get_quotes_for_chunk(paths_chunk): return chain_instance._get_quotes_for_paths(from_token, to_token, float_to_uint256(amount_in, decimals=from_token.decimals), pools, paths_chunk)\n",
    "        # TODO: make this work in threads re: https://github.com/ethereum/web3.py/issues/3613\n",
    "        all_quotes = []\n",
    "        for pc in path_chunks:\n",
    "            quotes = get_quotes_for_chunk(pc)\n",
    "            for q in quotes: all_quotes.append(q)\n",
    "\n",
    "        if filter_quotes is not None: all_quotes = list(filter(filter_quotes, all_quotes))\n",
    "\n",
    "        return max(all_quotes, key=lambda q: q.amount_out) if len(all_quotes) > 0 else None\n",
    "    \n",
    "    @require_context\n",
    "    def swap(self, from_token: Token, to_token: Token, amount: float, slippage: float = 0.01):\n",
    "        q = self.get_quote(from_token, to_token, amount)\n",
    "        if not q: raise ValueError(\"No quotes found\")\n",
    "        return self.swap_from_quote(q, slippage=slippage)\n",
    "        \n",
    "    @require_context\n",
    "    def swap_from_quote(self, quote: Quote, slippage: float = 0.01):\n",
    "        swapper_contract_addr, from_token = self.settings.swapper_contract_addr, quote.from_token\n",
    "        planner = setup_planner(quote=quote, slippage=slippage, account=self.account.address, router_address=swapper_contract_addr)\n",
    "        self.set_token_allowance(from_token, swapper_contract_addr, quote.input.amount_in)\n",
    "        value = quote.input.amount_in if from_token.wrapped_token_address else 0\n",
    "        return self.sign_and_send_tx(self.swapper.functions.execute(*[planner.commands, planner.inputs]), value=value)"
   ]
  },
  {
   "cell_type": "markdown",
   "metadata": {},
   "source": [
    "## OP Chain"
   ]
  },
  {
   "cell_type": "code",
   "execution_count": null,
   "metadata": {},
   "outputs": [],
   "source": [
    "#| export\n",
    "\n",
    "class OPChainCommon():\n",
    "    usdc: str = normalize_address(\"0x0b2C639c533813f4Aa9D7837CAf62653d097Ff85\")\n",
    "    velo: str = normalize_address(\"0x9560e827aF36c94D2Ac33a39bCE1Fe78631088Db\")\n",
    "\n",
    "class AsyncOPChain(AsyncChain, OPChainCommon):\n",
    "    def __init__(self, **kwargs): super().__init__(make_op_chain_settings(**kwargs))\n",
    "\n",
    "class OPChain(Chain, OPChainCommon):\n",
    "    def __init__(self, **kwargs): super().__init__(make_op_chain_settings(**kwargs))\n"
   ]
  },
  {
   "cell_type": "markdown",
   "metadata": {},
   "source": [
    "## Base Chain"
   ]
  },
  {
   "cell_type": "code",
   "execution_count": null,
   "metadata": {},
   "outputs": [],
   "source": [
    "#| export\n",
    "\n",
    "class BaseChainCommon():\n",
    "    usdc: str = normalize_address(\"0x833589fcd6edb6e08f4c7c32d4f71b54bda02913\")\n",
    "    aero: str = normalize_address(\"0x940181a94a35a4569e4529a3cdfb74e38fd98631\")\n",
    "\n",
    "class AsyncBaseChain(AsyncChain, BaseChainCommon):\n",
    "    def __init__(self, **kwargs): super().__init__(make_base_chain_settings(**kwargs))\n",
    "\n",
    "class BaseChain(Chain, BaseChainCommon):\n",
    "    def __init__(self, **kwargs): super().__init__(make_base_chain_settings(**kwargs))"
   ]
  },
  {
   "cell_type": "markdown",
   "metadata": {},
   "source": [
    "## Simnet versions of chains\n",
    "\n",
    "Simnet URIs:\n",
    "\n",
    "- OP: http://127.0.0.1:4444\n",
    "- Base: http://127.0.0.1:4445\n",
    "\n",
    "This assumes the following setup:\n",
    "\n",
    "```\n",
    "supersim fork  --l2.host=0.0.0.0 --l2.starting.port=4444 --chains=op,base\n",
    "```"
   ]
  },
  {
   "cell_type": "code",
   "execution_count": null,
   "metadata": {},
   "outputs": [],
   "source": [
    "#| export \n",
    "\n",
    "class AsyncOPChainSimnet(AsyncOPChain):\n",
    "    def __init__(self,  **kwargs): super().__init__(rpc_uri=\"http://127.0.0.1:4444\", **kwargs)\n",
    "\n",
    "class AsyncBaseChainSimnet(AsyncBaseChain):\n",
    "    def __init__(self,  **kwargs): super().__init__(rpc_uri=\"http://127.0.0.1:4445\", **kwargs)\n",
    "\n",
    "class OPChainSimnet(OPChain):\n",
    "    def __init__(self,  **kwargs): super().__init__(rpc_uri=\"http://127.0.0.1:4444\", **kwargs)\n",
    "\n",
    "class BaseChainSimnet(BaseChain):\n",
    "    def __init__(self,  **kwargs): super().__init__(rpc_uri=\"http://127.0.0.1:4445\", **kwargs)"
   ]
  },
  {
   "cell_type": "markdown",
   "metadata": {},
   "source": [
    "## Tests\n",
    "\n",
    "Run tests using mainnets for reads and simnet for writes"
   ]
  },
  {
   "cell_type": "markdown",
   "metadata": {},
   "source": [
    "Make sure simnet is running"
   ]
  },
  {
   "cell_type": "code",
   "execution_count": null,
   "metadata": {},
   "outputs": [],
   "source": [
    "host, port ='127.0.0.1', 4444\n",
    "try:\n",
    "    sock = socket.socket(socket.AF_INET, socket.SOCK_STREAM)\n",
    "    sock.settimeout(2)\n",
    "    result = sock.connect_ex((host, port))\n",
    "    test_eq(result, 0)\n",
    "except socket.error as err:\n",
    "    test_eq(err, None)\n",
    "finally:\n",
    "    sock.close()"
   ]
  },
  {
   "cell_type": "markdown",
   "metadata": {},
   "source": [
    "Make sure PK is set for writes"
   ]
  },
  {
   "cell_type": "code",
   "execution_count": null,
   "metadata": {},
   "outputs": [],
   "source": [
    "import os\n",
    "from fastcore.test import test_ne\n",
    "from dotenv import load_dotenv\n",
    "\n",
    "load_dotenv()\n",
    "\n",
    "test_ne(os.getenv(\"SUGAR_PK\"), None)"
   ]
  },
  {
   "cell_type": "markdown",
   "metadata": {},
   "source": [
    "Getting tokens. Make sure native token is included"
   ]
  },
  {
   "cell_type": "code",
   "execution_count": null,
   "metadata": {},
   "outputs": [],
   "source": [
    "from fastcore.test import test_eq, test_ne\n",
    "\n",
    "async with AsyncOPChain() as op:\n",
    "    tokens = await op.get_all_tokens()\n",
    "    native_token = next(filter(lambda t: t.is_native, tokens), None)\n",
    "    test_ne(native_token, None)\n",
    "    test_eq(native_token.symbol, \"ETH\")\n",
    "\n",
    "with OPChain() as op_sync:\n",
    "    tokens = op_sync.get_all_tokens()\n",
    "    native_token = next(filter(lambda t: t.is_native, tokens), None)\n",
    "    test_ne(native_token, None)\n",
    "    test_eq(native_token.symbol, \"ETH\")\n",
    "\n",
    "async with AsyncBaseChain() as base:\n",
    "    tokens = await base.get_all_tokens()\n",
    "    native_token = next(filter(lambda t: t.is_native, tokens), None)\n",
    "    test_ne(native_token, None)\n",
    "    test_eq(native_token.symbol, \"ETH\")"
   ]
  },
  {
   "cell_type": "markdown",
   "metadata": {},
   "source": [
    "Check on tokens and pools"
   ]
  },
  {
   "cell_type": "code",
   "execution_count": null,
   "metadata": {},
   "outputs": [
    {
     "name": "stdout",
     "output_type": "stream",
     "text": [
      "ETH price: $1569.5405703215238\n",
      "VELO price: $0.04446808366076679\n",
      "RED price: $0.07302549466251432\n",
      "USDC price: $1.0\n",
      "WETH price: $1569.5405703215238\n",
      "vAMM-RED/VELO pool: $133028.3196804818\n",
      "vAMM-USDC/VELO pool: $313484.2743807486\n",
      "vAMM-WETH/VELO pool: $299784.56279093196\n",
      "sAMM-alETH/frxETH pool: $447845.1636674822\n",
      "vAMM-wstETH/LDO pool: $79145.53075510627\n"
     ]
    }
   ],
   "source": [
    "async with AsyncOPChain() as chain:\n",
    "    tokens = await chain.get_all_tokens()\n",
    "    prices = await chain.get_prices(tokens)\n",
    "    pools = await chain.get_pools()\n",
    "\n",
    "    for p in prices[:5]: print(f\"{p.token.symbol} price: ${p.price}\")\n",
    "    for p in pools[:5]: print(f\"{p.symbol} pool: ${p.tvl}\")"
   ]
  },
  {
   "cell_type": "code",
   "execution_count": null,
   "metadata": {},
   "outputs": [
    {
     "name": "stdout",
     "output_type": "stream",
     "text": [
      "[Token(token_address='ETH', symbol='ETH', decimals=18, listed=True, wrapped_token_address='0x4200000000000000000000000000000000000006'), Token(token_address='0x9560e827aF36c94D2Ac33a39bCE1Fe78631088Db', symbol='VELO', decimals=18, listed=True, wrapped_token_address=None), Token(token_address='0x3417E54A51924C225330f8770514aD5560B9098D', symbol='RED', decimals=18, listed=True, wrapped_token_address=None), Token(token_address='0x7F5c764cBc14f9669B88837ca1490cCa17c31607', symbol='USDC', decimals=6, listed=True, wrapped_token_address=None), Token(token_address='0x4200000000000000000000000000000000000006', symbol='WETH', decimals=18, listed=True, wrapped_token_address=None), Token(token_address='0x3E29D3A9316dAB217754d13b28646B76607c5f04', symbol='alETH', decimals=18, listed=True, wrapped_token_address=None), Token(token_address='0x6806411765Af15Bddd26f8f544A34cC40cb9838B', symbol='frxETH', decimals=18, listed=True, wrapped_token_address=None), Token(token_address='0x1F32b1c2345538c0c6f582fCB022739c4A194Ebb', symbol='wstETH', decimals=18, listed=True, wrapped_token_address=None), Token(token_address='0xFdb794692724153d1488CcdBE0C56c252596735F', symbol='LDO', decimals=18, listed=True, wrapped_token_address=None), Token(token_address='0xc40F949F8a4e094D1b49a23ea9241D289B7b2819', symbol='LUSD', decimals=18, listed=True, wrapped_token_address=None), Token(token_address='0xDA10009cBd5D07dd0CeCc66161FC93D7c9000da1', symbol='DAI', decimals=18, listed=True, wrapped_token_address=None), Token(token_address='0xc5b001DC33727F8F26880B184090D3E252470D45', symbol='ERN', decimals=18, listed=True, wrapped_token_address=None), Token(token_address='0xdFA46478F9e5EA86d57387849598dbFB2e964b02', symbol='MAI', decimals=18, listed=True, wrapped_token_address=None), Token(token_address='0x4200000000000000000000000000000000000042', symbol='OP', decimals=18, listed=True, wrapped_token_address=None), Token(token_address='0x9485aca5bbBE1667AD97c7fE7C4531a624C8b1ED', symbol='EURA', decimals=18, listed=True, wrapped_token_address=None), Token(token_address='0xCB8FA9a76b8e203D8C3797bF438d8FB81Ea3326A', symbol='alUSD', decimals=18, listed=True, wrapped_token_address=None), Token(token_address='0x2E3D870790dC77A83DD1d18184Acc7439A53f475', symbol='FRAX', decimals=18, listed=True, wrapped_token_address=None), Token(token_address='0x73cb180bf0521828d8849bc8CF2B920918e23032', symbol='USD+', decimals=6, listed=True, wrapped_token_address=None), Token(token_address='0x8aE125E8653821E851F12A49F7765db9a9ce7384', symbol='DOLA', decimals=18, listed=True, wrapped_token_address=None), Token(token_address='0x94b008aA00579c1307B0EF2c499aD98a8ce58e58', symbol='USDT', decimals=6, listed=True, wrapped_token_address=None), Token(token_address='0x920Cf626a271321C151D027030D5d08aF699456b', symbol='KWENTA', decimals=18, listed=True, wrapped_token_address=None), Token(token_address='0x8700dAec35aF8Ff88c16BdF0418774CB3D7599B4', symbol='SNX', decimals=18, listed=True, wrapped_token_address=None), Token(token_address='0x1DB2466d9F5e10D7090E7152B68d62703a2245F0', symbol='SONNE', decimals=18, listed=True, wrapped_token_address=None), Token(token_address='0x1610e3c85dd44Af31eD7f33a63642012Dca0C5A5', symbol='msETH', decimals=18, listed=True, wrapped_token_address=None), Token(token_address='0x9e5AAC1Ba1a2e6aEd6b32689DFcF62A509Ca96f3', symbol='DF', decimals=18, listed=True, wrapped_token_address=None), Token(token_address='0xbfD291DA8A403DAAF7e5E9DC1ec0aCEaCd4848B9', symbol='USX', decimals=18, listed=True, wrapped_token_address=None), Token(token_address='0x9Bcef72be871e61ED4fBbc7630889beE758eb81D', symbol='rETH', decimals=18, listed=True, wrapped_token_address=None), Token(token_address='0x9e1028F5F1D5eDE59748FFceE5532509976840E0', symbol='PERP', decimals=18, listed=True, wrapped_token_address=None), Token(token_address='0x79AF5dd14e855823FA3E9ECAcdF001D99647d043', symbol='jEUR', decimals=18, listed=True, wrapped_token_address=None), Token(token_address='0xAF9fE3B5cCDAe78188B1F8b9a49Da7ae9510F151', symbol='DHT', decimals=18, listed=True, wrapped_token_address=None), Token(token_address='0x484c2D6e3cDd945a8B2DF735e079178C1036578c', symbol='sfrxETH', decimals=18, listed=True, wrapped_token_address=None), Token(token_address='0x217D47011b23BB961eB6D93cA9945B7501a5BB11', symbol='THALES', decimals=18, listed=True, wrapped_token_address=None), Token(token_address='0x296F55F8Fb28E498B858d0BcDA06D955B2Cb3f97', symbol='STG', decimals=18, listed=True, wrapped_token_address=None), Token(token_address='0xc5102fE9359FD9a28f877a67E36B0F050d81a3CC', symbol='HOP', decimals=18, listed=True, wrapped_token_address=None), Token(token_address='0x929B939f8524c3Be977af57A4A0aD3fb1E374b50', symbol='MTA', decimals=18, listed=True, wrapped_token_address=None), Token(token_address='0xa50B23cDfB2eC7c590e84f403256f67cE6dffB84', symbol='BLU', decimals=18, listed=True, wrapped_token_address=None), Token(token_address='0x8c6f28f2F1A3C87F0f938b96d27520d9751ec8d9', symbol='sUSD', decimals=18, listed=True, wrapped_token_address=None), Token(token_address='0x676f784d19c7F1Ac6C6BeaeaaC78B02a73427852', symbol='OPP', decimals=18, listed=True, wrapped_token_address=None), Token(token_address='0xC26921B5b9ee80773774d36C84328ccb22c3a819', symbol='wOptiDoge', decimals=18, listed=True, wrapped_token_address=None), Token(token_address='0x74ccbe53F77b08632ce0CB91D3A545bF6B8E0979', symbol='fBOMB', decimals=18, listed=True, wrapped_token_address=None), Token(token_address='0xc3864f98f2a61A7cAeb95b039D031b4E2f55e0e9', symbol='OpenX', decimals=18, listed=True, wrapped_token_address=None), Token(token_address='0x9a2e53158e12BC09270Af10C16A466cb2b5D7836', symbol='MET', decimals=18, listed=True, wrapped_token_address=None), Token(token_address='0x00a35FD824c717879BF370E70AC6868b95870Dfb', symbol='IB', decimals=18, listed=True, wrapped_token_address=None), Token(token_address='0x67CCEA5bb16181E7b4109c9c2143c24a1c2205Be', symbol='FXS', decimals=18, listed=True, wrapped_token_address=None), Token(token_address='0xc38464250F51123078BBd7eA574E185F6623d037', symbol='opxVELO', decimals=18, listed=True, wrapped_token_address=None), Token(token_address='0x395Ae52bB17aef68C2888d941736A71dC6d4e125', symbol='POOL', decimals=18, listed=True, wrapped_token_address=None), Token(token_address='0x68f180fcCe6836688e9084f035309E29Bf0A2095', symbol='WBTC', decimals=8, listed=True, wrapped_token_address=None), Token(token_address='0x6c84a8f1c29108F47a79964b5Fe888D4f4D0dE40', symbol='tBTC', decimals=18, listed=True, wrapped_token_address=None), Token(token_address='0x2dAD3a13ef0C6366220f989157009e501e7938F8', symbol='EXTRA', decimals=18, listed=True, wrapped_token_address=None), Token(token_address='0x5976d4c3bcFc1c5f90aB1419D7f3dDF109cEA35a', symbol='GNode', decimals=18, listed=True, wrapped_token_address=None), Token(token_address='0x3A18dcC9745eDcD1Ef33ecB93b0b6eBA5671e7Ca', symbol='KUJI', decimals=6, listed=True, wrapped_token_address=None), Token(token_address='0x1e925De1c68ef83bD98eE3E130eF14a50309C01B', symbol='EXA', decimals=18, listed=True, wrapped_token_address=None), Token(token_address='0xdC6fF44d5d932Cbd77B52E5612Ba0529DC6226F1', symbol='WLD', decimals=18, listed=True, wrapped_token_address=None), Token(token_address='0x1F514A61bcde34F94Bc39731235690ab9da737F7', symbol='TAROT', decimals=18, listed=True, wrapped_token_address=None), Token(token_address='0xC03b43d492d904406db2d7D57e67C7e8234bA752', symbol='wUSDR', decimals=9, listed=True, wrapped_token_address=None), Token(token_address='0xEB466342C4d449BC9f53A865D5Cb90586f405215', symbol='axlUSDC', decimals=6, listed=True, wrapped_token_address=None), Token(token_address='0xBC7B1Ff1c6989f006a1185318eD4E7b5796e66E1', symbol='PENDLE', decimals=18, listed=True, wrapped_token_address=None), Token(token_address='0x01B8b6384298D4848E3BE63D4C9D17830EeE488A', symbol='HAUS', decimals=18, listed=True, wrapped_token_address=None), Token(token_address='0xFf733b2A3557a7ed6697007ab5D11B79FdD1b76B', symbol='ACX', decimals=18, listed=True, wrapped_token_address=None), Token(token_address='0x33bCa143d9b41322479E8d26072a00a352404721', symbol='msOP', decimals=18, listed=True, wrapped_token_address=None), Token(token_address='0x9dAbAE7274D28A45F0B65Bf8ED201A5731492ca0', symbol='msUSD', decimals=18, listed=True, wrapped_token_address=None), Token(token_address='0x0b2C639c533813f4Aa9D7837CAf62653d097Ff85', symbol='USDC', decimals=6, listed=True, wrapped_token_address=None), Token(token_address='0x58b9cB810A68a7f3e1E4f8Cb45D1B9B3c79705E8', symbol='CLEAR', decimals=18, listed=True, wrapped_token_address=None), Token(token_address='0x259c1C2ED264402b5ed2f02bc7dC25A15C680c18', symbol='RING', decimals=18, listed=True, wrapped_token_address=None), Token(token_address='0xE974B9b31dBFf4369b94a1bAB5e228f35ed44125', symbol='ALCX', decimals=18, listed=True, wrapped_token_address=None), Token(token_address='0x1574564fCFd15BCCB3FE04E9818F61131eA74066', symbol='JARVIS', decimals=18, listed=True, wrapped_token_address=None), Token(token_address='0xc55E93C62874D8100dBd2DfE307EDc1036ad5434', symbol='mooBIFI', decimals=18, listed=True, wrapped_token_address=None), Token(token_address='0x3B6564b5DA73A41d3A66e6558a98FD0e9E1e77ad', symbol='UTS', decimals=18, listed=True, wrapped_token_address=None), Token(token_address='0x3Eb398fEc5F7327C6b15099a9681d9568ded2e82', symbol='TKN', decimals=18, listed=True, wrapped_token_address=None), Token(token_address='0x4F604735c1cF31399C6E711D5962b2B3E0225AD3', symbol='USDGLO', decimals=18, listed=True, wrapped_token_address=None), Token(token_address='0x2Dd1B4D4548aCCeA497050619965f91f78b3b532', symbol='sFRAX', decimals=18, listed=True, wrapped_token_address=None), Token(token_address='0x819845b60A192167Ed1139040B4F8ecA31834f27', symbol='mpETH', decimals=18, listed=True, wrapped_token_address=None), Token(token_address='0x2218a117083f5B482B0bB821d27056Ba9c04b1D3', symbol='sDAI', decimals=18, listed=True, wrapped_token_address=None), Token(token_address='0x66E535e8D2ebf13F49F3D49e5c50395a97C137b1', symbol='MOLTEN', decimals=18, listed=True, wrapped_token_address=None), Token(token_address='0x300d2c875C6fb8Ce4bf5480B4d34b7c9ea8a33A4', symbol='pxETH', decimals=18, listed=True, wrapped_token_address=None), Token(token_address='0x10398AbC267496E49106B07dd6BE13364D10dC71', symbol='HAI', decimals=18, listed=True, wrapped_token_address=None), Token(token_address='0xf467C7d5a4A9C4687fFc7986aC6aD5A4c81E1404', symbol='KITE', decimals=18, listed=True, wrapped_token_address=None), Token(token_address='0xa211E25F7246950E0cCe054e3161C7c0b6379485', symbol='IPT', decimals=18, listed=True, wrapped_token_address=None), Token(token_address='0x0000206329b97DB379d5E1Bf586BbDB969C63274', symbol='USDA', decimals=18, listed=True, wrapped_token_address=None), Token(token_address='0xD9cC3D70E730503E7f28c1B407389198c4B75FA2', symbol='TLX', decimals=18, listed=True, wrapped_token_address=None), Token(token_address='0x87eEE96D50Fb761AD85B1c982d28A042169d61b1', symbol='wrsETH', decimals=18, listed=True, wrapped_token_address=None), Token(token_address='0x5A5fFf6F753d7C11A56A52FE47a177a87e431655', symbol='SYN', decimals=18, listed=True, wrapped_token_address=None), Token(token_address='0x0a7B751FcDBBAA8BB988B9217ad5Fb5cfe7bf7A0', symbol='ITP', decimals=18, listed=True, wrapped_token_address=None), Token(token_address='0x5A7fACB970D094B6C7FF1df0eA68D99E6e73CBFF', symbol='weETH', decimals=18, listed=True, wrapped_token_address=None), Token(token_address='0x7a1263eC3Bf0a19e25C553B8A2C312e903262C5E', symbol='SAIL', decimals=18, listed=True, wrapped_token_address=None), Token(token_address='0x2416092f143378750bb29b79eD961ab195CcEea5', symbol='ezETH', decimals=18, listed=True, wrapped_token_address=None)]\n",
      "ETH price: $1569.5405703215238\n",
      "VELO price: $0.04446808366076679\n",
      "RED price: $0.07302549466251432\n",
      "USDC price: $1.0\n",
      "WETH price: $1569.5405703215238\n",
      "sAMM-opxveVELO/VELO pool: $186.13261351636794\n",
      "vAMM-RED/VELO pool: $133028.3196804818\n",
      "vAMM-USDC/VELO pool: $313484.2743807486\n",
      "vAMM-UNLOCK/VELO pool: $268.3185824313766\n",
      "vAMM-WETH/VELO pool: $299784.56279093196\n"
     ]
    }
   ],
   "source": [
    "with OPChain() as chain:\n",
    "    tokens = chain.get_all_tokens()\n",
    "    prices = chain.get_prices(tokens)\n",
    "    pools = chain.get_pools()\n",
    "\n",
    "    print(tokens)\n",
    "\n",
    "    for p in prices[:5]: print(f\"{p.token.symbol} price: ${p.price}\")\n",
    "    for p in pools[:5]: print(f\"{p.symbol} pool: ${p.tvl}\")"
   ]
  },
  {
   "cell_type": "markdown",
   "metadata": {},
   "source": [
    "### Swaps\n",
    "\n",
    "Let's test some swaps here"
   ]
  },
  {
   "cell_type": "code",
   "execution_count": null,
   "metadata": {},
   "outputs": [
    {
     "name": "stdout",
     "output_type": "stream",
     "text": [
      "AttributeDict({'blockHash': HexBytes('0x346eb532ac66b6407780e3347d589cd4ea7aec95967bc8333a6bdf07674a4a98'), 'blockNumber': 134395900, 'contractAddress': None, 'cumulativeGasUsed': 3579118, 'effectiveGasPrice': 2142728, 'from': '0x1e7A6B63F98484514610A9F0D5b399d4F7a9b1dA', 'gasUsed': 223867, 'l1BaseFeeScalar': '0x146b', 'l1BlobBaseFee': '0x314d7ee6', 'l1BlobBaseFeeScalar': '0xf79c5', 'l1Fee': '0x2c0d5b1a1f', 'l1GasPrice': '0x9417439f', 'l1GasUsed': '0xb4c', 'logs': [AttributeDict({'address': '0x0b2C639c533813f4Aa9D7837CAf62653d097Ff85', 'topics': [HexBytes('0xddf252ad1be2c89b69c2b068fc378daa952ba7f163c4a11628f55a4df523b3ef'), HexBytes('0x0000000000000000000000007cfc2da3ba598ef4de692905fedca32565ab836e'), HexBytes('0x0000000000000000000000001e7a6b63f98484514610a9f0d5b399d4f7a9b1da')], 'data': HexBytes('0x000000000000000000000000000000000000000000000000000000000006c9c4'), 'blockNumber': 134395900, 'transactionHash': HexBytes('0xe87bf43b4fc83766c12df23c2f7d444481d7bbf25da177a7bd5b90966ce83c05'), 'transactionIndex': 11, 'blockHash': HexBytes('0x346eb532ac66b6407780e3347d589cd4ea7aec95967bc8333a6bdf07674a4a98'), 'logIndex': 30, 'removed': False}), AttributeDict({'address': '0x9560e827aF36c94D2Ac33a39bCE1Fe78631088Db', 'topics': [HexBytes('0x8c5be1e5ebec7d5bd14f71427d1e84f3dd0314c0f7b2291e5b200ac8c7c3b925'), HexBytes('0x0000000000000000000000001e7a6b63f98484514610a9f0d5b399d4f7a9b1da'), HexBytes('0x0000000000000000000000004bf3e32de155359d1d75e8b474b66848221142fc')], 'data': HexBytes('0x0000000000000000000000000000000000000000000000000000000000000000'), 'blockNumber': 134395900, 'transactionHash': HexBytes('0xe87bf43b4fc83766c12df23c2f7d444481d7bbf25da177a7bd5b90966ce83c05'), 'transactionIndex': 11, 'blockHash': HexBytes('0x346eb532ac66b6407780e3347d589cd4ea7aec95967bc8333a6bdf07674a4a98'), 'logIndex': 31, 'removed': False}), AttributeDict({'address': '0x9560e827aF36c94D2Ac33a39bCE1Fe78631088Db', 'topics': [HexBytes('0xddf252ad1be2c89b69c2b068fc378daa952ba7f163c4a11628f55a4df523b3ef'), HexBytes('0x0000000000000000000000001e7a6b63f98484514610a9f0d5b399d4f7a9b1da'), HexBytes('0x0000000000000000000000007cfc2da3ba598ef4de692905fedca32565ab836e')], 'data': HexBytes('0x0000000000000000000000000000000000000000000000008ac7230489e80000'), 'blockNumber': 134395900, 'transactionHash': HexBytes('0xe87bf43b4fc83766c12df23c2f7d444481d7bbf25da177a7bd5b90966ce83c05'), 'transactionIndex': 11, 'blockHash': HexBytes('0x346eb532ac66b6407780e3347d589cd4ea7aec95967bc8333a6bdf07674a4a98'), 'logIndex': 32, 'removed': False}), AttributeDict({'address': '0x7cfc2Da3ba598ef4De692905feDcA32565AB836E', 'topics': [HexBytes('0xc42079f94a6350d7e6235f29174924f928cc2ac818eb64fed8004e115fbcca67'), HexBytes('0x0000000000000000000000004bf3e32de155359d1d75e8b474b66848221142fc'), HexBytes('0x0000000000000000000000001e7a6b63f98484514610a9f0d5b399d4f7a9b1da')], 'data': HexBytes('0xfffffffffffffffffffffffffffffffffffffffffffffffffffffffffff9363c0000000000000000000000000000000000000000000000008ac7230489e800000000000000000000000000000000000000483acd629747df1a19fa88140f95390000000000000000000000000000000000000000000000012f202a5b3d033fe6000000000000000000000000000000000000000000000000000000000004b0db'), 'blockNumber': 134395900, 'transactionHash': HexBytes('0xe87bf43b4fc83766c12df23c2f7d444481d7bbf25da177a7bd5b90966ce83c05'), 'transactionIndex': 11, 'blockHash': HexBytes('0x346eb532ac66b6407780e3347d589cd4ea7aec95967bc8333a6bdf07674a4a98'), 'logIndex': 33, 'removed': False})], 'logsBloom': HexBytes('0x00002000000000000000000000000000000000080000000000000000400000000000000020000000000000000000000000000000000020000000000000200000000000000000000800000008000100000000000000000000000000000000000008000200000000000000000000000000000000000000200000000010000800000000000000000000000200000000000000000000000000000000000002000000020800000000000000000000000000000000000000000000000000000000000000000042080080008000000000000000000000000080000000000008000000000010000000000000000000000000020000000000000000000000000000000000'), 'status': 1, 'to': '0x4bF3E32de155359D1D75e8B474b66848221142fc', 'transactionHash': HexBytes('0xe87bf43b4fc83766c12df23c2f7d444481d7bbf25da177a7bd5b90966ce83c05'), 'transactionIndex': 11, 'type': 2})\n"
     ]
    }
   ],
   "source": [
    "# velo -> usdc\n",
    "async with AsyncOPChainSimnet() as op:\n",
    "    tokens = await op.get_all_tokens(listed_only=True)\n",
    "    def get_token_by_address(addr): return next(filter(lambda t: t.token_address == addr, tokens), None)\n",
    "    usdc, velo = get_token_by_address(normalize_address(\"0x0b2c639c533813f4aa9d7837caf62653d097ff85\")), get_token_by_address(normalize_address(\"0x9560e827af36c94d2ac33a39bce1fe78631088db\"))\n",
    "    print(await op.swap(velo, usdc, 10, slippage=0.01))"
   ]
  },
  {
   "cell_type": "markdown",
   "metadata": {},
   "source": [
    "Sync version of the swap"
   ]
  },
  {
   "cell_type": "code",
   "execution_count": null,
   "metadata": {},
   "outputs": [
    {
     "name": "stdout",
     "output_type": "stream",
     "text": [
      "AttributeDict({'blockHash': HexBytes('0x7fbfa523c5f14ce0339a37213fa45b1b42bd02861ef0141f435f963e54d99eb3'), 'blockNumber': 134395905, 'contractAddress': None, 'cumulativeGasUsed': 4798221, 'effectiveGasPrice': 2143906, 'from': '0x1e7A6B63F98484514610A9F0D5b399d4F7a9b1dA', 'gasUsed': 223867, 'l1BaseFeeScalar': '0x146b', 'l1BlobBaseFee': '0x2bd31b6e', 'l1BlobBaseFeeScalar': '0xf79c5', 'l1Fee': '0x27e72a7ee9', 'l1GasPrice': '0x9042cb80', 'l1GasUsed': '0xb4c', 'logs': [AttributeDict({'address': '0x0b2C639c533813f4Aa9D7837CAf62653d097Ff85', 'topics': [HexBytes('0xddf252ad1be2c89b69c2b068fc378daa952ba7f163c4a11628f55a4df523b3ef'), HexBytes('0x0000000000000000000000007cfc2da3ba598ef4de692905fedca32565ab836e'), HexBytes('0x0000000000000000000000001e7a6b63f98484514610a9f0d5b399d4f7a9b1da')], 'data': HexBytes('0x000000000000000000000000000000000000000000000000000000000006c9c4'), 'blockNumber': 134395905, 'transactionHash': HexBytes('0xb15f5204f0a2eaf750c1eb3f95f26cbc0f023d9fb7cbe3ceb76c1d13c1afe31e'), 'transactionIndex': 13, 'blockHash': HexBytes('0x7fbfa523c5f14ce0339a37213fa45b1b42bd02861ef0141f435f963e54d99eb3'), 'logIndex': 77, 'removed': False}), AttributeDict({'address': '0x9560e827aF36c94D2Ac33a39bCE1Fe78631088Db', 'topics': [HexBytes('0x8c5be1e5ebec7d5bd14f71427d1e84f3dd0314c0f7b2291e5b200ac8c7c3b925'), HexBytes('0x0000000000000000000000001e7a6b63f98484514610a9f0d5b399d4f7a9b1da'), HexBytes('0x0000000000000000000000004bf3e32de155359d1d75e8b474b66848221142fc')], 'data': HexBytes('0x0000000000000000000000000000000000000000000000000000000000000000'), 'blockNumber': 134395905, 'transactionHash': HexBytes('0xb15f5204f0a2eaf750c1eb3f95f26cbc0f023d9fb7cbe3ceb76c1d13c1afe31e'), 'transactionIndex': 13, 'blockHash': HexBytes('0x7fbfa523c5f14ce0339a37213fa45b1b42bd02861ef0141f435f963e54d99eb3'), 'logIndex': 78, 'removed': False}), AttributeDict({'address': '0x9560e827aF36c94D2Ac33a39bCE1Fe78631088Db', 'topics': [HexBytes('0xddf252ad1be2c89b69c2b068fc378daa952ba7f163c4a11628f55a4df523b3ef'), HexBytes('0x0000000000000000000000001e7a6b63f98484514610a9f0d5b399d4f7a9b1da'), HexBytes('0x0000000000000000000000007cfc2da3ba598ef4de692905fedca32565ab836e')], 'data': HexBytes('0x0000000000000000000000000000000000000000000000008ac7230489e80000'), 'blockNumber': 134395905, 'transactionHash': HexBytes('0xb15f5204f0a2eaf750c1eb3f95f26cbc0f023d9fb7cbe3ceb76c1d13c1afe31e'), 'transactionIndex': 13, 'blockHash': HexBytes('0x7fbfa523c5f14ce0339a37213fa45b1b42bd02861ef0141f435f963e54d99eb3'), 'logIndex': 79, 'removed': False}), AttributeDict({'address': '0x7cfc2Da3ba598ef4De692905feDcA32565AB836E', 'topics': [HexBytes('0xc42079f94a6350d7e6235f29174924f928cc2ac818eb64fed8004e115fbcca67'), HexBytes('0x0000000000000000000000004bf3e32de155359d1d75e8b474b66848221142fc'), HexBytes('0x0000000000000000000000001e7a6b63f98484514610a9f0d5b399d4f7a9b1da')], 'data': HexBytes('0xfffffffffffffffffffffffffffffffffffffffffffffffffffffffffff9363c0000000000000000000000000000000000000000000000008ac7230489e800000000000000000000000000000000000000483acdd76c341246f3b2f790d9cc3a0000000000000000000000000000000000000000000000012f202a5b3d033fe6000000000000000000000000000000000000000000000000000000000004b0db'), 'blockNumber': 134395905, 'transactionHash': HexBytes('0xb15f5204f0a2eaf750c1eb3f95f26cbc0f023d9fb7cbe3ceb76c1d13c1afe31e'), 'transactionIndex': 13, 'blockHash': HexBytes('0x7fbfa523c5f14ce0339a37213fa45b1b42bd02861ef0141f435f963e54d99eb3'), 'logIndex': 80, 'removed': False})], 'logsBloom': HexBytes('0x00002000000000000000000000000000000000080000000000000000400000000000000020000000000000000000000000000000000020000000000000200000000000000000000800000008000100000000000000000000000000000000000008000200000000000000000000000000000000000000200000000010000800000000000000000000000200000000000000000000000000000000000002000000020800000000000000000000000000000000000000000000000000000000000000000042080080008000000000000000000000000080000000000008000000000010000000000000000000000000020000000000000000000000000000000000'), 'status': 1, 'to': '0x4bF3E32de155359D1D75e8B474b66848221142fc', 'transactionHash': HexBytes('0xb15f5204f0a2eaf750c1eb3f95f26cbc0f023d9fb7cbe3ceb76c1d13c1afe31e'), 'transactionIndex': 13, 'type': 2})\n"
     ]
    }
   ],
   "source": [
    "# velo -> usdc\n",
    "with OPChainSimnet() as op:\n",
    "    tokens = op.get_all_tokens(listed_only=True)\n",
    "    def get_token_by_address(addr): return next(filter(lambda t: t.token_address == addr, tokens), None)\n",
    "    usdc, velo = get_token_by_address(normalize_address(\"0x0b2c639c533813f4aa9d7837caf62653d097ff85\")), get_token_by_address(normalize_address(\"0x9560e827af36c94d2ac33a39bce1fe78631088db\"))\n",
    "    print(op.swap(velo, usdc, 10, slippage=0.01))"
   ]
  },
  {
   "cell_type": "markdown",
   "metadata": {},
   "source": [
    "Let's make sure sync VS async quote return consistent results"
   ]
  },
  {
   "cell_type": "code",
   "execution_count": null,
   "metadata": {},
   "outputs": [],
   "source": [
    "# velo -> usdc\n",
    "\n",
    "async with AsyncOPChainSimnet() as op:\n",
    "    tokens = await op.get_all_tokens(listed_only=True)\n",
    "    def get_token_by_address(addr): return next(filter(lambda t: t.token_address == addr, tokens), None)\n",
    "    usdc, velo = get_token_by_address(normalize_address(\"0x0b2c639c533813f4aa9d7837caf62653d097ff85\")), get_token_by_address(normalize_address(\"0x9560e827af36c94d2ac33a39bce1fe78631088db\"))\n",
    "    q1 = await op.get_quote(from_token=velo, to_token=usdc, amount_in=10)\n",
    "    amount_out1 = q1.amount_out / 10 ** usdc.decimals\n",
    "\n",
    "\n",
    "with OPChainSimnet() as op:\n",
    "    tokens = op.get_all_tokens(listed_only=True)\n",
    "    def get_token_by_address(addr): return next(filter(lambda t: t.token_address == addr, tokens), None)\n",
    "    usdc, velo = get_token_by_address(normalize_address(\"0x0b2c639c533813f4aa9d7837caf62653d097ff85\")), get_token_by_address(normalize_address(\"0x9560e827af36c94d2ac33a39bce1fe78631088db\"))\n",
    "    q2 = op.get_quote(from_token=velo, to_token=usdc, amount_in=10)\n",
    "    amount_out2 = q2.amount_out / 10 ** usdc.decimals\n",
    "\n",
    "test_close(amount_out1, amount_out2, 0.0001)"
   ]
  },
  {
   "cell_type": "code",
   "execution_count": null,
   "metadata": {},
   "outputs": [
    {
     "name": "stdout",
     "output_type": "stream",
     "text": [
      "AttributeDict({'blockHash': HexBytes('0x63fcf042e32d150d0ab4e1a671989ee9e7d30dbbc99d166ef04fa0a09e35428b'), 'blockNumber': 134395918, 'contractAddress': None, 'cumulativeGasUsed': 2954942, 'effectiveGasPrice': 2146688, 'from': '0x1e7A6B63F98484514610A9F0D5b399d4F7a9b1dA', 'gasUsed': 364938, 'l1BaseFeeScalar': '0x146b', 'l1BlobBaseFee': '0x22a07abf', 'l1BlobBaseFeeScalar': '0xf79c5', 'l1Fee': '0x2f1d61406d', 'l1GasPrice': '0x912ea67a', 'l1GasUsed': '0xff3', 'logs': [AttributeDict({'address': '0x0b2C639c533813f4Aa9D7837CAf62653d097Ff85', 'topics': [HexBytes('0xddf252ad1be2c89b69c2b068fc378daa952ba7f163c4a11628f55a4df523b3ef'), HexBytes('0x0000000000000000000000007cfc2da3ba598ef4de692905fedca32565ab836e'), HexBytes('0x000000000000000000000000f4f2657ae744354baca871e56775e5083f7276ab')], 'data': HexBytes('0x000000000000000000000000000000000000000000000000000000000006c9c5'), 'blockNumber': 134395918, 'transactionHash': HexBytes('0x0d6e9cfae43d4809140725e39586fb8dbac56c5f302d153ad2772f9de57dbec0'), 'transactionIndex': 8, 'blockHash': HexBytes('0x63fcf042e32d150d0ab4e1a671989ee9e7d30dbbc99d166ef04fa0a09e35428b'), 'logIndex': 11, 'removed': False}), AttributeDict({'address': '0x9560e827aF36c94D2Ac33a39bCE1Fe78631088Db', 'topics': [HexBytes('0x8c5be1e5ebec7d5bd14f71427d1e84f3dd0314c0f7b2291e5b200ac8c7c3b925'), HexBytes('0x0000000000000000000000001e7a6b63f98484514610a9f0d5b399d4f7a9b1da'), HexBytes('0x0000000000000000000000004bf3e32de155359d1d75e8b474b66848221142fc')], 'data': HexBytes('0x0000000000000000000000000000000000000000000000000000000000000000'), 'blockNumber': 134395918, 'transactionHash': HexBytes('0x0d6e9cfae43d4809140725e39586fb8dbac56c5f302d153ad2772f9de57dbec0'), 'transactionIndex': 8, 'blockHash': HexBytes('0x63fcf042e32d150d0ab4e1a671989ee9e7d30dbbc99d166ef04fa0a09e35428b'), 'logIndex': 12, 'removed': False}), AttributeDict({'address': '0x9560e827aF36c94D2Ac33a39bCE1Fe78631088Db', 'topics': [HexBytes('0xddf252ad1be2c89b69c2b068fc378daa952ba7f163c4a11628f55a4df523b3ef'), HexBytes('0x0000000000000000000000001e7a6b63f98484514610a9f0d5b399d4f7a9b1da'), HexBytes('0x0000000000000000000000007cfc2da3ba598ef4de692905fedca32565ab836e')], 'data': HexBytes('0x0000000000000000000000000000000000000000000000008ac7230489e80000'), 'blockNumber': 134395918, 'transactionHash': HexBytes('0x0d6e9cfae43d4809140725e39586fb8dbac56c5f302d153ad2772f9de57dbec0'), 'transactionIndex': 8, 'blockHash': HexBytes('0x63fcf042e32d150d0ab4e1a671989ee9e7d30dbbc99d166ef04fa0a09e35428b'), 'logIndex': 13, 'removed': False}), AttributeDict({'address': '0x7cfc2Da3ba598ef4De692905feDcA32565AB836E', 'topics': [HexBytes('0xc42079f94a6350d7e6235f29174924f928cc2ac818eb64fed8004e115fbcca67'), HexBytes('0x0000000000000000000000004bf3e32de155359d1d75e8b474b66848221142fc'), HexBytes('0x000000000000000000000000f4f2657ae744354baca871e56775e5083f7276ab')], 'data': HexBytes('0xfffffffffffffffffffffffffffffffffffffffffffffffffffffffffff9363b0000000000000000000000000000000000000000000000008ac7230489e800000000000000000000000000000000000000483adfe539b1bbe114176b55a7cd740000000000000000000000000000000000000000000000012f202a5b3d033fe6000000000000000000000000000000000000000000000000000000000004b0db'), 'blockNumber': 134395918, 'transactionHash': HexBytes('0x0d6e9cfae43d4809140725e39586fb8dbac56c5f302d153ad2772f9de57dbec0'), 'transactionIndex': 8, 'blockHash': HexBytes('0x63fcf042e32d150d0ab4e1a671989ee9e7d30dbbc99d166ef04fa0a09e35428b'), 'logIndex': 14, 'removed': False}), AttributeDict({'address': '0x4200000000000000000000000000000000000006', 'topics': [HexBytes('0xddf252ad1be2c89b69c2b068fc378daa952ba7f163c4a11628f55a4df523b3ef'), HexBytes('0x000000000000000000000000f4f2657ae744354baca871e56775e5083f7276ab'), HexBytes('0x0000000000000000000000004bf3e32de155359d1d75e8b474b66848221142fc')], 'data': HexBytes('0x000000000000000000000000000000000000000000000000000102271238abab'), 'blockNumber': 134395918, 'transactionHash': HexBytes('0x0d6e9cfae43d4809140725e39586fb8dbac56c5f302d153ad2772f9de57dbec0'), 'transactionIndex': 8, 'blockHash': HexBytes('0x63fcf042e32d150d0ab4e1a671989ee9e7d30dbbc99d166ef04fa0a09e35428b'), 'logIndex': 15, 'removed': False}), AttributeDict({'address': '0x0b2C639c533813f4Aa9D7837CAf62653d097Ff85', 'topics': [HexBytes('0xddf252ad1be2c89b69c2b068fc378daa952ba7f163c4a11628f55a4df523b3ef'), HexBytes('0x000000000000000000000000f4f2657ae744354baca871e56775e5083f7276ab'), HexBytes('0x0000000000000000000000009a31922b6e38f911aa91fadab5ddca9e01af1a7a')], 'data': HexBytes('0x0000000000000000000000000000000000000000000000000000000000000536'), 'blockNumber': 134395918, 'transactionHash': HexBytes('0x0d6e9cfae43d4809140725e39586fb8dbac56c5f302d153ad2772f9de57dbec0'), 'transactionIndex': 8, 'blockHash': HexBytes('0x63fcf042e32d150d0ab4e1a671989ee9e7d30dbbc99d166ef04fa0a09e35428b'), 'logIndex': 16, 'removed': False}), AttributeDict({'address': '0xF4F2657AE744354bAcA871E56775e5083F7276Ab', 'topics': [HexBytes('0x112c256902bf554b6ed882d2936687aaeb4225e8cd5b51303c90ca6cf43a8602'), HexBytes('0x0000000000000000000000004bf3e32de155359d1d75e8b474b66848221142fc')], 'data': HexBytes('0x00000000000000000000000000000000000000000000000000000000000005360000000000000000000000000000000000000000000000000000000000000000'), 'blockNumber': 134395918, 'transactionHash': HexBytes('0x0d6e9cfae43d4809140725e39586fb8dbac56c5f302d153ad2772f9de57dbec0'), 'transactionIndex': 8, 'blockHash': HexBytes('0x63fcf042e32d150d0ab4e1a671989ee9e7d30dbbc99d166ef04fa0a09e35428b'), 'logIndex': 17, 'removed': False}), AttributeDict({'address': '0xF4F2657AE744354bAcA871E56775e5083F7276Ab', 'topics': [HexBytes('0xcf2aa50876cdfbb541206f89af0ee78d44a2abf8d328e37fa4917f982149848a')], 'data': HexBytes('0x000000000000000000000000000000000000000000000000000000015efbcbdd000000000000000000000000000000000000000000000000344afb3d16a5a6f4'), 'blockNumber': 134395918, 'transactionHash': HexBytes('0x0d6e9cfae43d4809140725e39586fb8dbac56c5f302d153ad2772f9de57dbec0'), 'transactionIndex': 8, 'blockHash': HexBytes('0x63fcf042e32d150d0ab4e1a671989ee9e7d30dbbc99d166ef04fa0a09e35428b'), 'logIndex': 18, 'removed': False}), AttributeDict({'address': '0xF4F2657AE744354bAcA871E56775e5083F7276Ab', 'topics': [HexBytes('0xb3e2773606abfd36b5bd91394b3a54d1398336c65005baf7bf7a05efeffaf75b'), HexBytes('0x0000000000000000000000004bf3e32de155359d1d75e8b474b66848221142fc'), HexBytes('0x0000000000000000000000004bf3e32de155359d1d75e8b474b66848221142fc')], 'data': HexBytes('0x000000000000000000000000000000000000000000000000000000000006c9c500000000000000000000000000000000000000000000000000000000000000000000000000000000000000000000000000000000000000000000000000000000000000000000000000000000000000000000000000000000000102271238abab'), 'blockNumber': 134395918, 'transactionHash': HexBytes('0x0d6e9cfae43d4809140725e39586fb8dbac56c5f302d153ad2772f9de57dbec0'), 'transactionIndex': 8, 'blockHash': HexBytes('0x63fcf042e32d150d0ab4e1a671989ee9e7d30dbbc99d166ef04fa0a09e35428b'), 'logIndex': 19, 'removed': False}), AttributeDict({'address': '0x4200000000000000000000000000000000000006', 'topics': [HexBytes('0x7fcf532c15f0a6db0bd6d0e038bea71d30d808c7d98cb3bf7268a95bf5081b65'), HexBytes('0x0000000000000000000000004bf3e32de155359d1d75e8b474b66848221142fc')], 'data': HexBytes('0x000000000000000000000000000000000000000000000000000102271238abab'), 'blockNumber': 134395918, 'transactionHash': HexBytes('0x0d6e9cfae43d4809140725e39586fb8dbac56c5f302d153ad2772f9de57dbec0'), 'transactionIndex': 8, 'blockHash': HexBytes('0x63fcf042e32d150d0ab4e1a671989ee9e7d30dbbc99d166ef04fa0a09e35428b'), 'logIndex': 20, 'removed': False})], 'logsBloom': HexBytes('0x0000200800000000000000000000002000000008000000000104000040000000040000002000000000000010000000000000000000002000000000000020000000000000000000080000000800010000008000000040000000000000000000000800020000040000040000000000000004000000000024000000001000080000000020000000000000020200000000000000100000200000000000000200000002080000000000000000000000000000000000001000000000000000000000000000004208008000800000040000000000040000008002000000000a000000000010000100000000000000000000030000000000000000000000000000100000'), 'status': 1, 'to': '0x4bF3E32de155359D1D75e8B474b66848221142fc', 'transactionHash': HexBytes('0x0d6e9cfae43d4809140725e39586fb8dbac56c5f302d153ad2772f9de57dbec0'), 'transactionIndex': 8, 'type': 2})\n"
     ]
    }
   ],
   "source": [
    "# velo -> eth\n",
    "async with AsyncOPChainSimnet() as op:\n",
    "    tokens = await op.get_all_tokens(listed_only=True)\n",
    "    def get_token_by_address(addr): return next(filter(lambda t: t.token_address == addr, tokens), None)\n",
    "    velo = get_token_by_address(normalize_address(\"0x9560e827af36c94d2ac33a39bce1fe78631088db\"))\n",
    "    eth = get_token_by_address(\"ETH\")\n",
    "    quote = await op.get_quote(velo, eth, 10)\n",
    "    print(await op.swap_from_quote(quote))"
   ]
  },
  {
   "cell_type": "code",
   "execution_count": null,
   "metadata": {},
   "outputs": [
    {
     "name": "stdout",
     "output_type": "stream",
     "text": [
      "AttributeDict({'blockHash': HexBytes('0x9150012436df10e0d9f492a15acd3a399a2a40967f1a962d628efa799da22e6a'), 'blockNumber': 134395924, 'contractAddress': None, 'cumulativeGasUsed': 2882889, 'effectiveGasPrice': 2143981, 'from': '0x1e7A6B63F98484514610A9F0D5b399d4F7a9b1dA', 'gasUsed': 460781, 'l1BaseFeeScalar': '0x146b', 'l1BlobBaseFee': '0x25749808', 'l1BlobBaseFeeScalar': '0xf79c5', 'l1Fee': '0x37778230fa', 'l1GasPrice': '0x9059926b', 'l1GasUsed': '0x11ba', 'logs': [AttributeDict({'address': '0x4200000000000000000000000000000000000006', 'topics': [HexBytes('0xe1fffcc4923d04b559f4d29a8bfc6cda04eb5b0d3c460751c2402c5c5cc9109c'), HexBytes('0x0000000000000000000000004bf3e32de155359d1d75e8b474b66848221142fc')], 'data': HexBytes('0x00000000000000000000000000000000000000000000000000038d7ea4c68000'), 'blockNumber': 134395924, 'transactionHash': HexBytes('0x4f53cf7b91502f7e8bbf30100742a5a9e527514264d606fd35221bcdd4309e6d'), 'transactionIndex': 10, 'blockHash': HexBytes('0x9150012436df10e0d9f492a15acd3a399a2a40967f1a962d628efa799da22e6a'), 'logIndex': 15, 'removed': False}), AttributeDict({'address': '0x1F32b1c2345538c0c6f582fCB022739c4A194Ebb', 'topics': [HexBytes('0xddf252ad1be2c89b69c2b068fc378daa952ba7f163c4a11628f55a4df523b3ef'), HexBytes('0x000000000000000000000000bf30ff33cf9c6b0c48702ff17891293b002dfea4'), HexBytes('0x000000000000000000000000dad7b4c48b5b0be1159c674226be19038814ebf6')], 'data': HexBytes('0x0000000000000000000000000000000000000000000000000002f8562e3c8264'), 'blockNumber': 134395924, 'transactionHash': HexBytes('0x4f53cf7b91502f7e8bbf30100742a5a9e527514264d606fd35221bcdd4309e6d'), 'transactionIndex': 10, 'blockHash': HexBytes('0x9150012436df10e0d9f492a15acd3a399a2a40967f1a962d628efa799da22e6a'), 'logIndex': 16, 'removed': False}), AttributeDict({'address': '0x4200000000000000000000000000000000000006', 'topics': [HexBytes('0xddf252ad1be2c89b69c2b068fc378daa952ba7f163c4a11628f55a4df523b3ef'), HexBytes('0x0000000000000000000000004bf3e32de155359d1d75e8b474b66848221142fc'), HexBytes('0x000000000000000000000000bf30ff33cf9c6b0c48702ff17891293b002dfea4')], 'data': HexBytes('0x00000000000000000000000000000000000000000000000000038d7ea4c68000'), 'blockNumber': 134395924, 'transactionHash': HexBytes('0x4f53cf7b91502f7e8bbf30100742a5a9e527514264d606fd35221bcdd4309e6d'), 'transactionIndex': 10, 'blockHash': HexBytes('0x9150012436df10e0d9f492a15acd3a399a2a40967f1a962d628efa799da22e6a'), 'logIndex': 17, 'removed': False}), AttributeDict({'address': '0xbF30Ff33CF9C6b0c48702Ff17891293b002DfeA4', 'topics': [HexBytes('0xc42079f94a6350d7e6235f29174924f928cc2ac818eb64fed8004e115fbcca67'), HexBytes('0x0000000000000000000000004bf3e32de155359d1d75e8b474b66848221142fc'), HexBytes('0x000000000000000000000000dad7b4c48b5b0be1159c674226be19038814ebf6')], 'data': HexBytes('0xfffffffffffffffffffffffffffffffffffffffffffffffffffd07a9d1c37d9c00000000000000000000000000000000000000000000000000038d7ea4c68000000000000000000000000000000000000000000117f95187115b899876f57ab60000000000000000000000000000000000000000000b1665f88fd9823a3bf9dc00000000000000000000000000000000000000000000000000000000000006fe'), 'blockNumber': 134395924, 'transactionHash': HexBytes('0x4f53cf7b91502f7e8bbf30100742a5a9e527514264d606fd35221bcdd4309e6d'), 'transactionIndex': 10, 'blockHash': HexBytes('0x9150012436df10e0d9f492a15acd3a399a2a40967f1a962d628efa799da22e6a'), 'logIndex': 18, 'removed': False}), AttributeDict({'address': '0x0a7B751FcDBBAA8BB988B9217ad5Fb5cfe7bf7A0', 'topics': [HexBytes('0xddf252ad1be2c89b69c2b068fc378daa952ba7f163c4a11628f55a4df523b3ef'), HexBytes('0x000000000000000000000000dad7b4c48b5b0be1159c674226be19038814ebf6'), HexBytes('0x000000000000000000000000c04754f8027abbfe9eea492c9cc78b66946a07d1')], 'data': HexBytes('0x00000000000000000000000000000000000000000000000579351837fa0778ad'), 'blockNumber': 134395924, 'transactionHash': HexBytes('0x4f53cf7b91502f7e8bbf30100742a5a9e527514264d606fd35221bcdd4309e6d'), 'transactionIndex': 10, 'blockHash': HexBytes('0x9150012436df10e0d9f492a15acd3a399a2a40967f1a962d628efa799da22e6a'), 'logIndex': 19, 'removed': False}), AttributeDict({'address': '0x1F32b1c2345538c0c6f582fCB022739c4A194Ebb', 'topics': [HexBytes('0xddf252ad1be2c89b69c2b068fc378daa952ba7f163c4a11628f55a4df523b3ef'), HexBytes('0x000000000000000000000000dad7b4c48b5b0be1159c674226be19038814ebf6'), HexBytes('0x000000000000000000000000f3a9c484a6d7a7c4864b16f98a7a3b056d0fc0ba')], 'data': HexBytes('0x00000000000000000000000000000000000000000000000000000247f044470c'), 'blockNumber': 134395924, 'transactionHash': HexBytes('0x4f53cf7b91502f7e8bbf30100742a5a9e527514264d606fd35221bcdd4309e6d'), 'transactionIndex': 10, 'blockHash': HexBytes('0x9150012436df10e0d9f492a15acd3a399a2a40967f1a962d628efa799da22e6a'), 'logIndex': 20, 'removed': False}), AttributeDict({'address': '0xdAD7B4C48b5B0BE1159c674226BE19038814eBf6', 'topics': [HexBytes('0x112c256902bf554b6ed882d2936687aaeb4225e8cd5b51303c90ca6cf43a8602'), HexBytes('0x0000000000000000000000004bf3e32de155359d1d75e8b474b66848221142fc')], 'data': HexBytes('0x000000000000000000000000000000000000000000000000000000000000000000000000000000000000000000000000000000000000000000000247f044470c'), 'blockNumber': 134395924, 'transactionHash': HexBytes('0x4f53cf7b91502f7e8bbf30100742a5a9e527514264d606fd35221bcdd4309e6d'), 'transactionIndex': 10, 'blockHash': HexBytes('0x9150012436df10e0d9f492a15acd3a399a2a40967f1a962d628efa799da22e6a'), 'logIndex': 21, 'removed': False}), AttributeDict({'address': '0xdAD7B4C48b5B0BE1159c674226BE19038814eBf6', 'topics': [HexBytes('0xcf2aa50876cdfbb541206f89af0ee78d44a2abf8d328e37fa4917f982149848a')], 'data': HexBytes('0x000000000000000000000000000000000000000000008ded5a34e628fd5674280000000000000000000000000000000000000000000000004ccb5e26a81b4a27'), 'blockNumber': 134395924, 'transactionHash': HexBytes('0x4f53cf7b91502f7e8bbf30100742a5a9e527514264d606fd35221bcdd4309e6d'), 'transactionIndex': 10, 'blockHash': HexBytes('0x9150012436df10e0d9f492a15acd3a399a2a40967f1a962d628efa799da22e6a'), 'logIndex': 22, 'removed': False}), AttributeDict({'address': '0xdAD7B4C48b5B0BE1159c674226BE19038814eBf6', 'topics': [HexBytes('0xb3e2773606abfd36b5bd91394b3a54d1398336c65005baf7bf7a05efeffaf75b'), HexBytes('0x0000000000000000000000004bf3e32de155359d1d75e8b474b66848221142fc'), HexBytes('0x000000000000000000000000c04754f8027abbfe9eea492c9cc78b66946a07d1')], 'data': HexBytes('0x00000000000000000000000000000000000000000000000000000000000000000000000000000000000000000000000000000000000000000002f8562e3c826400000000000000000000000000000000000000000000000579351837fa0778ad0000000000000000000000000000000000000000000000000000000000000000'), 'blockNumber': 134395924, 'transactionHash': HexBytes('0x4f53cf7b91502f7e8bbf30100742a5a9e527514264d606fd35221bcdd4309e6d'), 'transactionIndex': 10, 'blockHash': HexBytes('0x9150012436df10e0d9f492a15acd3a399a2a40967f1a962d628efa799da22e6a'), 'logIndex': 23, 'removed': False}), AttributeDict({'address': '0x9560e827aF36c94D2Ac33a39bCE1Fe78631088Db', 'topics': [HexBytes('0xddf252ad1be2c89b69c2b068fc378daa952ba7f163c4a11628f55a4df523b3ef'), HexBytes('0x000000000000000000000000c04754f8027abbfe9eea492c9cc78b66946a07d1'), HexBytes('0x0000000000000000000000001e7a6b63f98484514610a9f0d5b399d4f7a9b1da')], 'data': HexBytes('0x000000000000000000000000000000000000000000000001e9ac84308a1bb151'), 'blockNumber': 134395924, 'transactionHash': HexBytes('0x4f53cf7b91502f7e8bbf30100742a5a9e527514264d606fd35221bcdd4309e6d'), 'transactionIndex': 10, 'blockHash': HexBytes('0x9150012436df10e0d9f492a15acd3a399a2a40967f1a962d628efa799da22e6a'), 'logIndex': 24, 'removed': False}), AttributeDict({'address': '0x0a7B751FcDBBAA8BB988B9217ad5Fb5cfe7bf7A0', 'topics': [HexBytes('0xddf252ad1be2c89b69c2b068fc378daa952ba7f163c4a11628f55a4df523b3ef'), HexBytes('0x000000000000000000000000c04754f8027abbfe9eea492c9cc78b66946a07d1'), HexBytes('0x0000000000000000000000007ec38ab6af0ad66c28126650eae5856e84061d2b')], 'data': HexBytes('0x00000000000000000000000000000000000000000000000004342095ac039b3d'), 'blockNumber': 134395924, 'transactionHash': HexBytes('0x4f53cf7b91502f7e8bbf30100742a5a9e527514264d606fd35221bcdd4309e6d'), 'transactionIndex': 10, 'blockHash': HexBytes('0x9150012436df10e0d9f492a15acd3a399a2a40967f1a962d628efa799da22e6a'), 'logIndex': 25, 'removed': False}), AttributeDict({'address': '0xC04754F8027aBBFe9EeA492C9cC78b66946a07D1', 'topics': [HexBytes('0x112c256902bf554b6ed882d2936687aaeb4225e8cd5b51303c90ca6cf43a8602'), HexBytes('0x0000000000000000000000004bf3e32de155359d1d75e8b474b66848221142fc')], 'data': HexBytes('0x00000000000000000000000000000000000000000000000004342095ac039b3d0000000000000000000000000000000000000000000000000000000000000000'), 'blockNumber': 134395924, 'transactionHash': HexBytes('0x4f53cf7b91502f7e8bbf30100742a5a9e527514264d606fd35221bcdd4309e6d'), 'transactionIndex': 10, 'blockHash': HexBytes('0x9150012436df10e0d9f492a15acd3a399a2a40967f1a962d628efa799da22e6a'), 'logIndex': 26, 'removed': False}), AttributeDict({'address': '0xC04754F8027aBBFe9EeA492C9cC78b66946a07D1', 'topics': [HexBytes('0xcf2aa50876cdfbb541206f89af0ee78d44a2abf8d328e37fa4917f982149848a')], 'data': HexBytes('0x0000000000000000000000000000000000000000000089b920c05df51a1ab76b00000000000000000000000000000000000000000000304451661cca1e78abbe'), 'blockNumber': 134395924, 'transactionHash': HexBytes('0x4f53cf7b91502f7e8bbf30100742a5a9e527514264d606fd35221bcdd4309e6d'), 'transactionIndex': 10, 'blockHash': HexBytes('0x9150012436df10e0d9f492a15acd3a399a2a40967f1a962d628efa799da22e6a'), 'logIndex': 27, 'removed': False}), AttributeDict({'address': '0xC04754F8027aBBFe9EeA492C9cC78b66946a07D1', 'topics': [HexBytes('0xb3e2773606abfd36b5bd91394b3a54d1398336c65005baf7bf7a05efeffaf75b'), HexBytes('0x0000000000000000000000004bf3e32de155359d1d75e8b474b66848221142fc'), HexBytes('0x0000000000000000000000001e7a6b63f98484514610a9f0d5b399d4f7a9b1da')], 'data': HexBytes('0x00000000000000000000000000000000000000000000000579351837fa0778ad00000000000000000000000000000000000000000000000000000000000000000000000000000000000000000000000000000000000000000000000000000000000000000000000000000000000000000000000000000001e9ac84308a1bb151'), 'blockNumber': 134395924, 'transactionHash': HexBytes('0x4f53cf7b91502f7e8bbf30100742a5a9e527514264d606fd35221bcdd4309e6d'), 'transactionIndex': 10, 'blockHash': HexBytes('0x9150012436df10e0d9f492a15acd3a399a2a40967f1a962d628efa799da22e6a'), 'logIndex': 28, 'removed': False})], 'logsBloom': HexBytes('0x00000041000000000000000100000000000000000000000000040000600000000400000020000001000400100000000400000000000020000000800000000200000000000000000800000008000100000080000040000000000000008000000008004000400400010000010000000000001000000000000000000010000800004800000000004000000002000000020020001001002000000000000010000000000801000000000000000000000000000000000000000000000000000000000000000082080000008080000400000000000000000480020000000000000000000010000100040000000000000000030000000000000000400000080000020000'), 'status': 1, 'to': '0x4bF3E32de155359D1D75e8B474b66848221142fc', 'transactionHash': HexBytes('0x4f53cf7b91502f7e8bbf30100742a5a9e527514264d606fd35221bcdd4309e6d'), 'transactionIndex': 10, 'type': 2})\n"
     ]
    }
   ],
   "source": [
    "# eth -> velo\n",
    "async with AsyncOPChainSimnet() as op:\n",
    "    tokens = await op.get_all_tokens(listed_only=True)\n",
    "    def get_token_by_address(addr): return next(filter(lambda t: t.token_address == addr, tokens), None)\n",
    "    velo = get_token_by_address(normalize_address(\"0x9560e827af36c94d2ac33a39bce1fe78631088db\"))\n",
    "    eth = get_token_by_address(\"ETH\")\n",
    "    print(await op.swap(eth, velo, 0.001, slippage=0.01))"
   ]
  },
  {
   "cell_type": "markdown",
   "metadata": {},
   "source": [
    "Basic deposit on OP"
   ]
  },
  {
   "cell_type": "code",
   "execution_count": null,
   "metadata": {},
   "outputs": [],
   "source": [
    "# async with AsyncOPChain() as chain:\n",
    "#     pools = await chain.get_pools()\n",
    "#     pools = list(filter(lambda x: x.token0 and x.token0.token_address == chain.usdc and x.token1.token_address == chain.velo, pools))\n",
    "#     async with AsyncOPChainSimnet() as supersim:\n",
    "#         print(f\"supersim is {supersim}\")\n",
    "#         # 0.02 USDC \n",
    "#         await supersim.deposit(Deposit(pools[0], 0.02))"
   ]
  },
  {
   "cell_type": "markdown",
   "metadata": {},
   "source": [
    "Native -> non Native on OP"
   ]
  },
  {
   "cell_type": "code",
   "execution_count": null,
   "metadata": {},
   "outputs": [],
   "source": [
    "## WIP\n",
    "# async with OPChain() as op:\n",
    "#     pools = await op.get_pools()\n",
    "#     # find WETH/Velo pool\n",
    "#     weth_velo_pool = next(filter(lambda p: p.token0.token_address == op.settings.wrapped_native_token_addr and p.token1.token_address == OPChain.velo, pools), None)\n",
    "#     test_ne(weth_velo_pool, None)\n",
    "#     async with OPChainSimnet() as supersim:\n",
    "#         await supersim.deposit(Deposit(weth_velo_pool, 0.0001))"
   ]
  },
  {
   "cell_type": "markdown",
   "metadata": {},
   "source": [
    "Basic deposit on Base"
   ]
  },
  {
   "cell_type": "code",
   "execution_count": null,
   "metadata": {},
   "outputs": [],
   "source": [
    "# async with AsyncBaseChain() as chain:\n",
    "#     pools = await chain.get_pools()\n",
    "#     pools = list(filter(lambda x: x.token0 and x.token0.token_address == chain.usdc and x.token1.token_address == chain.aero, pools))\n",
    "#     async with AsyncBaseChainSimnet() as supersim:\n",
    "#         # 0.02 USDC \n",
    "#         await supersim.deposit(Deposit(pools[0], 0.01), slippage=0.05)"
   ]
  },
  {
   "cell_type": "markdown",
   "metadata": {},
   "source": [
    "CL on OP"
   ]
  },
  {
   "cell_type": "code",
   "execution_count": null,
   "metadata": {},
   "outputs": [],
   "source": [
    "# WIP\n",
    "# async with OPChain() as chain:\n",
    "#     pools = await chain.get_pools()\n",
    "#     # CL200-USDC/VELO\n",
    "#     cl_usdc_velo = next(filter(lambda x: x.token0 and x.token0.token_address == chain.usdc and x.token1.token_address == chain.velo and x.is_cl, pools), None)\n",
    "#     test_ne(cl_usdc_velo, None)\n",
    "#     async with OPChainSimnet() as supersim:\n",
    "#         await supersim.deposit(Deposit(cl_usdc_velo, 0.02))\n"
   ]
  },
  {
   "cell_type": "code",
   "execution_count": null,
   "metadata": {},
   "outputs": [],
   "source": [
    "#| hide\n",
    "\n",
    "import nbdev; nbdev.nbdev_export()"
   ]
  }
 ],
 "metadata": {
  "kernelspec": {
   "display_name": "python3",
   "language": "python",
   "name": "python3"
  }
 },
 "nbformat": 4,
 "nbformat_minor": 2
}
