{
 "cells": [
  {
   "cell_type": "markdown",
   "metadata": {},
   "source": [
    "# ⛓ Chain "
   ]
  },
  {
   "cell_type": "code",
   "execution_count": null,
   "metadata": {},
   "outputs": [],
   "source": [
    "#| default_exp chains"
   ]
  },
  {
   "cell_type": "code",
   "execution_count": null,
   "metadata": {},
   "outputs": [],
   "source": [
    "#| hide\n",
    "from nbdev.showdoc import *"
   ]
  },
  {
   "cell_type": "code",
   "execution_count": null,
   "metadata": {},
   "outputs": [],
   "source": [
    "#| export\n",
    "\n",
    "import asyncio, os, socket\n",
    "from functools import wraps\n",
    "from typing import List, TypeVar, Callable, Optional, Tuple, Dict\n",
    "from web3 import Web3, HTTPProvider, AsyncWeb3, AsyncHTTPProvider, Account\n",
    "from web3.eth.async_eth import AsyncContract\n",
    "from web3.eth import Contract\n",
    "from web3.manager import RequestManager, RequestBatcher\n",
    "from sugar.config import ChainSettings, make_op_chain_settings, make_base_chain_settings\n",
    "from sugar.helpers import normalize_address, MAX_UINT256, float_to_uint256, apply_slippage, get_future_timestamp\n",
    "from sugar.abi import sugar, slipstream, price_oracle, router, quoter, swapper\n",
    "from sugar.token import Token\n",
    "from sugar.pool import LiquidityPool, LiquidityPoolForSwap\n",
    "from sugar.price import Price\n",
    "from sugar.deposit import Deposit\n",
    "from sugar.helpers import ADDRESS_ZERO, chunk, normalize_address, Pair, find_all_paths\n",
    "from sugar.quote import QuoteInput, Quote\n",
    "from sugar.swap import setup_planner\n",
    "from fastcore.test import test_close\n",
    "from fastcore.test import test_eq\n"
   ]
  },
  {
   "cell_type": "code",
   "execution_count": null,
   "metadata": {},
   "outputs": [],
   "source": [
    "# monkey patching how web3 handles errors in batched requests\n",
    "# re: https://github.com/ethereum/web3.py/issues/3657\n",
    "original_format_batched_response = RequestManager._format_batched_response\n",
    "def safe_format_batched_response(*args):\n",
    "    try: return original_format_batched_response(*args)\n",
    "    except Exception as e: return e\n",
    "RequestManager._format_batched_response = safe_format_batched_response"
   ]
  },
  {
   "cell_type": "markdown",
   "metadata": {},
   "source": [
    "## Chain implementation "
   ]
  },
  {
   "cell_type": "code",
   "execution_count": null,
   "metadata": {},
   "outputs": [],
   "source": [
    "#| export\n",
    "\n",
    "T = TypeVar('T')\n",
    "\n",
    "def require_context(f: Callable[..., T]) -> Callable[..., T]:\n",
    "    @wraps(f)\n",
    "    def wrapper(self: 'CommonChain', *args, **kwargs) -> T:\n",
    "        if not self._in_context: raise RuntimeError(\"Chain methods can only be accessed within 'async with' block\")\n",
    "        return f(self, *args, **kwargs)\n",
    "    return wrapper\n",
    "\n",
    "def require_async_context(f: Callable[..., T]) -> Callable[..., T]:\n",
    "    @wraps(f)\n",
    "    async def wrapper(self: 'CommonChain', *args, **kwargs) -> T:\n",
    "        if not self._in_context: raise RuntimeError(\"Chain methods can only be accessed within 'async with' block\")\n",
    "        return await f(self, *args, **kwargs)\n",
    "    return wrapper\n",
    "\n",
    "\n",
    "class CommonChain:\n",
    "    @property\n",
    "    def account(self) -> Account: return self.web3.eth.account.from_key(os.getenv(\"SUGAR_PK\"))\n",
    "\n",
    "    def __init__(self, settings: ChainSettings):\n",
    "        self.settings, self._in_context = settings, False\n",
    "    \n",
    "    def prepare_set_token_allowance_contract(self, token: Token, contract_wrapper):\n",
    "        ERC20_ABI = [{\n",
    "            \"name\": \"approve\",\n",
    "            \"type\": \"function\",\n",
    "            \"constant\": False,\n",
    "            \"inputs\": [{\"name\": \"spender\", \"type\": \"address\"}, {\"name\": \"amount\", \"type\": \"uint256\"}],\n",
    "            \"outputs\": [{\"name\": \"\", \"type\": \"bool\"}]\n",
    "        }]\n",
    "        return contract_wrapper(address=token.wrapped_token_address or token.token_address, abi=ERC20_ABI)\n",
    "    \n",
    "    def prepare_tokens(self, tokens: List[Tuple], listed_only: bool) -> List[Token]:\n",
    "        native = Token.make_native_token(self.settings.native_token_symbol, self.settings.wrapped_native_token_addr, self.settings.native_token_decimals)\n",
    "        ts = list(map(lambda t: Token.from_tuple(t), tokens))\n",
    "        return [native] + (list(filter(lambda t: t.listed, ts)) if listed_only else ts)\n",
    "    \n",
    "    def _prepare_prices(self, tokens: List[Token], rates: List[int]) -> Dict[str, int]:\n",
    "        # token_address => normalized rate\n",
    "        result = {}\n",
    "        # rates are returned multiplied by eth decimals + the difference in decimals to eth\n",
    "        # we want them all normalized to 18 decimals\n",
    "        for cnt, rate in enumerate(rates):\n",
    "            t, eth_decimals = tokens[cnt], self.settings.native_token_decimals\n",
    "            if t.decimals == eth_decimals: nr = rate\n",
    "            elif t.decimals < eth_decimals: nr = rate // (10 ** (eth_decimals - t.decimals))\n",
    "            else: nr = rate * (10 ** (t.decimals - eth_decimals))\n",
    "            result[t.token_address] = nr\n",
    "        return result\n",
    "\n",
    "    def prepare_prices(self, tokens: List[Token], prices: List[int]) -> List[Price]:\n",
    "        \"\"\"Get prices for tokens in target stable token\"\"\"\n",
    "        eth_decimals = self.settings.native_token_decimals\n",
    "        # all rates in EHT: token => rate\n",
    "        rates_in_eth = self._prepare_prices(tokens, prices)\n",
    "        eth_rate, usd_rate = rates_in_eth[self.settings.native_token_symbol], rates_in_eth[self.settings.stable_token_addr]\n",
    "        # this gives us the price of 1 eth in usd with 18 decimals precision\n",
    "        eth_usd_price = (eth_rate * 10 ** eth_decimals) // usd_rate\n",
    "        # finally convert to prices in terms of stable\n",
    "        return [Price(token=t, price=(rates_in_eth[t.token_address] * eth_usd_price // 10 ** eth_decimals) / 10 ** eth_decimals) for t in tokens]\n",
    "    \n",
    "    def prepare_pools(self, pools: List[Tuple], tokens: List[Token], prices: List[Price]) -> List[LiquidityPool]:\n",
    "        tokens, prices = {t.token_address: t for t in tokens}, {price.token.token_address: price for price in prices}\n",
    "        return list(filter(lambda p: p is not None, map(lambda p: LiquidityPool.from_tuple(p, tokens, prices), pools)))\n",
    "    \n",
    "    def prepare_pools_for_swap(self, pools: List[Tuple]) -> List[LiquidityPoolForSwap]:\n",
    "        return list(map(lambda p: LiquidityPoolForSwap.from_tuple(p), pools))\n",
    "    \n",
    "    def filter_pools_for_swap(self, pools: List[LiquidityPoolForSwap], from_token: Token, to_token: Token) -> List[LiquidityPoolForSwap]:\n",
    "        match_tokens = set(self.settings.connector_tokens_addrs + [from_token.token_address, to_token.token_address])\n",
    "        return list(filter(lambda p: p.token0_address in match_tokens or p.token1_address in match_tokens, pools))\n",
    "    \n",
    "    def paths_to_pools(self, pools: List[LiquidityPoolForSwap], paths: List[List[Tuple]]) -> List[LiquidityPoolForSwap]:\n",
    "        pools_dict = {p.lp: p for p in pools}\n",
    "        return [list(map(lambda p: pools_dict[p[2]], path)) for path in paths]\n",
    "\n",
    "    def prepare_quote_batch(self, from_token: Token, to_token: Token, batcher: RequestBatcher, pools: List[List[LiquidityPoolForSwap]], amount_in: int, paths: List[List[Tuple]]):\n",
    "        inputs = []\n",
    "        for i, path in enumerate(paths):\n",
    "            p = [(p, p.token0_address != path[i][0]) for i, p in enumerate(pools[i])]\n",
    "            q = QuoteInput(from_token=from_token, to_token=to_token, amount_in=amount_in, path=p)\n",
    "            batcher.add(self.quoter.functions.quoteExactInput(q.route.encoded, amount_in))\n",
    "            inputs.append(q)\n",
    "        return batcher, inputs\n",
    "\n",
    "    def prepare_quotes(self, quote_inputs: List[QuoteInput], responses):\n",
    "        if len(responses) != len(quote_inputs): raise ValueError(f\"Number of responses {len(responses)} does not match number of quote inputs {len(quote_inputs)}\")\n",
    "        quotes = []\n",
    "        for i, r in enumerate(responses):\n",
    "            if isinstance(r, Exception): continue\n",
    "            else: quotes.append(Quote(input=quote_inputs[i], amount_out=r[0]))\n",
    "        return quotes\n",
    "    \n",
    "    def get_paths_for_quote(self, from_token: Token, to_token: Token, pools: List[LiquidityPoolForSwap], exclude_tokens: List[str]) -> List[List[Tuple]]:\n",
    "        exclude_tokens_set = set(map(lambda t: normalize_address(t), exclude_tokens))\n",
    "\n",
    "        if from_token.token_address in exclude_tokens: exclude_tokens_set.remove(from_token.token_address)\n",
    "        if to_token.token_address in exclude_tokens: exclude_tokens_set.remove(to_token.token_address)\n",
    "\n",
    "        pairs = [Pair(p.token0_address, p.token1_address, p.lp) for p in pools]\n",
    "        paths = find_all_paths(pairs, from_token.wrapped_token_address or from_token.token_address, to_token.wrapped_token_address or to_token.token_address)\n",
    "        # filter out paths with excluded tokens\n",
    "        return list(filter(lambda p: len(set(map(lambda t: t[0], p)) & exclude_tokens_set) == 0, paths))"
   ]
  },
  {
   "cell_type": "markdown",
   "metadata": {},
   "source": [
    "### Aync chain"
   ]
  },
  {
   "cell_type": "code",
   "execution_count": null,
   "metadata": {},
   "outputs": [],
   "source": [
    "#| export\n",
    "\n",
    "class AsyncChain(CommonChain):\n",
    "    web3: AsyncWeb3\n",
    "    sugar: AsyncContract\n",
    "    slipstream: AsyncContract\n",
    "    router: AsyncContract\n",
    "    prices: AsyncContract\n",
    "    quoter: AsyncContract\n",
    "    swapper: AsyncContract\n",
    "\n",
    "\n",
    "    async def __aenter__(self):\n",
    "        \"\"\"Async context manager entry\"\"\"\n",
    "        self._in_context = True\n",
    "        self.web3 = AsyncWeb3(AsyncHTTPProvider(self.settings.rpc_uri))\n",
    "        self.sugar = self.web3.eth.contract(address=self.settings.sugar_contract_addr, abi=sugar)\n",
    "        self.slipstream = self.web3.eth.contract(address=self.settings.slipstream_contract_addr, abi=slipstream)\n",
    "        self.prices = self.web3.eth.contract(address=self.settings.price_oracle_contract_addr, abi=price_oracle)\n",
    "        self.router = self.web3.eth.contract(address=self.settings.router_contract_addr, abi=router)\n",
    "        self.quoter = self.web3.eth.contract(address=self.settings.quoter_contract_addr, abi=quoter)\n",
    "        self.swapper = self.web3.eth.contract(address=self.settings.swapper_contract_addr, abi=swapper)\n",
    "        return self\n",
    "\n",
    "    async def __aexit__(self, exc_type, exc_val, exc_tb):\n",
    "        \"\"\"Async context manager exit\"\"\"\n",
    "        self._in_context = False\n",
    "        await self.web3.provider.disconnect()\n",
    "        return None\n",
    "\n",
    "    @require_async_context\n",
    "    async def get_all_tokens(self, listed_only: bool = True) -> List[Token]:\n",
    "        # TODO: pagination for tokens\n",
    "        tokens = await self.sugar.functions.tokens(1000, 0, ADDRESS_ZERO, []).call()\n",
    "        return self.prepare_tokens(tokens, listed_only)\n",
    "    \n",
    "    # @cache_in_seconds(ORACLE_PRICES_CACHE_MINUTES * 60)\n",
    "    async def _get_prices(self, tokens: Tuple[Token]) -> List[int]:\n",
    "        # token_address => normalized rate\n",
    "        return await self.prices.functions.getManyRatesToEthWithCustomConnectors(\n",
    "            list(map(lambda t: t.wrapped_token_address or t.token_address, tokens)),\n",
    "            False, # use wrappers\n",
    "            self.settings.connector_tokens_addrs,\n",
    "            10 # threshold_filter\n",
    "        ).call()\n",
    "\n",
    "    @require_async_context\n",
    "    async def get_prices(self, tokens: List[Token]) -> List[Price]:\n",
    "        \"\"\"Get prices for tokens in target stable token\"\"\"\n",
    "\n",
    "        # batches starts as a list of lists \n",
    "        batches = await asyncio.gather(\n",
    "            *map(\n",
    "                # XX: lists are not cacheable, convert them to tuples so lru cache is happy\n",
    "                lambda ts: self._get_prices(tuple(ts)),\n",
    "                list(chunk(tokens, self.settings.price_batch_size)),\n",
    "            )\n",
    "        )\n",
    "        return self.prepare_prices(tokens, sum(batches, []))\n",
    "\n",
    "    @require_async_context\n",
    "    async def get_pools(self, for_swaps: bool = False) -> List[LiquidityPool]:\n",
    "        pools, offset, limit = [], 0, self.settings.pool_page_size\n",
    "\n",
    "        while True:\n",
    "            f = self.sugar.functions.all if not for_swaps else self.sugar.functions.forSwaps\n",
    "            pools_batch = await f(limit, offset).call()\n",
    "            pools += pools_batch\n",
    "            if len(pools_batch) == 0: break\n",
    "            else: offset += limit\n",
    "\n",
    "        if not for_swaps:\n",
    "            tokens = await self.get_all_tokens()\n",
    "            return self.prepare_pools(pools, tokens, await self.get_prices(tokens))\n",
    "        else: return self.prepare_pools_for_swap(pools)\n",
    "    \n",
    "    \n",
    "    @require_async_context\n",
    "    async def get_pools_for_swaps(self) -> List[LiquidityPoolForSwap]: return await self.get_pools(for_swaps=True)\n",
    "\n",
    "    @require_async_context\n",
    "    async def _get_quotes_for_paths(self, from_token: Token, to_token: Token, amount_in: int, pools: List[LiquidityPoolForSwap], paths: List[List[Tuple]]) -> List[Optional[Quote]]:\n",
    "        path_pools = self.paths_to_pools(pools, paths)\n",
    "        async with self.web3.batch_requests() as batch:\n",
    "            batch, inputs = self.prepare_quote_batch(from_token, to_token, batch, path_pools, amount_in, paths)\n",
    "            return self.prepare_quotes(inputs, await batch.async_execute())\n",
    "\n",
    "    @require_async_context\n",
    "    async def get_quote(self, from_token: Token, to_token: Token, amount_in: float, filter_quotes: Optional[Callable[[Quote], bool]] = None) -> Optional[Quote]:\n",
    "        pools = self.filter_pools_for_swap(from_token=from_token, to_token=to_token, pools=await self.get_pools_for_swaps())\n",
    "        paths = self.get_paths_for_quote(from_token, to_token, pools, self.settings.excluded_tokens_addrs)\n",
    "        # TODO: investigate why this takes too long\n",
    "        # quotes = sum(await asyncio.gather(*[self._get_quotes_for_paths(from_token, to_token, amount_in, pools, paths) for paths in chunk(paths, 500)]), [])\n",
    "        quotes = [] \n",
    "        for paths in chunk(paths, 500):\n",
    "            r = await self._get_quotes_for_paths(from_token, to_token, float_to_uint256(amount_in, decimals=from_token.decimals), pools, paths)\n",
    "            for q in r:\n",
    "                if q is not None: quotes.append(q)\n",
    "        if filter_quotes is not None: quotes = list(filter(filter_quotes, quotes))\n",
    "        return max(quotes, key=lambda q: q.amount_out) if len(quotes) > 0 else None\n",
    "    \n",
    "    @require_async_context\n",
    "    async def swap(self, from_token: Token, to_token: Token, amount: float, slippage: float = 0.01):\n",
    "        print(f\">>>>>>>>>>>> quote for {from_token} -> {to_token} amount: {amount}\")\n",
    "        q = await self.get_quote(from_token, to_token, amount)\n",
    "        if not q: raise ValueError(\"No quotes found\")\n",
    "        return await self.swap_from_quote(q, slippage=slippage)\n",
    "        \n",
    "    @require_async_context\n",
    "    async def swap_from_quote(self, quote: Quote, slippage: float = 0.01):\n",
    "        swapper_contract_addr, from_token = self.settings.swapper_contract_addr, quote.from_token\n",
    "        planner = setup_planner(quote=quote, slippage=slippage, account=self.account.address, router_address=swapper_contract_addr)\n",
    "        await self.set_token_allowance(from_token, swapper_contract_addr, quote.input.amount_in)\n",
    "        value = quote.input.amount_in if from_token.wrapped_token_address else 0\n",
    "        return await self.sign_and_send_tx(self.swapper.functions.execute(*[planner.commands, planner.inputs]), value=value)\n",
    "\n",
    "    @require_async_context\n",
    "    async def set_token_allowance(self, token: Token, addr: str, amount: int):\n",
    "        token_contract = self.prepare_set_token_allowance_contract(token, self.web3.eth.contract)\n",
    "        return await self.sign_and_send_tx(token_contract.functions.approve(addr, amount))\n",
    "        \n",
    "\n",
    "    @require_async_context\n",
    "    async def check_token_allowance(self, token: Token, addr: str) -> int:\n",
    "        ERC20_ABI = [{\n",
    "            \"name\": \"allowance\",\n",
    "            \"type\": \"function\",\n",
    "            \"constant\": True,\n",
    "            \"inputs\": [{\"name\": \"owner\", \"type\": \"address\"}, {\"name\": \"spender\", \"type\": \"address\"}],\n",
    "            \"outputs\": [{\"name\": \"\", \"type\": \"uint256\"}]\n",
    "        }]\n",
    "        token_contract = self.web3.eth.contract(address=token.wrapped_token_address or token.token_address, abi=ERC20_ABI)\n",
    "        return await token_contract.functions.allowance(self.account.address, addr).call()\n",
    "\n",
    "    @require_async_context\n",
    "    async def sign_and_send_tx(self, tx, value: int = 0, wait: bool = True):\n",
    "        spender = self.account.address\n",
    "        tx = await tx.build_transaction({ 'from': spender, 'value': value, 'nonce': await self.web3.eth.get_transaction_count(spender) })\n",
    "        signed_tx = self.account.sign_transaction(tx)\n",
    "        tx_hash = await self.web3.eth.send_raw_transaction(signed_tx.raw_transaction)\n",
    "        return await self.web3.eth.wait_for_transaction_receipt(tx_hash) if wait else tx_hash\n",
    "    \n",
    "    @require_async_context\n",
    "    async def deposit(self, deposit: Deposit, delay_in_minutes: float = 30, slippage: float = 0.01):\n",
    "        amount_token0, pool, router_contract_addr = deposit.amount_token0, deposit.pool, self.settings.router_contract_addr\n",
    "        print(f\"gonna deposit {amount_token0} {pool.token0.symbol} into {pool.symbol} from {self.account.address}\")\n",
    "        [token0_amount, token1_amount, _] = await self.router.functions.quoteAddLiquidity(\n",
    "            pool.token0.token_address,\n",
    "            pool.token1.token_address,\n",
    "            pool.is_stable,\n",
    "            pool.factory,\n",
    "            float_to_uint256(amount_token0, pool.token0.decimals),\n",
    "            MAX_UINT256\n",
    "        ).call()\n",
    "        print(f\"Quote: {pool.token0.symbol} {token0_amount / 10 ** pool.token0.decimals} -> {pool.token1.symbol} {token1_amount / 10 ** pool.token1.decimals}\")\n",
    "\n",
    "        # set up allowance for both tokens\n",
    "        print(f\"setting up allowance for {pool.token0.symbol}\")\n",
    "        await self.set_token_allowance(pool.token0, router_contract_addr, token0_amount)\n",
    "\n",
    "        print(f\"setting up allowance for {pool.token1.symbol}\")\n",
    "        await self.set_token_allowance(pool.token1, router_contract_addr, token1_amount)\n",
    "\n",
    "        # check allowances\n",
    "        token0_allowance = await self.check_token_allowance(pool.token0, router_contract_addr)\n",
    "        token1_allowance = await self.check_token_allowance(pool.token1, router_contract_addr)\n",
    "\n",
    "        print(f\"allowances: {token0_allowance}, {token1_allowance}\")\n",
    "\n",
    "        # adding liquidity\n",
    "\n",
    "        # if token 0 is native, use addLiquidityETH instead of standard addLiquidity\n",
    "        if pool.token0.token_address == self.settings.wrapped_native_token_addr:\n",
    "            params = [\n",
    "                pool.token1.token_address,\n",
    "                pool.is_stable,\n",
    "                token1_amount,\n",
    "                apply_slippage(token1_amount, slippage),\n",
    "                apply_slippage(token0_amount, slippage),\n",
    "                self.account.address,\n",
    "                get_future_timestamp(delay_in_minutes)\n",
    "            ]\n",
    "            print(f\"adding liquidity with params: {params}\")\n",
    "            return await self.sign_and_send_tx(self.router.functions.addLiquidityETH(*params), value=token0_amount)\n",
    "        \n",
    "        # token 1 is native, use addLiquidityETH instead of standard addLiquidity\n",
    "        if pool.token1.token_address == self.settings.wrapped_native_token_addr:\n",
    "            params = [\n",
    "                pool.token0.token_address,\n",
    "                pool.is_stable,\n",
    "                token0_amount,\n",
    "                apply_slippage(token0_amount, slippage),\n",
    "                apply_slippage(token1_amount, slippage),\n",
    "                self.account.address,\n",
    "                get_future_timestamp(delay_in_minutes)\n",
    "            ]\n",
    "            print(f\"adding liquidity with params: {params}\")\n",
    "            return await self.sign_and_send_tx(self.router.functions.addLiquidityETH(*params), value=token1_amount)\n",
    "\n",
    "        params = [\n",
    "            pool.token0.token_address,\n",
    "            pool.token1.token_address,\n",
    "            pool.is_stable,\n",
    "            token0_amount,\n",
    "            token1_amount,\n",
    "            apply_slippage(token0_amount, slippage),\n",
    "            apply_slippage(token1_amount, slippage),\n",
    "            self.account.address,\n",
    "            get_future_timestamp(delay_in_minutes)\n",
    "        ]\n",
    "\n",
    "        print(f\"adding liquidity with params: {params}\")\n",
    "\n",
    "        return await self.sign_and_send_tx(self.router.functions.addLiquidity(*params))"
   ]
  },
  {
   "cell_type": "markdown",
   "metadata": {},
   "source": [
    "## Sync chain"
   ]
  },
  {
   "cell_type": "code",
   "execution_count": null,
   "metadata": {},
   "outputs": [],
   "source": [
    "#| export\n",
    "\n",
    "class Chain(CommonChain):\n",
    "    web3: Web3\n",
    "    sugar: Contract\n",
    "    router: Contract\n",
    "    slipstream: Contract\n",
    "    prices: Contract\n",
    "    quoter: Contract\n",
    "    swapper: Contract\n",
    "\n",
    "    def __enter__(self):\n",
    "        \"\"\"Sync context manager entry\"\"\"\n",
    "        self._in_context = True\n",
    "        self.web3 = Web3(HTTPProvider(self.settings.rpc_uri))\n",
    "        self.sugar = self.web3.eth.contract(address=self.settings.sugar_contract_addr, abi=sugar)\n",
    "        self.slipstream = self.web3.eth.contract(address=self.settings.slipstream_contract_addr, abi=slipstream)\n",
    "        self.prices = self.web3.eth.contract(address=self.settings.price_oracle_contract_addr, abi=price_oracle)\n",
    "        self.router = self.web3.eth.contract(address=self.settings.router_contract_addr, abi=router)\n",
    "        self.quoter = self.web3.eth.contract(address=self.settings.quoter_contract_addr, abi=quoter)\n",
    "        self.swapper = self.web3.eth.contract(address=self.settings.swapper_contract_addr, abi=swapper)\n",
    "        return self\n",
    "\n",
    "    def __exit__(self, exc_type, exc_val, exc_tb):\n",
    "        \"\"\"Sync context manager exit\"\"\"\n",
    "        self._in_context = False\n",
    "        return None\n",
    "    \n",
    "    @require_context\n",
    "    def sign_and_send_tx(self, tx, value: int = 0, wait: bool = True):\n",
    "        spender = self.account.address\n",
    "        tx = tx.build_transaction({ 'from': spender, 'value': value, 'nonce': self.web3.eth.get_transaction_count(spender) })\n",
    "        signed_tx = self.account.sign_transaction(tx)\n",
    "        tx_hash = self.web3.eth.send_raw_transaction(signed_tx.raw_transaction)\n",
    "        return self.web3.eth.wait_for_transaction_receipt(tx_hash) if wait else tx_hash\n",
    "    \n",
    "    @require_context\n",
    "    def set_token_allowance(self, token: Token, addr: str, amount: int):\n",
    "        token_contract = self.prepare_set_token_allowance_contract(token, self.web3.eth.contract)\n",
    "        return self.sign_and_send_tx(token_contract.functions.approve(addr, amount))\n",
    "\n",
    "    @require_context\n",
    "    def get_all_tokens(self, listed_only: bool = True) -> List[Token]:\n",
    "        return self.prepare_tokens(self.sugar.functions.tokens(800, 0, ADDRESS_ZERO, []).call(), listed_only)\n",
    "    \n",
    "    # @cache_in_seconds(ORACLE_PRICES_CACHE_MINUTES * 60)\n",
    "    def _get_prices(self, tokens: Tuple[Token]) -> List[int]:\n",
    "        # token_address => normalized rate\n",
    "        return self.prices.functions.getManyRatesToEthWithCustomConnectors(\n",
    "            list(map(lambda t: t.wrapped_token_address or t.token_address, tokens)),\n",
    "            False, # use wrappers\n",
    "            self.settings.connector_tokens_addrs,\n",
    "            10 # threshold_filter\n",
    "        ).call()\n",
    "\n",
    "    @require_context\n",
    "    def get_prices(self, tokens: List[Token]) -> List[Price]:\n",
    "        \"\"\"Get prices for tokens in target stable token\"\"\"\n",
    "        return self.prepare_prices(tokens, sum([self._get_prices(tuple(ts)) for ts in list(chunk(tokens, self.settings.price_batch_size))], []))\n",
    "    \n",
    "    @require_context\n",
    "    def get_pools(self, for_swaps: bool = False) -> List[LiquidityPool]:\n",
    "        pools, offset, limit = [], 0, self.settings.pool_page_size\n",
    "\n",
    "        while True:\n",
    "            f = self.sugar.functions.all if not for_swaps else self.sugar.functions.forSwaps\n",
    "            pools_batch = f(limit, offset).call()\n",
    "            pools += pools_batch\n",
    "            if len(pools_batch) == 0: break\n",
    "            else: offset += limit\n",
    "\n",
    "        if not for_swaps:\n",
    "            tokens = self.get_all_tokens(listed_only=False)\n",
    "            return self.prepare_pools(pools, tokens, self.get_prices(tokens))\n",
    "        else: return self.prepare_pools_for_swap(pools)\n",
    "    \n",
    "    @require_context\n",
    "    def get_pools_for_swaps(self) -> List[LiquidityPoolForSwap]: return self.get_pools(for_swaps=True)\n",
    "\n",
    "    @require_context\n",
    "    def _get_quotes_for_paths(self, from_token: Token, to_token: Token, amount_in: int, pools: List[LiquidityPoolForSwap], paths: List[List[Tuple]]) -> List[Optional[Quote]]:\n",
    "        path_pools = self.paths_to_pools(pools, paths)\n",
    "        with self.web3.batch_requests() as batch:\n",
    "            batch, inputs = self.prepare_quote_batch(from_token, to_token, batch, path_pools, amount_in, paths)\n",
    "            return self.prepare_quotes(inputs, batch.execute())\n",
    "\n",
    "    @require_context\n",
    "    def get_quote(self, from_token: Token, to_token: Token, amount_in: float, filter_quotes: Optional[Callable[[Quote], bool]] = None) -> Optional[Quote]:\n",
    "        pools = self.filter_pools_for_swap(from_token=from_token, to_token=to_token, pools=self.get_pools_for_swaps())\n",
    "        paths = self.get_paths_for_quote(from_token, to_token, pools, self.settings.excluded_tokens_addrs)\n",
    "        path_chunks, chain_instance = list(chunk(paths, 500)), self\n",
    "        def get_quotes_for_chunk(paths_chunk): return chain_instance._get_quotes_for_paths(from_token, to_token, float_to_uint256(amount_in, decimals=from_token.decimals), pools, paths_chunk)\n",
    "        # TODO: make this work in threads re: https://github.com/ethereum/web3.py/issues/3613\n",
    "        all_quotes = []\n",
    "        for pc in path_chunks:\n",
    "            quotes = get_quotes_for_chunk(pc)\n",
    "            for q in quotes: all_quotes.append(q)\n",
    "\n",
    "        if filter_quotes is not None: all_quotes = list(filter(filter_quotes, all_quotes))\n",
    "\n",
    "        return max(all_quotes, key=lambda q: q.amount_out) if len(all_quotes) > 0 else None\n",
    "    \n",
    "    @require_context\n",
    "    def swap(self, from_token: Token, to_token: Token, amount: float, slippage: float = 0.01):\n",
    "        q = self.get_quote(from_token, to_token, amount)\n",
    "        if not q: raise ValueError(\"No quotes found\")\n",
    "        return self.swap_from_quote(q, slippage=slippage)\n",
    "        \n",
    "    @require_context\n",
    "    def swap_from_quote(self, quote: Quote, slippage: float = 0.01):\n",
    "        swapper_contract_addr, from_token = self.settings.swapper_contract_addr, quote.from_token\n",
    "        planner = setup_planner(quote=quote, slippage=slippage, account=self.account.address, router_address=swapper_contract_addr)\n",
    "        self.set_token_allowance(from_token, swapper_contract_addr, quote.input.amount_in)\n",
    "        value = quote.input.amount_in if from_token.wrapped_token_address else 0\n",
    "        return self.sign_and_send_tx(self.swapper.functions.execute(*[planner.commands, planner.inputs]), value=value)"
   ]
  },
  {
   "cell_type": "markdown",
   "metadata": {},
   "source": [
    "## OP Chain"
   ]
  },
  {
   "cell_type": "code",
   "execution_count": null,
   "metadata": {},
   "outputs": [],
   "source": [
    "#| export\n",
    "\n",
    "class OPChainCommon():\n",
    "    usdc: str = normalize_address(\"0x0b2C639c533813f4Aa9D7837CAf62653d097Ff85\")\n",
    "    velo: str = normalize_address(\"0x9560e827aF36c94D2Ac33a39bCE1Fe78631088Db\")\n",
    "\n",
    "class AsyncOPChain(AsyncChain, OPChainCommon):\n",
    "    def __init__(self, **kwargs): super().__init__(make_op_chain_settings(**kwargs))\n",
    "\n",
    "class OPChain(Chain, OPChainCommon):\n",
    "    def __init__(self, **kwargs): super().__init__(make_op_chain_settings(**kwargs))\n"
   ]
  },
  {
   "cell_type": "markdown",
   "metadata": {},
   "source": [
    "## Base Chain"
   ]
  },
  {
   "cell_type": "code",
   "execution_count": null,
   "metadata": {},
   "outputs": [],
   "source": [
    "#| export\n",
    "\n",
    "class BaseChainCommon():\n",
    "    usdc: str = normalize_address(\"0x833589fcd6edb6e08f4c7c32d4f71b54bda02913\")\n",
    "    aero: str = normalize_address(\"0x940181a94a35a4569e4529a3cdfb74e38fd98631\")\n",
    "\n",
    "class AsyncBaseChain(AsyncChain, BaseChainCommon):\n",
    "    def __init__(self, **kwargs): super().__init__(make_base_chain_settings(**kwargs))\n",
    "\n",
    "class BaseChain(Chain, BaseChainCommon):\n",
    "    def __init__(self, **kwargs): super().__init__(make_base_chain_settings(**kwargs))"
   ]
  },
  {
   "cell_type": "markdown",
   "metadata": {},
   "source": [
    "## Simnet versions of chains\n",
    "\n",
    "Simnet URIs:\n",
    "\n",
    "- OP: http://127.0.0.1:4444\n",
    "- Base: http://127.0.0.1:4445\n",
    "\n",
    "This assumes the following setup:\n",
    "\n",
    "```\n",
    "supersim fork  --l2.host=0.0.0.0 --l2.starting.port=4444 --chains=op,base\n",
    "```"
   ]
  },
  {
   "cell_type": "code",
   "execution_count": null,
   "metadata": {},
   "outputs": [],
   "source": [
    "#| export \n",
    "\n",
    "class AsyncOPChainSimnet(AsyncOPChain):\n",
    "    def __init__(self,  **kwargs): super().__init__(rpc_uri=\"http://127.0.0.1:4444\", **kwargs)\n",
    "\n",
    "class AsyncBaseChainSimnet(AsyncBaseChain):\n",
    "    def __init__(self,  **kwargs): super().__init__(rpc_uri=\"http://127.0.0.1:4445\", **kwargs)\n",
    "\n",
    "class OPChainSimnet(OPChain):\n",
    "    def __init__(self,  **kwargs): super().__init__(rpc_uri=\"http://127.0.0.1:4444\", **kwargs)\n",
    "\n",
    "class BaseChainSimnet(BaseChain):\n",
    "    def __init__(self,  **kwargs): super().__init__(rpc_uri=\"http://127.0.0.1:4445\", **kwargs)"
   ]
  },
  {
   "cell_type": "markdown",
   "metadata": {},
   "source": [
    "## Tests\n",
    "\n",
    "Run tests using mainnets for reads and simnet for writes"
   ]
  },
  {
   "cell_type": "markdown",
   "metadata": {},
   "source": [
    "Make sure simnet is running"
   ]
  },
  {
   "cell_type": "code",
   "execution_count": null,
   "metadata": {},
   "outputs": [],
   "source": [
    "host, port ='127.0.0.1', 4444\n",
    "try:\n",
    "    sock = socket.socket(socket.AF_INET, socket.SOCK_STREAM)\n",
    "    sock.settimeout(2)\n",
    "    result = sock.connect_ex((host, port))\n",
    "    test_eq(result, 0)\n",
    "except socket.error as err:\n",
    "    test_eq(err, None)\n",
    "finally:\n",
    "    sock.close()"
   ]
  },
  {
   "cell_type": "markdown",
   "metadata": {},
   "source": [
    "Make sure PK is set for writes"
   ]
  },
  {
   "cell_type": "code",
   "execution_count": null,
   "metadata": {},
   "outputs": [],
   "source": [
    "import os\n",
    "from fastcore.test import test_ne\n",
    "from dotenv import load_dotenv\n",
    "\n",
    "load_dotenv()\n",
    "\n",
    "test_ne(os.getenv(\"SUGAR_PK\"), None)"
   ]
  },
  {
   "cell_type": "markdown",
   "metadata": {},
   "source": [
    "Check simnet URLs"
   ]
  },
  {
   "cell_type": "code",
   "execution_count": null,
   "metadata": {},
   "outputs": [],
   "source": [
    "async with AsyncOPChainSimnet() as op:\n",
    "    assert \"127.0.0.1\" in op.settings.rpc_uri\n",
    "async with AsyncBaseChainSimnet() as base:\n",
    "    assert \"127.0.0.1\" in base.settings.rpc_uri\n",
    "with OPChainSimnet() as op:\n",
    "    assert \"127.0.0.1\" in op.settings.rpc_uri\n",
    "with BaseChainSimnet() as base:\n",
    "    assert \"127.0.0.1\" in base.settings.rpc_uri"
   ]
  },
  {
   "cell_type": "markdown",
   "metadata": {},
   "source": [
    "Getting tokens. Make sure native token is included"
   ]
  },
  {
   "cell_type": "code",
   "execution_count": null,
   "metadata": {},
   "outputs": [],
   "source": [
    "from fastcore.test import test_eq, test_ne\n",
    "\n",
    "async with AsyncOPChain() as op:\n",
    "    tokens = await op.get_all_tokens()\n",
    "    native_token = next(filter(lambda t: t.is_native, tokens), None)\n",
    "    test_ne(native_token, None)\n",
    "    test_eq(native_token.symbol, \"ETH\")\n",
    "\n",
    "with OPChain() as op_sync:\n",
    "    tokens = op_sync.get_all_tokens()\n",
    "    native_token = next(filter(lambda t: t.is_native, tokens), None)\n",
    "    test_ne(native_token, None)\n",
    "    test_eq(native_token.symbol, \"ETH\")\n",
    "\n",
    "async with AsyncBaseChain() as base:\n",
    "    tokens = await base.get_all_tokens()\n",
    "    native_token = next(filter(lambda t: t.is_native, tokens), None)\n",
    "    test_ne(native_token, None)\n",
    "    test_eq(native_token.symbol, \"ETH\")"
   ]
  },
  {
   "cell_type": "markdown",
   "metadata": {},
   "source": [
    "Check on tokens and pools"
   ]
  },
  {
   "cell_type": "code",
   "execution_count": null,
   "metadata": {},
   "outputs": [
    {
     "name": "stdout",
     "output_type": "stream",
     "text": [
      "ETH price: $1775.1697488669165\n",
      "VELO price: $0.05305993555825384\n",
      "RED price: $0.09286332658956023\n",
      "USDC price: $1.0\n",
      "WETH price: $1775.1697488669165\n",
      "vAMM-RED/VELO pool: $168833.90879867948\n",
      "vAMM-USDC/VELO pool: $343152.1724664081\n",
      "vAMM-WETH/VELO pool: $347407.90510540444\n",
      "sAMM-alETH/frxETH pool: $506763.1438615314\n",
      "vAMM-wstETH/LDO pool: $90232.16925649779\n"
     ]
    }
   ],
   "source": [
    "async with AsyncOPChain() as chain:\n",
    "    tokens = await chain.get_all_tokens()\n",
    "    prices = await chain.get_prices(tokens)\n",
    "    pools = await chain.get_pools()\n",
    "\n",
    "    for p in prices[:5]: print(f\"{p.token.symbol} price: ${p.price}\")\n",
    "    for p in pools[:5]: print(f\"{p.symbol} pool: ${p.tvl}\")"
   ]
  },
  {
   "cell_type": "code",
   "execution_count": null,
   "metadata": {},
   "outputs": [
    {
     "ename": "Web3RPCError",
     "evalue": "{'message': 'out of gas', 'code': -32000}",
     "output_type": "error",
     "traceback": [
      "\u001b[0;31m---------------------------------------------------------------------------\u001b[0m",
      "\u001b[0;31mWeb3RPCError\u001b[0m                              Traceback (most recent call last)",
      "Cell \u001b[0;32mIn[17], line 4\u001b[0m\n\u001b[1;32m      2\u001b[0m tokens \u001b[38;5;241m=\u001b[39m chain\u001b[38;5;241m.\u001b[39mget_all_tokens()\n\u001b[1;32m      3\u001b[0m prices \u001b[38;5;241m=\u001b[39m chain\u001b[38;5;241m.\u001b[39mget_prices(tokens)\n\u001b[0;32m----> 4\u001b[0m pools \u001b[38;5;241m=\u001b[39m \u001b[43mchain\u001b[49m\u001b[38;5;241;43m.\u001b[39;49m\u001b[43mget_pools\u001b[49m\u001b[43m(\u001b[49m\u001b[43m)\u001b[49m\n\u001b[1;32m      6\u001b[0m \u001b[38;5;28mprint\u001b[39m(tokens)\n\u001b[1;32m      8\u001b[0m \u001b[38;5;28;01mfor\u001b[39;00m p \u001b[38;5;129;01min\u001b[39;00m prices[:\u001b[38;5;241m5\u001b[39m]: \u001b[38;5;28mprint\u001b[39m(\u001b[38;5;124mf\u001b[39m\u001b[38;5;124m\"\u001b[39m\u001b[38;5;132;01m{\u001b[39;00mp\u001b[38;5;241m.\u001b[39mtoken\u001b[38;5;241m.\u001b[39msymbol\u001b[38;5;132;01m}\u001b[39;00m\u001b[38;5;124m price: $\u001b[39m\u001b[38;5;132;01m{\u001b[39;00mp\u001b[38;5;241m.\u001b[39mprice\u001b[38;5;132;01m}\u001b[39;00m\u001b[38;5;124m\"\u001b[39m)\n",
      "Cell \u001b[0;32mIn[5], line 9\u001b[0m, in \u001b[0;36mrequire_context.<locals>.wrapper\u001b[0;34m(self, *args, **kwargs)\u001b[0m\n\u001b[1;32m      6\u001b[0m \u001b[38;5;129m@wraps\u001b[39m(f)\n\u001b[1;32m      7\u001b[0m \u001b[38;5;28;01mdef\u001b[39;00m\u001b[38;5;250m \u001b[39m\u001b[38;5;21mwrapper\u001b[39m(\u001b[38;5;28mself\u001b[39m: \u001b[38;5;124m'\u001b[39m\u001b[38;5;124mCommonChain\u001b[39m\u001b[38;5;124m'\u001b[39m, \u001b[38;5;241m*\u001b[39margs, \u001b[38;5;241m*\u001b[39m\u001b[38;5;241m*\u001b[39mkwargs) \u001b[38;5;241m-\u001b[39m\u001b[38;5;241m>\u001b[39m T:\n\u001b[1;32m      8\u001b[0m     \u001b[38;5;28;01mif\u001b[39;00m \u001b[38;5;129;01mnot\u001b[39;00m \u001b[38;5;28mself\u001b[39m\u001b[38;5;241m.\u001b[39m_in_context: \u001b[38;5;28;01mraise\u001b[39;00m \u001b[38;5;167;01mRuntimeError\u001b[39;00m(\u001b[38;5;124m\"\u001b[39m\u001b[38;5;124mChain methods can only be accessed within \u001b[39m\u001b[38;5;124m'\u001b[39m\u001b[38;5;124masync with\u001b[39m\u001b[38;5;124m'\u001b[39m\u001b[38;5;124m block\u001b[39m\u001b[38;5;124m\"\u001b[39m)\n\u001b[0;32m----> 9\u001b[0m     \u001b[38;5;28;01mreturn\u001b[39;00m \u001b[43mf\u001b[49m\u001b[43m(\u001b[49m\u001b[38;5;28;43mself\u001b[39;49m\u001b[43m,\u001b[49m\u001b[43m \u001b[49m\u001b[38;5;241;43m*\u001b[39;49m\u001b[43margs\u001b[49m\u001b[43m,\u001b[49m\u001b[43m \u001b[49m\u001b[38;5;241;43m*\u001b[39;49m\u001b[38;5;241;43m*\u001b[39;49m\u001b[43mkwargs\u001b[49m\u001b[43m)\u001b[49m\n",
      "Cell \u001b[0;32mIn[7], line 74\u001b[0m, in \u001b[0;36mChain.get_pools\u001b[0;34m(self, for_swaps)\u001b[0m\n\u001b[1;32m     72\u001b[0m \u001b[38;5;28;01mif\u001b[39;00m \u001b[38;5;129;01mnot\u001b[39;00m for_swaps:\n\u001b[1;32m     73\u001b[0m     tokens \u001b[38;5;241m=\u001b[39m \u001b[38;5;28mself\u001b[39m\u001b[38;5;241m.\u001b[39mget_all_tokens(listed_only\u001b[38;5;241m=\u001b[39m\u001b[38;5;28;01mFalse\u001b[39;00m)\n\u001b[0;32m---> 74\u001b[0m     \u001b[38;5;28;01mreturn\u001b[39;00m \u001b[38;5;28mself\u001b[39m\u001b[38;5;241m.\u001b[39mprepare_pools(pools, tokens, \u001b[38;5;28;43mself\u001b[39;49m\u001b[38;5;241;43m.\u001b[39;49m\u001b[43mget_prices\u001b[49m\u001b[43m(\u001b[49m\u001b[43mtokens\u001b[49m\u001b[43m)\u001b[49m)\n\u001b[1;32m     75\u001b[0m \u001b[38;5;28;01melse\u001b[39;00m: \u001b[38;5;28;01mreturn\u001b[39;00m \u001b[38;5;28mself\u001b[39m\u001b[38;5;241m.\u001b[39mprepare_pools_for_swap(pools)\n",
      "Cell \u001b[0;32mIn[5], line 9\u001b[0m, in \u001b[0;36mrequire_context.<locals>.wrapper\u001b[0;34m(self, *args, **kwargs)\u001b[0m\n\u001b[1;32m      6\u001b[0m \u001b[38;5;129m@wraps\u001b[39m(f)\n\u001b[1;32m      7\u001b[0m \u001b[38;5;28;01mdef\u001b[39;00m\u001b[38;5;250m \u001b[39m\u001b[38;5;21mwrapper\u001b[39m(\u001b[38;5;28mself\u001b[39m: \u001b[38;5;124m'\u001b[39m\u001b[38;5;124mCommonChain\u001b[39m\u001b[38;5;124m'\u001b[39m, \u001b[38;5;241m*\u001b[39margs, \u001b[38;5;241m*\u001b[39m\u001b[38;5;241m*\u001b[39mkwargs) \u001b[38;5;241m-\u001b[39m\u001b[38;5;241m>\u001b[39m T:\n\u001b[1;32m      8\u001b[0m     \u001b[38;5;28;01mif\u001b[39;00m \u001b[38;5;129;01mnot\u001b[39;00m \u001b[38;5;28mself\u001b[39m\u001b[38;5;241m.\u001b[39m_in_context: \u001b[38;5;28;01mraise\u001b[39;00m \u001b[38;5;167;01mRuntimeError\u001b[39;00m(\u001b[38;5;124m\"\u001b[39m\u001b[38;5;124mChain methods can only be accessed within \u001b[39m\u001b[38;5;124m'\u001b[39m\u001b[38;5;124masync with\u001b[39m\u001b[38;5;124m'\u001b[39m\u001b[38;5;124m block\u001b[39m\u001b[38;5;124m\"\u001b[39m)\n\u001b[0;32m----> 9\u001b[0m     \u001b[38;5;28;01mreturn\u001b[39;00m \u001b[43mf\u001b[49m\u001b[43m(\u001b[49m\u001b[38;5;28;43mself\u001b[39;49m\u001b[43m,\u001b[49m\u001b[43m \u001b[49m\u001b[38;5;241;43m*\u001b[39;49m\u001b[43margs\u001b[49m\u001b[43m,\u001b[49m\u001b[43m \u001b[49m\u001b[38;5;241;43m*\u001b[39;49m\u001b[38;5;241;43m*\u001b[39;49m\u001b[43mkwargs\u001b[49m\u001b[43m)\u001b[49m\n",
      "Cell \u001b[0;32mIn[7], line 59\u001b[0m, in \u001b[0;36mChain.get_prices\u001b[0;34m(self, tokens)\u001b[0m\n\u001b[1;32m     56\u001b[0m \u001b[38;5;129m@require_context\u001b[39m\n\u001b[1;32m     57\u001b[0m \u001b[38;5;28;01mdef\u001b[39;00m\u001b[38;5;250m \u001b[39m\u001b[38;5;21mget_prices\u001b[39m(\u001b[38;5;28mself\u001b[39m, tokens: List[Token]) \u001b[38;5;241m-\u001b[39m\u001b[38;5;241m>\u001b[39m List[Price]:\n\u001b[1;32m     58\u001b[0m \u001b[38;5;250m    \u001b[39m\u001b[38;5;124;03m\"\"\"Get prices for tokens in target stable token\"\"\"\u001b[39;00m\n\u001b[0;32m---> 59\u001b[0m     \u001b[38;5;28;01mreturn\u001b[39;00m \u001b[38;5;28mself\u001b[39m\u001b[38;5;241m.\u001b[39mprepare_prices(tokens, \u001b[38;5;28msum\u001b[39m([\u001b[38;5;28mself\u001b[39m\u001b[38;5;241m.\u001b[39m_get_prices(\u001b[38;5;28mtuple\u001b[39m(ts)) \u001b[38;5;28;01mfor\u001b[39;00m ts \u001b[38;5;129;01min\u001b[39;00m \u001b[38;5;28mlist\u001b[39m(chunk(tokens, \u001b[38;5;28mself\u001b[39m\u001b[38;5;241m.\u001b[39msettings\u001b[38;5;241m.\u001b[39mprice_batch_size))], []))\n",
      "Cell \u001b[0;32mIn[7], line 59\u001b[0m, in \u001b[0;36m<listcomp>\u001b[0;34m(.0)\u001b[0m\n\u001b[1;32m     56\u001b[0m \u001b[38;5;129m@require_context\u001b[39m\n\u001b[1;32m     57\u001b[0m \u001b[38;5;28;01mdef\u001b[39;00m\u001b[38;5;250m \u001b[39m\u001b[38;5;21mget_prices\u001b[39m(\u001b[38;5;28mself\u001b[39m, tokens: List[Token]) \u001b[38;5;241m-\u001b[39m\u001b[38;5;241m>\u001b[39m List[Price]:\n\u001b[1;32m     58\u001b[0m \u001b[38;5;250m    \u001b[39m\u001b[38;5;124;03m\"\"\"Get prices for tokens in target stable token\"\"\"\u001b[39;00m\n\u001b[0;32m---> 59\u001b[0m     \u001b[38;5;28;01mreturn\u001b[39;00m \u001b[38;5;28mself\u001b[39m\u001b[38;5;241m.\u001b[39mprepare_prices(tokens, \u001b[38;5;28msum\u001b[39m([\u001b[38;5;28;43mself\u001b[39;49m\u001b[38;5;241;43m.\u001b[39;49m\u001b[43m_get_prices\u001b[49m\u001b[43m(\u001b[49m\u001b[38;5;28;43mtuple\u001b[39;49m\u001b[43m(\u001b[49m\u001b[43mts\u001b[49m\u001b[43m)\u001b[49m\u001b[43m)\u001b[49m \u001b[38;5;28;01mfor\u001b[39;00m ts \u001b[38;5;129;01min\u001b[39;00m \u001b[38;5;28mlist\u001b[39m(chunk(tokens, \u001b[38;5;28mself\u001b[39m\u001b[38;5;241m.\u001b[39msettings\u001b[38;5;241m.\u001b[39mprice_batch_size))], []))\n",
      "Cell \u001b[0;32mIn[7], line 54\u001b[0m, in \u001b[0;36mChain._get_prices\u001b[0;34m(self, tokens)\u001b[0m\n\u001b[1;32m     47\u001b[0m \u001b[38;5;28;01mdef\u001b[39;00m\u001b[38;5;250m \u001b[39m\u001b[38;5;21m_get_prices\u001b[39m(\u001b[38;5;28mself\u001b[39m, tokens: Tuple[Token]) \u001b[38;5;241m-\u001b[39m\u001b[38;5;241m>\u001b[39m List[\u001b[38;5;28mint\u001b[39m]:\n\u001b[1;32m     48\u001b[0m     \u001b[38;5;66;03m# token_address => normalized rate\u001b[39;00m\n\u001b[1;32m     49\u001b[0m     \u001b[38;5;28;01mreturn\u001b[39;00m \u001b[38;5;28;43mself\u001b[39;49m\u001b[38;5;241;43m.\u001b[39;49m\u001b[43mprices\u001b[49m\u001b[38;5;241;43m.\u001b[39;49m\u001b[43mfunctions\u001b[49m\u001b[38;5;241;43m.\u001b[39;49m\u001b[43mgetManyRatesToEthWithCustomConnectors\u001b[49m\u001b[43m(\u001b[49m\n\u001b[1;32m     50\u001b[0m \u001b[43m        \u001b[49m\u001b[38;5;28;43mlist\u001b[39;49m\u001b[43m(\u001b[49m\u001b[38;5;28;43mmap\u001b[39;49m\u001b[43m(\u001b[49m\u001b[38;5;28;43;01mlambda\u001b[39;49;00m\u001b[43m \u001b[49m\u001b[43mt\u001b[49m\u001b[43m:\u001b[49m\u001b[43m \u001b[49m\u001b[43mt\u001b[49m\u001b[38;5;241;43m.\u001b[39;49m\u001b[43mwrapped_token_address\u001b[49m\u001b[43m \u001b[49m\u001b[38;5;129;43;01mor\u001b[39;49;00m\u001b[43m \u001b[49m\u001b[43mt\u001b[49m\u001b[38;5;241;43m.\u001b[39;49m\u001b[43mtoken_address\u001b[49m\u001b[43m,\u001b[49m\u001b[43m \u001b[49m\u001b[43mtokens\u001b[49m\u001b[43m)\u001b[49m\u001b[43m)\u001b[49m\u001b[43m,\u001b[49m\n\u001b[1;32m     51\u001b[0m \u001b[43m        \u001b[49m\u001b[38;5;28;43;01mFalse\u001b[39;49;00m\u001b[43m,\u001b[49m\u001b[43m \u001b[49m\u001b[38;5;66;43;03m# use wrappers\u001b[39;49;00m\n\u001b[1;32m     52\u001b[0m \u001b[43m        \u001b[49m\u001b[38;5;28;43mself\u001b[39;49m\u001b[38;5;241;43m.\u001b[39;49m\u001b[43msettings\u001b[49m\u001b[38;5;241;43m.\u001b[39;49m\u001b[43mconnector_tokens_addrs\u001b[49m\u001b[43m,\u001b[49m\n\u001b[1;32m     53\u001b[0m \u001b[43m        \u001b[49m\u001b[38;5;241;43m10\u001b[39;49m\u001b[43m \u001b[49m\u001b[38;5;66;43;03m# threshold_filter\u001b[39;49;00m\n\u001b[0;32m---> 54\u001b[0m \u001b[43m    \u001b[49m\u001b[43m)\u001b[49m\u001b[38;5;241;43m.\u001b[39;49m\u001b[43mcall\u001b[49m\u001b[43m(\u001b[49m\u001b[43m)\u001b[49m\n",
      "File \u001b[0;32m~/projects/sugar-sdk/env/lib/python3.10/site-packages/web3/contract/contract.py:291\u001b[0m, in \u001b[0;36mContractFunction.call\u001b[0;34m(self, transaction, block_identifier, state_override, ccip_read_enabled)\u001b[0m\n\u001b[1;32m    287\u001b[0m block_id \u001b[38;5;241m=\u001b[39m parse_block_identifier(\u001b[38;5;28mself\u001b[39m\u001b[38;5;241m.\u001b[39mw3, block_identifier)\n\u001b[1;32m    289\u001b[0m abi_element_identifier \u001b[38;5;241m=\u001b[39m abi_to_signature(\u001b[38;5;28mself\u001b[39m\u001b[38;5;241m.\u001b[39mabi)\n\u001b[0;32m--> 291\u001b[0m \u001b[38;5;28;01mreturn\u001b[39;00m \u001b[43mcall_contract_function\u001b[49m\u001b[43m(\u001b[49m\n\u001b[1;32m    292\u001b[0m \u001b[43m    \u001b[49m\u001b[38;5;28;43mself\u001b[39;49m\u001b[38;5;241;43m.\u001b[39;49m\u001b[43mw3\u001b[49m\u001b[43m,\u001b[49m\n\u001b[1;32m    293\u001b[0m \u001b[43m    \u001b[49m\u001b[38;5;28;43mself\u001b[39;49m\u001b[38;5;241;43m.\u001b[39;49m\u001b[43maddress\u001b[49m\u001b[43m,\u001b[49m\n\u001b[1;32m    294\u001b[0m \u001b[43m    \u001b[49m\u001b[38;5;28;43mself\u001b[39;49m\u001b[38;5;241;43m.\u001b[39;49m\u001b[43m_return_data_normalizers\u001b[49m\u001b[43m,\u001b[49m\n\u001b[1;32m    295\u001b[0m \u001b[43m    \u001b[49m\u001b[43mabi_element_identifier\u001b[49m\u001b[43m,\u001b[49m\n\u001b[1;32m    296\u001b[0m \u001b[43m    \u001b[49m\u001b[43mcall_transaction\u001b[49m\u001b[43m,\u001b[49m\n\u001b[1;32m    297\u001b[0m \u001b[43m    \u001b[49m\u001b[43mblock_id\u001b[49m\u001b[43m,\u001b[49m\n\u001b[1;32m    298\u001b[0m \u001b[43m    \u001b[49m\u001b[38;5;28;43mself\u001b[39;49m\u001b[38;5;241;43m.\u001b[39;49m\u001b[43mcontract_abi\u001b[49m\u001b[43m,\u001b[49m\n\u001b[1;32m    299\u001b[0m \u001b[43m    \u001b[49m\u001b[38;5;28;43mself\u001b[39;49m\u001b[38;5;241;43m.\u001b[39;49m\u001b[43mabi\u001b[49m\u001b[43m,\u001b[49m\n\u001b[1;32m    300\u001b[0m \u001b[43m    \u001b[49m\u001b[43mstate_override\u001b[49m\u001b[43m,\u001b[49m\n\u001b[1;32m    301\u001b[0m \u001b[43m    \u001b[49m\u001b[43mccip_read_enabled\u001b[49m\u001b[43m,\u001b[49m\n\u001b[1;32m    302\u001b[0m \u001b[43m    \u001b[49m\u001b[38;5;28;43mself\u001b[39;49m\u001b[38;5;241;43m.\u001b[39;49m\u001b[43mdecode_tuples\u001b[49m\u001b[43m,\u001b[49m\n\u001b[1;32m    303\u001b[0m \u001b[43m    \u001b[49m\u001b[38;5;241;43m*\u001b[39;49m\u001b[38;5;28;43mself\u001b[39;49m\u001b[38;5;241;43m.\u001b[39;49m\u001b[43margs\u001b[49m\u001b[43m \u001b[49m\u001b[38;5;129;43;01mor\u001b[39;49;00m\u001b[43m \u001b[49m\u001b[43m(\u001b[49m\u001b[43m)\u001b[49m\u001b[43m,\u001b[49m\n\u001b[1;32m    304\u001b[0m \u001b[43m    \u001b[49m\u001b[38;5;241;43m*\u001b[39;49m\u001b[38;5;241;43m*\u001b[39;49m\u001b[38;5;28;43mself\u001b[39;49m\u001b[38;5;241;43m.\u001b[39;49m\u001b[43mkwargs\u001b[49m\u001b[43m \u001b[49m\u001b[38;5;129;43;01mor\u001b[39;49;00m\u001b[43m \u001b[49m\u001b[43m{\u001b[49m\u001b[43m}\u001b[49m\u001b[43m,\u001b[49m\n\u001b[1;32m    305\u001b[0m \u001b[43m\u001b[49m\u001b[43m)\u001b[49m\n",
      "File \u001b[0;32m~/projects/sugar-sdk/env/lib/python3.10/site-packages/web3/contract/utils.py:154\u001b[0m, in \u001b[0;36mcall_contract_function\u001b[0;34m(w3, address, normalizers, abi_element_identifier, transaction, block_id, contract_abi, abi_callable, state_override, ccip_read_enabled, decode_tuples, *args, **kwargs)\u001b[0m\n\u001b[1;32m    139\u001b[0m \u001b[38;5;250m\u001b[39m\u001b[38;5;124;03m\"\"\"\u001b[39;00m\n\u001b[1;32m    140\u001b[0m \u001b[38;5;124;03mHelper function for interacting with a contract function using the\u001b[39;00m\n\u001b[1;32m    141\u001b[0m \u001b[38;5;124;03m`eth_call` API.\u001b[39;00m\n\u001b[1;32m    142\u001b[0m \u001b[38;5;124;03m\"\"\"\u001b[39;00m\n\u001b[1;32m    143\u001b[0m call_transaction \u001b[38;5;241m=\u001b[39m prepare_transaction(\n\u001b[1;32m    144\u001b[0m     address,\n\u001b[1;32m    145\u001b[0m     w3,\n\u001b[0;32m   (...)\u001b[0m\n\u001b[1;32m    151\u001b[0m     fn_kwargs\u001b[38;5;241m=\u001b[39mkwargs,\n\u001b[1;32m    152\u001b[0m )\n\u001b[0;32m--> 154\u001b[0m return_data \u001b[38;5;241m=\u001b[39m \u001b[43mw3\u001b[49m\u001b[38;5;241;43m.\u001b[39;49m\u001b[43meth\u001b[49m\u001b[38;5;241;43m.\u001b[39;49m\u001b[43mcall\u001b[49m\u001b[43m(\u001b[49m\n\u001b[1;32m    155\u001b[0m \u001b[43m    \u001b[49m\u001b[43mcall_transaction\u001b[49m\u001b[43m,\u001b[49m\n\u001b[1;32m    156\u001b[0m \u001b[43m    \u001b[49m\u001b[43mblock_identifier\u001b[49m\u001b[38;5;241;43m=\u001b[39;49m\u001b[43mblock_id\u001b[49m\u001b[43m,\u001b[49m\n\u001b[1;32m    157\u001b[0m \u001b[43m    \u001b[49m\u001b[43mstate_override\u001b[49m\u001b[38;5;241;43m=\u001b[39;49m\u001b[43mstate_override\u001b[49m\u001b[43m,\u001b[49m\n\u001b[1;32m    158\u001b[0m \u001b[43m    \u001b[49m\u001b[43mccip_read_enabled\u001b[49m\u001b[38;5;241;43m=\u001b[39;49m\u001b[43mccip_read_enabled\u001b[49m\u001b[43m,\u001b[49m\n\u001b[1;32m    159\u001b[0m \u001b[43m\u001b[49m\u001b[43m)\u001b[49m\n\u001b[1;32m    161\u001b[0m \u001b[38;5;28;01mif\u001b[39;00m abi_callable \u001b[38;5;129;01mis\u001b[39;00m \u001b[38;5;28;01mNone\u001b[39;00m:\n\u001b[1;32m    162\u001b[0m     abi_callable \u001b[38;5;241m=\u001b[39m cast(\n\u001b[1;32m    163\u001b[0m         ABIFunction,\n\u001b[1;32m    164\u001b[0m         get_abi_element(\n\u001b[0;32m   (...)\u001b[0m\n\u001b[1;32m    170\u001b[0m         ),\n\u001b[1;32m    171\u001b[0m     )\n",
      "File \u001b[0;32m~/projects/sugar-sdk/env/lib/python3.10/site-packages/web3/eth/eth.py:246\u001b[0m, in \u001b[0;36mEth.call\u001b[0;34m(self, transaction, block_identifier, state_override, ccip_read_enabled)\u001b[0m\n\u001b[1;32m    236\u001b[0m ccip_read_enabled_on_provider \u001b[38;5;241m=\u001b[39m \u001b[38;5;28mself\u001b[39m\u001b[38;5;241m.\u001b[39mw3\u001b[38;5;241m.\u001b[39mprovider\u001b[38;5;241m.\u001b[39mglobal_ccip_read_enabled\n\u001b[1;32m    237\u001b[0m \u001b[38;5;28;01mif\u001b[39;00m (\n\u001b[1;32m    238\u001b[0m     \u001b[38;5;66;03m# default conditions:\u001b[39;00m\n\u001b[1;32m    239\u001b[0m     ccip_read_enabled_on_provider\n\u001b[0;32m   (...)\u001b[0m\n\u001b[1;32m    244\u001b[0m     \u001b[38;5;129;01mand\u001b[39;00m ccip_read_enabled \u001b[38;5;129;01mis\u001b[39;00m \u001b[38;5;28;01mTrue\u001b[39;00m\n\u001b[1;32m    245\u001b[0m ):\n\u001b[0;32m--> 246\u001b[0m     \u001b[38;5;28;01mreturn\u001b[39;00m \u001b[38;5;28;43mself\u001b[39;49m\u001b[38;5;241;43m.\u001b[39;49m\u001b[43m_durin_call\u001b[49m\u001b[43m(\u001b[49m\u001b[43mtransaction\u001b[49m\u001b[43m,\u001b[49m\u001b[43m \u001b[49m\u001b[43mblock_identifier\u001b[49m\u001b[43m,\u001b[49m\u001b[43m \u001b[49m\u001b[43mstate_override\u001b[49m\u001b[43m)\u001b[49m\n\u001b[1;32m    248\u001b[0m \u001b[38;5;28;01mreturn\u001b[39;00m \u001b[38;5;28mself\u001b[39m\u001b[38;5;241m.\u001b[39m_call(transaction, block_identifier, state_override)\n",
      "File \u001b[0;32m~/projects/sugar-sdk/env/lib/python3.10/site-packages/web3/eth/eth.py:265\u001b[0m, in \u001b[0;36mEth._durin_call\u001b[0;34m(self, transaction, block_identifier, state_override)\u001b[0m\n\u001b[1;32m    263\u001b[0m \u001b[38;5;28;01mfor\u001b[39;00m _ \u001b[38;5;129;01min\u001b[39;00m \u001b[38;5;28mrange\u001b[39m(max_redirects):\n\u001b[1;32m    264\u001b[0m     \u001b[38;5;28;01mtry\u001b[39;00m:\n\u001b[0;32m--> 265\u001b[0m         \u001b[38;5;28;01mreturn\u001b[39;00m \u001b[38;5;28;43mself\u001b[39;49m\u001b[38;5;241;43m.\u001b[39;49m\u001b[43m_call\u001b[49m\u001b[43m(\u001b[49m\u001b[43mtransaction\u001b[49m\u001b[43m,\u001b[49m\u001b[43m \u001b[49m\u001b[43mblock_identifier\u001b[49m\u001b[43m,\u001b[49m\u001b[43m \u001b[49m\u001b[43mstate_override\u001b[49m\u001b[43m)\u001b[49m\n\u001b[1;32m    266\u001b[0m     \u001b[38;5;28;01mexcept\u001b[39;00m OffchainLookup \u001b[38;5;28;01mas\u001b[39;00m offchain_lookup:\n\u001b[1;32m    267\u001b[0m         durin_calldata \u001b[38;5;241m=\u001b[39m handle_offchain_lookup(\n\u001b[1;32m    268\u001b[0m             offchain_lookup\u001b[38;5;241m.\u001b[39mpayload,\n\u001b[1;32m    269\u001b[0m             transaction,\n\u001b[1;32m    270\u001b[0m         )\n",
      "File \u001b[0;32m~/projects/sugar-sdk/env/lib/python3.10/site-packages/web3/module.py:112\u001b[0m, in \u001b[0;36mretrieve_blocking_method_call_fn.<locals>.caller\u001b[0;34m(*args, **kwargs)\u001b[0m\n\u001b[1;32m    105\u001b[0m     \u001b[38;5;28;01mreturn\u001b[39;00m LogFilter(eth_module\u001b[38;5;241m=\u001b[39mmodule, filter_id\u001b[38;5;241m=\u001b[39merr\u001b[38;5;241m.\u001b[39mfilter_id)\n\u001b[1;32m    107\u001b[0m (\n\u001b[1;32m    108\u001b[0m     result_formatters,\n\u001b[1;32m    109\u001b[0m     error_formatters,\n\u001b[1;32m    110\u001b[0m     null_result_formatters,\n\u001b[1;32m    111\u001b[0m ) \u001b[38;5;241m=\u001b[39m response_formatters\n\u001b[0;32m--> 112\u001b[0m result \u001b[38;5;241m=\u001b[39m \u001b[43mw3\u001b[49m\u001b[38;5;241;43m.\u001b[39;49m\u001b[43mmanager\u001b[49m\u001b[38;5;241;43m.\u001b[39;49m\u001b[43mrequest_blocking\u001b[49m\u001b[43m(\u001b[49m\n\u001b[1;32m    113\u001b[0m \u001b[43m    \u001b[49m\u001b[43mmethod_str\u001b[49m\u001b[43m,\u001b[49m\u001b[43m \u001b[49m\u001b[43mparams\u001b[49m\u001b[43m,\u001b[49m\u001b[43m \u001b[49m\u001b[43merror_formatters\u001b[49m\u001b[43m,\u001b[49m\u001b[43m \u001b[49m\u001b[43mnull_result_formatters\u001b[49m\n\u001b[1;32m    114\u001b[0m \u001b[43m\u001b[49m\u001b[43m)\u001b[49m\n\u001b[1;32m    115\u001b[0m \u001b[38;5;28;01mreturn\u001b[39;00m apply_result_formatters(result_formatters, result)\n",
      "File \u001b[0;32m~/projects/sugar-sdk/env/lib/python3.10/site-packages/web3/manager.py:232\u001b[0m, in \u001b[0;36mRequestManager.request_blocking\u001b[0;34m(self, method, params, error_formatters, null_result_formatters)\u001b[0m\n\u001b[1;32m    228\u001b[0m \u001b[38;5;250m\u001b[39m\u001b[38;5;124;03m\"\"\"\u001b[39;00m\n\u001b[1;32m    229\u001b[0m \u001b[38;5;124;03mMake a synchronous request using the provider\u001b[39;00m\n\u001b[1;32m    230\u001b[0m \u001b[38;5;124;03m\"\"\"\u001b[39;00m\n\u001b[1;32m    231\u001b[0m response \u001b[38;5;241m=\u001b[39m \u001b[38;5;28mself\u001b[39m\u001b[38;5;241m.\u001b[39m_make_request(method, params)\n\u001b[0;32m--> 232\u001b[0m \u001b[38;5;28;01mreturn\u001b[39;00m \u001b[38;5;28;43mself\u001b[39;49m\u001b[38;5;241;43m.\u001b[39;49m\u001b[43mformatted_response\u001b[49m\u001b[43m(\u001b[49m\n\u001b[1;32m    233\u001b[0m \u001b[43m    \u001b[49m\u001b[43mresponse\u001b[49m\u001b[43m,\u001b[49m\u001b[43m \u001b[49m\u001b[43mparams\u001b[49m\u001b[43m,\u001b[49m\u001b[43m \u001b[49m\u001b[43merror_formatters\u001b[49m\u001b[43m,\u001b[49m\u001b[43m \u001b[49m\u001b[43mnull_result_formatters\u001b[49m\n\u001b[1;32m    234\u001b[0m \u001b[43m\u001b[49m\u001b[43m)\u001b[49m\n",
      "File \u001b[0;32m~/projects/sugar-sdk/env/lib/python3.10/site-packages/web3/manager.py:198\u001b[0m, in \u001b[0;36mRequestManager.formatted_response\u001b[0;34m(self, response, params, error_formatters, null_result_formatters)\u001b[0m\n\u001b[1;32m    184\u001b[0m \u001b[38;5;28;01mdef\u001b[39;00m\u001b[38;5;250m \u001b[39m\u001b[38;5;21mformatted_response\u001b[39m(\n\u001b[1;32m    185\u001b[0m     \u001b[38;5;28mself\u001b[39m,\n\u001b[1;32m    186\u001b[0m     response: RPCResponse,\n\u001b[0;32m   (...)\u001b[0m\n\u001b[1;32m    189\u001b[0m     null_result_formatters: Optional[Callable[\u001b[38;5;241m.\u001b[39m\u001b[38;5;241m.\u001b[39m\u001b[38;5;241m.\u001b[39m, Any]] \u001b[38;5;241m=\u001b[39m \u001b[38;5;28;01mNone\u001b[39;00m,\n\u001b[1;32m    190\u001b[0m ) \u001b[38;5;241m-\u001b[39m\u001b[38;5;241m>\u001b[39m Any:\n\u001b[1;32m    191\u001b[0m     is_subscription_response \u001b[38;5;241m=\u001b[39m (\n\u001b[1;32m    192\u001b[0m         response\u001b[38;5;241m.\u001b[39mget(\u001b[38;5;124m\"\u001b[39m\u001b[38;5;124mmethod\u001b[39m\u001b[38;5;124m\"\u001b[39m) \u001b[38;5;241m==\u001b[39m \u001b[38;5;124m\"\u001b[39m\u001b[38;5;124meth_subscription\u001b[39m\u001b[38;5;124m\"\u001b[39m\n\u001b[1;32m    193\u001b[0m         \u001b[38;5;129;01mand\u001b[39;00m response\u001b[38;5;241m.\u001b[39mget(\u001b[38;5;124m\"\u001b[39m\u001b[38;5;124mparams\u001b[39m\u001b[38;5;124m\"\u001b[39m) \u001b[38;5;129;01mis\u001b[39;00m \u001b[38;5;129;01mnot\u001b[39;00m \u001b[38;5;28;01mNone\u001b[39;00m\n\u001b[1;32m    194\u001b[0m         \u001b[38;5;129;01mand\u001b[39;00m response[\u001b[38;5;124m\"\u001b[39m\u001b[38;5;124mparams\u001b[39m\u001b[38;5;124m\"\u001b[39m]\u001b[38;5;241m.\u001b[39mget(\u001b[38;5;124m\"\u001b[39m\u001b[38;5;124msubscription\u001b[39m\u001b[38;5;124m\"\u001b[39m) \u001b[38;5;129;01mis\u001b[39;00m \u001b[38;5;129;01mnot\u001b[39;00m \u001b[38;5;28;01mNone\u001b[39;00m\n\u001b[1;32m    195\u001b[0m         \u001b[38;5;129;01mand\u001b[39;00m response[\u001b[38;5;124m\"\u001b[39m\u001b[38;5;124mparams\u001b[39m\u001b[38;5;124m\"\u001b[39m]\u001b[38;5;241m.\u001b[39mget(\u001b[38;5;124m\"\u001b[39m\u001b[38;5;124mresult\u001b[39m\u001b[38;5;124m\"\u001b[39m) \u001b[38;5;129;01mis\u001b[39;00m \u001b[38;5;129;01mnot\u001b[39;00m \u001b[38;5;28;01mNone\u001b[39;00m\n\u001b[1;32m    196\u001b[0m     )\n\u001b[0;32m--> 198\u001b[0m     \u001b[43mvalidate_rpc_response_and_raise_if_error\u001b[49m\u001b[43m(\u001b[49m\n\u001b[1;32m    199\u001b[0m \u001b[43m        \u001b[49m\u001b[43mresponse\u001b[49m\u001b[43m,\u001b[49m\n\u001b[1;32m    200\u001b[0m \u001b[43m        \u001b[49m\u001b[43merror_formatters\u001b[49m\u001b[43m,\u001b[49m\n\u001b[1;32m    201\u001b[0m \u001b[43m        \u001b[49m\u001b[43mis_subscription_response\u001b[49m\u001b[38;5;241;43m=\u001b[39;49m\u001b[43mis_subscription_response\u001b[49m\u001b[43m,\u001b[49m\n\u001b[1;32m    202\u001b[0m \u001b[43m        \u001b[49m\u001b[43mlogger\u001b[49m\u001b[38;5;241;43m=\u001b[39;49m\u001b[38;5;28;43mself\u001b[39;49m\u001b[38;5;241;43m.\u001b[39;49m\u001b[43mlogger\u001b[49m\u001b[43m,\u001b[49m\n\u001b[1;32m    203\u001b[0m \u001b[43m        \u001b[49m\u001b[43mparams\u001b[49m\u001b[38;5;241;43m=\u001b[39;49m\u001b[43mparams\u001b[49m\u001b[43m,\u001b[49m\n\u001b[1;32m    204\u001b[0m \u001b[43m    \u001b[49m\u001b[43m)\u001b[49m\n\u001b[1;32m    206\u001b[0m     \u001b[38;5;66;03m# format results\u001b[39;00m\n\u001b[1;32m    207\u001b[0m     \u001b[38;5;28;01mif\u001b[39;00m \u001b[38;5;124m\"\u001b[39m\u001b[38;5;124mresult\u001b[39m\u001b[38;5;124m\"\u001b[39m \u001b[38;5;129;01min\u001b[39;00m response:\n\u001b[1;32m    208\u001b[0m         \u001b[38;5;66;03m# Null values for result should apply null_result_formatters\u001b[39;00m\n\u001b[1;32m    209\u001b[0m         \u001b[38;5;66;03m# Skip when result not present in the response (fallback to False)\u001b[39;00m\n",
      "File \u001b[0;32m~/projects/sugar-sdk/env/lib/python3.10/site-packages/web3/_utils/validation.py:401\u001b[0m, in \u001b[0;36mvalidate_rpc_response_and_raise_if_error\u001b[0;34m(response, error_formatters, is_subscription_response, logger, params)\u001b[0m\n\u001b[1;32m    398\u001b[0m     \u001b[38;5;28;01mif\u001b[39;00m logger \u001b[38;5;129;01mis\u001b[39;00m \u001b[38;5;129;01mnot\u001b[39;00m \u001b[38;5;28;01mNone\u001b[39;00m:\n\u001b[1;32m    399\u001b[0m         logger\u001b[38;5;241m.\u001b[39mdebug(\u001b[38;5;124mf\u001b[39m\u001b[38;5;124m\"\u001b[39m\u001b[38;5;124mRPC error response: \u001b[39m\u001b[38;5;132;01m{\u001b[39;00mresponse\u001b[38;5;132;01m}\u001b[39;00m\u001b[38;5;124m\"\u001b[39m)\n\u001b[0;32m--> 401\u001b[0m     \u001b[38;5;28;01mraise\u001b[39;00m web3_rpc_error\n\u001b[1;32m    403\u001b[0m \u001b[38;5;28;01melif\u001b[39;00m \u001b[38;5;124m\"\u001b[39m\u001b[38;5;124mresult\u001b[39m\u001b[38;5;124m\"\u001b[39m \u001b[38;5;129;01mnot\u001b[39;00m \u001b[38;5;129;01min\u001b[39;00m response \u001b[38;5;129;01mand\u001b[39;00m \u001b[38;5;129;01mnot\u001b[39;00m is_subscription_response:\n\u001b[1;32m    404\u001b[0m     _raise_bad_response_format(response)\n",
      "\u001b[0;31mWeb3RPCError\u001b[0m: {'message': 'out of gas', 'code': -32000}"
     ]
    }
   ],
   "source": [
    "with OPChain() as chain:\n",
    "    tokens = chain.get_all_tokens()\n",
    "    prices = chain.get_prices(tokens)\n",
    "    pools = chain.get_pools()\n",
    "\n",
    "    print(tokens)\n",
    "\n",
    "    for p in prices[:5]: print(f\"{p.token.symbol} price: ${p.price}\")\n",
    "    for p in pools[:5]: print(f\"{p.symbol} pool: ${p.tvl}\")"
   ]
  },
  {
   "cell_type": "markdown",
   "metadata": {},
   "source": [
    "### Swaps\n",
    "\n",
    "Let's test some swaps here"
   ]
  },
  {
   "cell_type": "code",
   "execution_count": null,
   "metadata": {},
   "outputs": [
    {
     "ename": "Web3RPCError",
     "evalue": "{'code': -32603, 'message': 'failed to get storage for 0x41C914ee0c7E1A5edCD0295623e6dC557B5aBf3C at 23716608863816337723465323608686578564268057409016433012441080778824087594713: Max retries exceeded HTTP error 429 with body: {\"jsonrpc\":\"2.0\",\"error\":{\"code\":-32016,\"message\":\"Your IP has exceeded its requests per second capacity. Please consider using a dedicated API provider: https://community.optimism.io/docs/useful-tools/providers\"},\"id\":375}'}",
     "output_type": "error",
     "traceback": [
      "\u001b[0;31m---------------------------------------------------------------------------\u001b[0m",
      "\u001b[0;31mWeb3RPCError\u001b[0m                              Traceback (most recent call last)",
      "Cell \u001b[0;32mIn[18], line 3\u001b[0m\n\u001b[1;32m      1\u001b[0m \u001b[38;5;66;03m# velo -> usdc\u001b[39;00m\n\u001b[1;32m      2\u001b[0m \u001b[38;5;28;01masync\u001b[39;00m \u001b[38;5;28;01mwith\u001b[39;00m AsyncOPChainSimnet() \u001b[38;5;28;01mas\u001b[39;00m op:\n\u001b[0;32m----> 3\u001b[0m     tokens \u001b[38;5;241m=\u001b[39m \u001b[38;5;28;01mawait\u001b[39;00m op\u001b[38;5;241m.\u001b[39mget_all_tokens(listed_only\u001b[38;5;241m=\u001b[39m\u001b[38;5;28;01mTrue\u001b[39;00m)\n\u001b[1;32m      4\u001b[0m     \u001b[38;5;28;01mdef\u001b[39;00m\u001b[38;5;250m \u001b[39m\u001b[38;5;21mget_token_by_address\u001b[39m(addr): \u001b[38;5;28;01mreturn\u001b[39;00m \u001b[38;5;28mnext\u001b[39m(\u001b[38;5;28mfilter\u001b[39m(\u001b[38;5;28;01mlambda\u001b[39;00m t: t\u001b[38;5;241m.\u001b[39mtoken_address \u001b[38;5;241m==\u001b[39m addr, tokens), \u001b[38;5;28;01mNone\u001b[39;00m)\n\u001b[1;32m      5\u001b[0m     usdc, velo \u001b[38;5;241m=\u001b[39m get_token_by_address(normalize_address(\u001b[38;5;124m\"\u001b[39m\u001b[38;5;124m0x0b2c639c533813f4aa9d7837caf62653d097ff85\u001b[39m\u001b[38;5;124m\"\u001b[39m)), get_token_by_address(normalize_address(\u001b[38;5;124m\"\u001b[39m\u001b[38;5;124m0x9560e827af36c94d2ac33a39bce1fe78631088db\u001b[39m\u001b[38;5;124m\"\u001b[39m))\n",
      "Cell \u001b[0;32mIn[5], line 16\u001b[0m, in \u001b[0;36mrequire_async_context.<locals>.wrapper\u001b[0;34m(self, *args, **kwargs)\u001b[0m\n\u001b[1;32m     13\u001b[0m \u001b[38;5;129m@wraps\u001b[39m(f)\n\u001b[1;32m     14\u001b[0m \u001b[38;5;28;01masync\u001b[39;00m \u001b[38;5;28;01mdef\u001b[39;00m\u001b[38;5;250m \u001b[39m\u001b[38;5;21mwrapper\u001b[39m(\u001b[38;5;28mself\u001b[39m: \u001b[38;5;124m'\u001b[39m\u001b[38;5;124mCommonChain\u001b[39m\u001b[38;5;124m'\u001b[39m, \u001b[38;5;241m*\u001b[39margs, \u001b[38;5;241m*\u001b[39m\u001b[38;5;241m*\u001b[39mkwargs) \u001b[38;5;241m-\u001b[39m\u001b[38;5;241m>\u001b[39m T:\n\u001b[1;32m     15\u001b[0m     \u001b[38;5;28;01mif\u001b[39;00m \u001b[38;5;129;01mnot\u001b[39;00m \u001b[38;5;28mself\u001b[39m\u001b[38;5;241m.\u001b[39m_in_context: \u001b[38;5;28;01mraise\u001b[39;00m \u001b[38;5;167;01mRuntimeError\u001b[39;00m(\u001b[38;5;124m\"\u001b[39m\u001b[38;5;124mChain methods can only be accessed within \u001b[39m\u001b[38;5;124m'\u001b[39m\u001b[38;5;124masync with\u001b[39m\u001b[38;5;124m'\u001b[39m\u001b[38;5;124m block\u001b[39m\u001b[38;5;124m\"\u001b[39m)\n\u001b[0;32m---> 16\u001b[0m     \u001b[38;5;28;01mreturn\u001b[39;00m \u001b[38;5;28;01mawait\u001b[39;00m f(\u001b[38;5;28mself\u001b[39m, \u001b[38;5;241m*\u001b[39margs, \u001b[38;5;241m*\u001b[39m\u001b[38;5;241m*\u001b[39mkwargs)\n",
      "Cell \u001b[0;32mIn[6], line 34\u001b[0m, in \u001b[0;36mAsyncChain.get_all_tokens\u001b[0;34m(self, listed_only)\u001b[0m\n\u001b[1;32m     31\u001b[0m \u001b[38;5;129m@require_async_context\u001b[39m\n\u001b[1;32m     32\u001b[0m \u001b[38;5;28;01masync\u001b[39;00m \u001b[38;5;28;01mdef\u001b[39;00m\u001b[38;5;250m \u001b[39m\u001b[38;5;21mget_all_tokens\u001b[39m(\u001b[38;5;28mself\u001b[39m, listed_only: \u001b[38;5;28mbool\u001b[39m \u001b[38;5;241m=\u001b[39m \u001b[38;5;28;01mTrue\u001b[39;00m) \u001b[38;5;241m-\u001b[39m\u001b[38;5;241m>\u001b[39m List[Token]:\n\u001b[1;32m     33\u001b[0m     \u001b[38;5;66;03m# TODO: pagination for tokens\u001b[39;00m\n\u001b[0;32m---> 34\u001b[0m     tokens \u001b[38;5;241m=\u001b[39m \u001b[38;5;28;01mawait\u001b[39;00m \u001b[38;5;28mself\u001b[39m\u001b[38;5;241m.\u001b[39msugar\u001b[38;5;241m.\u001b[39mfunctions\u001b[38;5;241m.\u001b[39mtokens(\u001b[38;5;241m1000\u001b[39m, \u001b[38;5;241m0\u001b[39m, ADDRESS_ZERO, [])\u001b[38;5;241m.\u001b[39mcall()\n\u001b[1;32m     35\u001b[0m     \u001b[38;5;28;01mreturn\u001b[39;00m \u001b[38;5;28mself\u001b[39m\u001b[38;5;241m.\u001b[39mprepare_tokens(tokens, listed_only)\n",
      "File \u001b[0;32m~/projects/sugar-sdk/env/lib/python3.10/site-packages/web3/contract/async_contract.py:290\u001b[0m, in \u001b[0;36mAsyncContractFunction.call\u001b[0;34m(self, transaction, block_identifier, state_override, ccip_read_enabled)\u001b[0m\n\u001b[1;32m    286\u001b[0m block_id \u001b[38;5;241m=\u001b[39m \u001b[38;5;28;01mawait\u001b[39;00m async_parse_block_identifier(\u001b[38;5;28mself\u001b[39m\u001b[38;5;241m.\u001b[39mw3, block_identifier)\n\u001b[1;32m    288\u001b[0m abi_element_identifier \u001b[38;5;241m=\u001b[39m abi_to_signature(\u001b[38;5;28mself\u001b[39m\u001b[38;5;241m.\u001b[39mabi)\n\u001b[0;32m--> 290\u001b[0m \u001b[38;5;28;01mreturn\u001b[39;00m \u001b[38;5;28;01mawait\u001b[39;00m async_call_contract_function(\n\u001b[1;32m    291\u001b[0m     \u001b[38;5;28mself\u001b[39m\u001b[38;5;241m.\u001b[39mw3,\n\u001b[1;32m    292\u001b[0m     \u001b[38;5;28mself\u001b[39m\u001b[38;5;241m.\u001b[39maddress,\n\u001b[1;32m    293\u001b[0m     \u001b[38;5;28mself\u001b[39m\u001b[38;5;241m.\u001b[39m_return_data_normalizers,\n\u001b[1;32m    294\u001b[0m     abi_element_identifier,\n\u001b[1;32m    295\u001b[0m     call_transaction,\n\u001b[1;32m    296\u001b[0m     block_id,\n\u001b[1;32m    297\u001b[0m     \u001b[38;5;28mself\u001b[39m\u001b[38;5;241m.\u001b[39mcontract_abi,\n\u001b[1;32m    298\u001b[0m     \u001b[38;5;28mself\u001b[39m\u001b[38;5;241m.\u001b[39mabi,\n\u001b[1;32m    299\u001b[0m     state_override,\n\u001b[1;32m    300\u001b[0m     ccip_read_enabled,\n\u001b[1;32m    301\u001b[0m     \u001b[38;5;28mself\u001b[39m\u001b[38;5;241m.\u001b[39mdecode_tuples,\n\u001b[1;32m    302\u001b[0m     \u001b[38;5;241m*\u001b[39m\u001b[38;5;28mself\u001b[39m\u001b[38;5;241m.\u001b[39margs \u001b[38;5;129;01mor\u001b[39;00m (),\n\u001b[1;32m    303\u001b[0m     \u001b[38;5;241m*\u001b[39m\u001b[38;5;241m*\u001b[39m\u001b[38;5;28mself\u001b[39m\u001b[38;5;241m.\u001b[39mkwargs \u001b[38;5;129;01mor\u001b[39;00m {},\n\u001b[1;32m    304\u001b[0m )\n",
      "File \u001b[0;32m~/projects/sugar-sdk/env/lib/python3.10/site-packages/web3/contract/utils.py:453\u001b[0m, in \u001b[0;36masync_call_contract_function\u001b[0;34m(async_w3, address, normalizers, abi_element_identifier, transaction, block_id, contract_abi, fn_abi, state_override, ccip_read_enabled, decode_tuples, *args, **kwargs)\u001b[0m\n\u001b[1;32m    438\u001b[0m \u001b[38;5;250m\u001b[39m\u001b[38;5;124;03m\"\"\"\u001b[39;00m\n\u001b[1;32m    439\u001b[0m \u001b[38;5;124;03mHelper function for interacting with a contract function using the\u001b[39;00m\n\u001b[1;32m    440\u001b[0m \u001b[38;5;124;03m`eth_call` API.\u001b[39;00m\n\u001b[1;32m    441\u001b[0m \u001b[38;5;124;03m\"\"\"\u001b[39;00m\n\u001b[1;32m    442\u001b[0m call_transaction \u001b[38;5;241m=\u001b[39m prepare_transaction(\n\u001b[1;32m    443\u001b[0m     address,\n\u001b[1;32m    444\u001b[0m     async_w3,\n\u001b[0;32m   (...)\u001b[0m\n\u001b[1;32m    450\u001b[0m     fn_kwargs\u001b[38;5;241m=\u001b[39mkwargs,\n\u001b[1;32m    451\u001b[0m )\n\u001b[0;32m--> 453\u001b[0m return_data \u001b[38;5;241m=\u001b[39m \u001b[38;5;28;01mawait\u001b[39;00m async_w3\u001b[38;5;241m.\u001b[39meth\u001b[38;5;241m.\u001b[39mcall(\n\u001b[1;32m    454\u001b[0m     call_transaction,\n\u001b[1;32m    455\u001b[0m     block_identifier\u001b[38;5;241m=\u001b[39mblock_id,\n\u001b[1;32m    456\u001b[0m     state_override\u001b[38;5;241m=\u001b[39mstate_override,\n\u001b[1;32m    457\u001b[0m     ccip_read_enabled\u001b[38;5;241m=\u001b[39mccip_read_enabled,\n\u001b[1;32m    458\u001b[0m )\n\u001b[1;32m    460\u001b[0m \u001b[38;5;28;01mif\u001b[39;00m fn_abi \u001b[38;5;129;01mis\u001b[39;00m \u001b[38;5;28;01mNone\u001b[39;00m:\n\u001b[1;32m    461\u001b[0m     fn_abi \u001b[38;5;241m=\u001b[39m cast(\n\u001b[1;32m    462\u001b[0m         ABIFunction,\n\u001b[1;32m    463\u001b[0m         get_abi_element(\n\u001b[0;32m   (...)\u001b[0m\n\u001b[1;32m    469\u001b[0m         ),\n\u001b[1;32m    470\u001b[0m     )\n",
      "File \u001b[0;32m~/projects/sugar-sdk/env/lib/python3.10/site-packages/web3/eth/async_eth.py:265\u001b[0m, in \u001b[0;36mAsyncEth.call\u001b[0;34m(self, transaction, block_identifier, state_override, ccip_read_enabled)\u001b[0m\n\u001b[1;32m    255\u001b[0m ccip_read_enabled_on_provider \u001b[38;5;241m=\u001b[39m \u001b[38;5;28mself\u001b[39m\u001b[38;5;241m.\u001b[39mw3\u001b[38;5;241m.\u001b[39mprovider\u001b[38;5;241m.\u001b[39mglobal_ccip_read_enabled\n\u001b[1;32m    256\u001b[0m \u001b[38;5;28;01mif\u001b[39;00m (\n\u001b[1;32m    257\u001b[0m     \u001b[38;5;66;03m# default conditions:\u001b[39;00m\n\u001b[1;32m    258\u001b[0m     ccip_read_enabled_on_provider\n\u001b[0;32m   (...)\u001b[0m\n\u001b[1;32m    263\u001b[0m     \u001b[38;5;129;01mand\u001b[39;00m ccip_read_enabled \u001b[38;5;129;01mis\u001b[39;00m \u001b[38;5;28;01mTrue\u001b[39;00m\n\u001b[1;32m    264\u001b[0m ):\n\u001b[0;32m--> 265\u001b[0m     \u001b[38;5;28;01mreturn\u001b[39;00m \u001b[38;5;28;01mawait\u001b[39;00m \u001b[38;5;28mself\u001b[39m\u001b[38;5;241m.\u001b[39m_durin_call(transaction, block_identifier, state_override)\n\u001b[1;32m    267\u001b[0m \u001b[38;5;28;01mreturn\u001b[39;00m \u001b[38;5;28;01mawait\u001b[39;00m \u001b[38;5;28mself\u001b[39m\u001b[38;5;241m.\u001b[39m_call(transaction, block_identifier, state_override)\n",
      "File \u001b[0;32m~/projects/sugar-sdk/env/lib/python3.10/site-packages/web3/eth/async_eth.py:284\u001b[0m, in \u001b[0;36mAsyncEth._durin_call\u001b[0;34m(self, transaction, block_identifier, state_override)\u001b[0m\n\u001b[1;32m    282\u001b[0m \u001b[38;5;28;01mfor\u001b[39;00m _ \u001b[38;5;129;01min\u001b[39;00m \u001b[38;5;28mrange\u001b[39m(max_redirects):\n\u001b[1;32m    283\u001b[0m     \u001b[38;5;28;01mtry\u001b[39;00m:\n\u001b[0;32m--> 284\u001b[0m         \u001b[38;5;28;01mreturn\u001b[39;00m \u001b[38;5;28;01mawait\u001b[39;00m \u001b[38;5;28mself\u001b[39m\u001b[38;5;241m.\u001b[39m_call(transaction, block_identifier, state_override)\n\u001b[1;32m    285\u001b[0m     \u001b[38;5;28;01mexcept\u001b[39;00m OffchainLookup \u001b[38;5;28;01mas\u001b[39;00m offchain_lookup:\n\u001b[1;32m    286\u001b[0m         durin_calldata \u001b[38;5;241m=\u001b[39m \u001b[38;5;28;01mawait\u001b[39;00m async_handle_offchain_lookup(\n\u001b[1;32m    287\u001b[0m             offchain_lookup\u001b[38;5;241m.\u001b[39mpayload,\n\u001b[1;32m    288\u001b[0m             transaction,\n\u001b[1;32m    289\u001b[0m         )\n",
      "File \u001b[0;32m~/projects/sugar-sdk/env/lib/python3.10/site-packages/web3/module.py:155\u001b[0m, in \u001b[0;36mretrieve_async_method_call_fn.<locals>.caller\u001b[0;34m(*args, **kwargs)\u001b[0m\n\u001b[1;32m    149\u001b[0m \u001b[38;5;28;01melse\u001b[39;00m:\n\u001b[1;32m    150\u001b[0m     (\n\u001b[1;32m    151\u001b[0m         result_formatters,\n\u001b[1;32m    152\u001b[0m         error_formatters,\n\u001b[1;32m    153\u001b[0m         null_result_formatters,\n\u001b[1;32m    154\u001b[0m     ) \u001b[38;5;241m=\u001b[39m response_formatters\n\u001b[0;32m--> 155\u001b[0m     result \u001b[38;5;241m=\u001b[39m \u001b[38;5;28;01mawait\u001b[39;00m async_w3\u001b[38;5;241m.\u001b[39mmanager\u001b[38;5;241m.\u001b[39mcoro_request(\n\u001b[1;32m    156\u001b[0m         method_str, params, error_formatters, null_result_formatters\n\u001b[1;32m    157\u001b[0m     )\n\u001b[1;32m    158\u001b[0m     \u001b[38;5;28;01mreturn\u001b[39;00m apply_result_formatters(result_formatters, result)\n",
      "File \u001b[0;32m~/projects/sugar-sdk/env/lib/python3.10/site-packages/web3/manager.py:247\u001b[0m, in \u001b[0;36mRequestManager.coro_request\u001b[0;34m(self, method, params, error_formatters, null_result_formatters)\u001b[0m\n\u001b[1;32m    243\u001b[0m \u001b[38;5;250m\u001b[39m\u001b[38;5;124;03m\"\"\"\u001b[39;00m\n\u001b[1;32m    244\u001b[0m \u001b[38;5;124;03mCoroutine for making a request using the provider\u001b[39;00m\n\u001b[1;32m    245\u001b[0m \u001b[38;5;124;03m\"\"\"\u001b[39;00m\n\u001b[1;32m    246\u001b[0m response \u001b[38;5;241m=\u001b[39m \u001b[38;5;28;01mawait\u001b[39;00m \u001b[38;5;28mself\u001b[39m\u001b[38;5;241m.\u001b[39m_coro_make_request(method, params)\n\u001b[0;32m--> 247\u001b[0m \u001b[38;5;28;01mreturn\u001b[39;00m \u001b[38;5;28;43mself\u001b[39;49m\u001b[38;5;241;43m.\u001b[39;49m\u001b[43mformatted_response\u001b[49m\u001b[43m(\u001b[49m\n\u001b[1;32m    248\u001b[0m \u001b[43m    \u001b[49m\u001b[43mresponse\u001b[49m\u001b[43m,\u001b[49m\u001b[43m \u001b[49m\u001b[43mparams\u001b[49m\u001b[43m,\u001b[49m\u001b[43m \u001b[49m\u001b[43merror_formatters\u001b[49m\u001b[43m,\u001b[49m\u001b[43m \u001b[49m\u001b[43mnull_result_formatters\u001b[49m\n\u001b[1;32m    249\u001b[0m \u001b[43m\u001b[49m\u001b[43m)\u001b[49m\n",
      "File \u001b[0;32m~/projects/sugar-sdk/env/lib/python3.10/site-packages/web3/manager.py:198\u001b[0m, in \u001b[0;36mRequestManager.formatted_response\u001b[0;34m(self, response, params, error_formatters, null_result_formatters)\u001b[0m\n\u001b[1;32m    184\u001b[0m \u001b[38;5;28;01mdef\u001b[39;00m\u001b[38;5;250m \u001b[39m\u001b[38;5;21mformatted_response\u001b[39m(\n\u001b[1;32m    185\u001b[0m     \u001b[38;5;28mself\u001b[39m,\n\u001b[1;32m    186\u001b[0m     response: RPCResponse,\n\u001b[0;32m   (...)\u001b[0m\n\u001b[1;32m    189\u001b[0m     null_result_formatters: Optional[Callable[\u001b[38;5;241m.\u001b[39m\u001b[38;5;241m.\u001b[39m\u001b[38;5;241m.\u001b[39m, Any]] \u001b[38;5;241m=\u001b[39m \u001b[38;5;28;01mNone\u001b[39;00m,\n\u001b[1;32m    190\u001b[0m ) \u001b[38;5;241m-\u001b[39m\u001b[38;5;241m>\u001b[39m Any:\n\u001b[1;32m    191\u001b[0m     is_subscription_response \u001b[38;5;241m=\u001b[39m (\n\u001b[1;32m    192\u001b[0m         response\u001b[38;5;241m.\u001b[39mget(\u001b[38;5;124m\"\u001b[39m\u001b[38;5;124mmethod\u001b[39m\u001b[38;5;124m\"\u001b[39m) \u001b[38;5;241m==\u001b[39m \u001b[38;5;124m\"\u001b[39m\u001b[38;5;124meth_subscription\u001b[39m\u001b[38;5;124m\"\u001b[39m\n\u001b[1;32m    193\u001b[0m         \u001b[38;5;129;01mand\u001b[39;00m response\u001b[38;5;241m.\u001b[39mget(\u001b[38;5;124m\"\u001b[39m\u001b[38;5;124mparams\u001b[39m\u001b[38;5;124m\"\u001b[39m) \u001b[38;5;129;01mis\u001b[39;00m \u001b[38;5;129;01mnot\u001b[39;00m \u001b[38;5;28;01mNone\u001b[39;00m\n\u001b[1;32m    194\u001b[0m         \u001b[38;5;129;01mand\u001b[39;00m response[\u001b[38;5;124m\"\u001b[39m\u001b[38;5;124mparams\u001b[39m\u001b[38;5;124m\"\u001b[39m]\u001b[38;5;241m.\u001b[39mget(\u001b[38;5;124m\"\u001b[39m\u001b[38;5;124msubscription\u001b[39m\u001b[38;5;124m\"\u001b[39m) \u001b[38;5;129;01mis\u001b[39;00m \u001b[38;5;129;01mnot\u001b[39;00m \u001b[38;5;28;01mNone\u001b[39;00m\n\u001b[1;32m    195\u001b[0m         \u001b[38;5;129;01mand\u001b[39;00m response[\u001b[38;5;124m\"\u001b[39m\u001b[38;5;124mparams\u001b[39m\u001b[38;5;124m\"\u001b[39m]\u001b[38;5;241m.\u001b[39mget(\u001b[38;5;124m\"\u001b[39m\u001b[38;5;124mresult\u001b[39m\u001b[38;5;124m\"\u001b[39m) \u001b[38;5;129;01mis\u001b[39;00m \u001b[38;5;129;01mnot\u001b[39;00m \u001b[38;5;28;01mNone\u001b[39;00m\n\u001b[1;32m    196\u001b[0m     )\n\u001b[0;32m--> 198\u001b[0m     \u001b[43mvalidate_rpc_response_and_raise_if_error\u001b[49m\u001b[43m(\u001b[49m\n\u001b[1;32m    199\u001b[0m \u001b[43m        \u001b[49m\u001b[43mresponse\u001b[49m\u001b[43m,\u001b[49m\n\u001b[1;32m    200\u001b[0m \u001b[43m        \u001b[49m\u001b[43merror_formatters\u001b[49m\u001b[43m,\u001b[49m\n\u001b[1;32m    201\u001b[0m \u001b[43m        \u001b[49m\u001b[43mis_subscription_response\u001b[49m\u001b[38;5;241;43m=\u001b[39;49m\u001b[43mis_subscription_response\u001b[49m\u001b[43m,\u001b[49m\n\u001b[1;32m    202\u001b[0m \u001b[43m        \u001b[49m\u001b[43mlogger\u001b[49m\u001b[38;5;241;43m=\u001b[39;49m\u001b[38;5;28;43mself\u001b[39;49m\u001b[38;5;241;43m.\u001b[39;49m\u001b[43mlogger\u001b[49m\u001b[43m,\u001b[49m\n\u001b[1;32m    203\u001b[0m \u001b[43m        \u001b[49m\u001b[43mparams\u001b[49m\u001b[38;5;241;43m=\u001b[39;49m\u001b[43mparams\u001b[49m\u001b[43m,\u001b[49m\n\u001b[1;32m    204\u001b[0m \u001b[43m    \u001b[49m\u001b[43m)\u001b[49m\n\u001b[1;32m    206\u001b[0m     \u001b[38;5;66;03m# format results\u001b[39;00m\n\u001b[1;32m    207\u001b[0m     \u001b[38;5;28;01mif\u001b[39;00m \u001b[38;5;124m\"\u001b[39m\u001b[38;5;124mresult\u001b[39m\u001b[38;5;124m\"\u001b[39m \u001b[38;5;129;01min\u001b[39;00m response:\n\u001b[1;32m    208\u001b[0m         \u001b[38;5;66;03m# Null values for result should apply null_result_formatters\u001b[39;00m\n\u001b[1;32m    209\u001b[0m         \u001b[38;5;66;03m# Skip when result not present in the response (fallback to False)\u001b[39;00m\n",
      "File \u001b[0;32m~/projects/sugar-sdk/env/lib/python3.10/site-packages/web3/_utils/validation.py:401\u001b[0m, in \u001b[0;36mvalidate_rpc_response_and_raise_if_error\u001b[0;34m(response, error_formatters, is_subscription_response, logger, params)\u001b[0m\n\u001b[1;32m    398\u001b[0m     \u001b[38;5;28;01mif\u001b[39;00m logger \u001b[38;5;129;01mis\u001b[39;00m \u001b[38;5;129;01mnot\u001b[39;00m \u001b[38;5;28;01mNone\u001b[39;00m:\n\u001b[1;32m    399\u001b[0m         logger\u001b[38;5;241m.\u001b[39mdebug(\u001b[38;5;124mf\u001b[39m\u001b[38;5;124m\"\u001b[39m\u001b[38;5;124mRPC error response: \u001b[39m\u001b[38;5;132;01m{\u001b[39;00mresponse\u001b[38;5;132;01m}\u001b[39;00m\u001b[38;5;124m\"\u001b[39m)\n\u001b[0;32m--> 401\u001b[0m     \u001b[38;5;28;01mraise\u001b[39;00m web3_rpc_error\n\u001b[1;32m    403\u001b[0m \u001b[38;5;28;01melif\u001b[39;00m \u001b[38;5;124m\"\u001b[39m\u001b[38;5;124mresult\u001b[39m\u001b[38;5;124m\"\u001b[39m \u001b[38;5;129;01mnot\u001b[39;00m \u001b[38;5;129;01min\u001b[39;00m response \u001b[38;5;129;01mand\u001b[39;00m \u001b[38;5;129;01mnot\u001b[39;00m is_subscription_response:\n\u001b[1;32m    404\u001b[0m     _raise_bad_response_format(response)\n",
      "\u001b[0;31mWeb3RPCError\u001b[0m: {'code': -32603, 'message': 'failed to get storage for 0x41C914ee0c7E1A5edCD0295623e6dC557B5aBf3C at 23716608863816337723465323608686578564268057409016433012441080778824087594713: Max retries exceeded HTTP error 429 with body: {\"jsonrpc\":\"2.0\",\"error\":{\"code\":-32016,\"message\":\"Your IP has exceeded its requests per second capacity. Please consider using a dedicated API provider: https://community.optimism.io/docs/useful-tools/providers\"},\"id\":375}'}"
     ]
    }
   ],
   "source": [
    "# velo -> usdc\n",
    "async with AsyncOPChainSimnet() as op:\n",
    "    tokens = await op.get_all_tokens(listed_only=True)\n",
    "    def get_token_by_address(addr): return next(filter(lambda t: t.token_address == addr, tokens), None)\n",
    "    usdc, velo = get_token_by_address(normalize_address(\"0x0b2c639c533813f4aa9d7837caf62653d097ff85\")), get_token_by_address(normalize_address(\"0x9560e827af36c94d2ac33a39bce1fe78631088db\"))\n",
    "    print(await op.swap(from_token=velo, to_token=usdc, amount=5, slippage=0.01))"
   ]
  },
  {
   "cell_type": "markdown",
   "metadata": {},
   "source": [
    "Sync version of the swap"
   ]
  },
  {
   "cell_type": "code",
   "execution_count": null,
   "metadata": {},
   "outputs": [
    {
     "ename": "Web3RPCError",
     "evalue": "{'code': -32603, 'message': 'failed to get storage for 0x41C914ee0c7E1A5edCD0295623e6dC557B5aBf3C at 23716608863816337723465323608686578564268057409016433012441080778824087594713: Max retries exceeded HTTP error 429 with body: {\"jsonrpc\":\"2.0\",\"error\":{\"code\":-32016,\"message\":\"Your IP has exceeded its requests per second capacity. Please consider using a dedicated API provider: https://community.optimism.io/docs/useful-tools/providers\"},\"id\":375}'}",
     "output_type": "error",
     "traceback": [
      "\u001b[0;31m---------------------------------------------------------------------------\u001b[0m",
      "\u001b[0;31mWeb3RPCError\u001b[0m                              Traceback (most recent call last)",
      "Cell \u001b[0;32mIn[18], line 3\u001b[0m\n\u001b[1;32m      1\u001b[0m \u001b[38;5;66;03m# velo -> usdc\u001b[39;00m\n\u001b[1;32m      2\u001b[0m \u001b[38;5;28;01mwith\u001b[39;00m OPChainSimnet() \u001b[38;5;28;01mas\u001b[39;00m op:\n\u001b[0;32m----> 3\u001b[0m     tokens \u001b[38;5;241m=\u001b[39m \u001b[43mop\u001b[49m\u001b[38;5;241;43m.\u001b[39;49m\u001b[43mget_all_tokens\u001b[49m\u001b[43m(\u001b[49m\u001b[43mlisted_only\u001b[49m\u001b[38;5;241;43m=\u001b[39;49m\u001b[38;5;28;43;01mTrue\u001b[39;49;00m\u001b[43m)\u001b[49m\n\u001b[1;32m      4\u001b[0m     \u001b[38;5;28;01mdef\u001b[39;00m\u001b[38;5;250m \u001b[39m\u001b[38;5;21mget_token_by_address\u001b[39m(addr): \u001b[38;5;28;01mreturn\u001b[39;00m \u001b[38;5;28mnext\u001b[39m(\u001b[38;5;28mfilter\u001b[39m(\u001b[38;5;28;01mlambda\u001b[39;00m t: t\u001b[38;5;241m.\u001b[39mtoken_address \u001b[38;5;241m==\u001b[39m addr, tokens), \u001b[38;5;28;01mNone\u001b[39;00m)\n\u001b[1;32m      5\u001b[0m     usdc, velo \u001b[38;5;241m=\u001b[39m get_token_by_address(normalize_address(\u001b[38;5;124m\"\u001b[39m\u001b[38;5;124m0x0b2c639c533813f4aa9d7837caf62653d097ff85\u001b[39m\u001b[38;5;124m\"\u001b[39m)), get_token_by_address(normalize_address(\u001b[38;5;124m\"\u001b[39m\u001b[38;5;124m0x9560e827af36c94d2ac33a39bce1fe78631088db\u001b[39m\u001b[38;5;124m\"\u001b[39m))\n",
      "Cell \u001b[0;32mIn[5], line 9\u001b[0m, in \u001b[0;36mrequire_context.<locals>.wrapper\u001b[0;34m(self, *args, **kwargs)\u001b[0m\n\u001b[1;32m      6\u001b[0m \u001b[38;5;129m@wraps\u001b[39m(f)\n\u001b[1;32m      7\u001b[0m \u001b[38;5;28;01mdef\u001b[39;00m\u001b[38;5;250m \u001b[39m\u001b[38;5;21mwrapper\u001b[39m(\u001b[38;5;28mself\u001b[39m: \u001b[38;5;124m'\u001b[39m\u001b[38;5;124mCommonChain\u001b[39m\u001b[38;5;124m'\u001b[39m, \u001b[38;5;241m*\u001b[39margs, \u001b[38;5;241m*\u001b[39m\u001b[38;5;241m*\u001b[39mkwargs) \u001b[38;5;241m-\u001b[39m\u001b[38;5;241m>\u001b[39m T:\n\u001b[1;32m      8\u001b[0m     \u001b[38;5;28;01mif\u001b[39;00m \u001b[38;5;129;01mnot\u001b[39;00m \u001b[38;5;28mself\u001b[39m\u001b[38;5;241m.\u001b[39m_in_context: \u001b[38;5;28;01mraise\u001b[39;00m \u001b[38;5;167;01mRuntimeError\u001b[39;00m(\u001b[38;5;124m\"\u001b[39m\u001b[38;5;124mChain methods can only be accessed within \u001b[39m\u001b[38;5;124m'\u001b[39m\u001b[38;5;124masync with\u001b[39m\u001b[38;5;124m'\u001b[39m\u001b[38;5;124m block\u001b[39m\u001b[38;5;124m\"\u001b[39m)\n\u001b[0;32m----> 9\u001b[0m     \u001b[38;5;28;01mreturn\u001b[39;00m \u001b[43mf\u001b[49m\u001b[43m(\u001b[49m\u001b[38;5;28;43mself\u001b[39;49m\u001b[43m,\u001b[49m\u001b[43m \u001b[49m\u001b[38;5;241;43m*\u001b[39;49m\u001b[43margs\u001b[49m\u001b[43m,\u001b[49m\u001b[43m \u001b[49m\u001b[38;5;241;43m*\u001b[39;49m\u001b[38;5;241;43m*\u001b[39;49m\u001b[43mkwargs\u001b[49m\u001b[43m)\u001b[49m\n",
      "Cell \u001b[0;32mIn[7], line 44\u001b[0m, in \u001b[0;36mChain.get_all_tokens\u001b[0;34m(self, listed_only)\u001b[0m\n\u001b[1;32m     42\u001b[0m \u001b[38;5;129m@require_context\u001b[39m\n\u001b[1;32m     43\u001b[0m \u001b[38;5;28;01mdef\u001b[39;00m\u001b[38;5;250m \u001b[39m\u001b[38;5;21mget_all_tokens\u001b[39m(\u001b[38;5;28mself\u001b[39m, listed_only: \u001b[38;5;28mbool\u001b[39m \u001b[38;5;241m=\u001b[39m \u001b[38;5;28;01mTrue\u001b[39;00m) \u001b[38;5;241m-\u001b[39m\u001b[38;5;241m>\u001b[39m List[Token]:\n\u001b[0;32m---> 44\u001b[0m     \u001b[38;5;28;01mreturn\u001b[39;00m \u001b[38;5;28mself\u001b[39m\u001b[38;5;241m.\u001b[39mprepare_tokens(\u001b[38;5;28;43mself\u001b[39;49m\u001b[38;5;241;43m.\u001b[39;49m\u001b[43msugar\u001b[49m\u001b[38;5;241;43m.\u001b[39;49m\u001b[43mfunctions\u001b[49m\u001b[38;5;241;43m.\u001b[39;49m\u001b[43mtokens\u001b[49m\u001b[43m(\u001b[49m\u001b[38;5;241;43m800\u001b[39;49m\u001b[43m,\u001b[49m\u001b[43m \u001b[49m\u001b[38;5;241;43m0\u001b[39;49m\u001b[43m,\u001b[49m\u001b[43m \u001b[49m\u001b[43mADDRESS_ZERO\u001b[49m\u001b[43m,\u001b[49m\u001b[43m \u001b[49m\u001b[43m[\u001b[49m\u001b[43m]\u001b[49m\u001b[43m)\u001b[49m\u001b[38;5;241;43m.\u001b[39;49m\u001b[43mcall\u001b[49m\u001b[43m(\u001b[49m\u001b[43m)\u001b[49m, listed_only)\n",
      "File \u001b[0;32m~/projects/sugar-sdk/env/lib/python3.10/site-packages/web3/contract/contract.py:291\u001b[0m, in \u001b[0;36mContractFunction.call\u001b[0;34m(self, transaction, block_identifier, state_override, ccip_read_enabled)\u001b[0m\n\u001b[1;32m    287\u001b[0m block_id \u001b[38;5;241m=\u001b[39m parse_block_identifier(\u001b[38;5;28mself\u001b[39m\u001b[38;5;241m.\u001b[39mw3, block_identifier)\n\u001b[1;32m    289\u001b[0m abi_element_identifier \u001b[38;5;241m=\u001b[39m abi_to_signature(\u001b[38;5;28mself\u001b[39m\u001b[38;5;241m.\u001b[39mabi)\n\u001b[0;32m--> 291\u001b[0m \u001b[38;5;28;01mreturn\u001b[39;00m \u001b[43mcall_contract_function\u001b[49m\u001b[43m(\u001b[49m\n\u001b[1;32m    292\u001b[0m \u001b[43m    \u001b[49m\u001b[38;5;28;43mself\u001b[39;49m\u001b[38;5;241;43m.\u001b[39;49m\u001b[43mw3\u001b[49m\u001b[43m,\u001b[49m\n\u001b[1;32m    293\u001b[0m \u001b[43m    \u001b[49m\u001b[38;5;28;43mself\u001b[39;49m\u001b[38;5;241;43m.\u001b[39;49m\u001b[43maddress\u001b[49m\u001b[43m,\u001b[49m\n\u001b[1;32m    294\u001b[0m \u001b[43m    \u001b[49m\u001b[38;5;28;43mself\u001b[39;49m\u001b[38;5;241;43m.\u001b[39;49m\u001b[43m_return_data_normalizers\u001b[49m\u001b[43m,\u001b[49m\n\u001b[1;32m    295\u001b[0m \u001b[43m    \u001b[49m\u001b[43mabi_element_identifier\u001b[49m\u001b[43m,\u001b[49m\n\u001b[1;32m    296\u001b[0m \u001b[43m    \u001b[49m\u001b[43mcall_transaction\u001b[49m\u001b[43m,\u001b[49m\n\u001b[1;32m    297\u001b[0m \u001b[43m    \u001b[49m\u001b[43mblock_id\u001b[49m\u001b[43m,\u001b[49m\n\u001b[1;32m    298\u001b[0m \u001b[43m    \u001b[49m\u001b[38;5;28;43mself\u001b[39;49m\u001b[38;5;241;43m.\u001b[39;49m\u001b[43mcontract_abi\u001b[49m\u001b[43m,\u001b[49m\n\u001b[1;32m    299\u001b[0m \u001b[43m    \u001b[49m\u001b[38;5;28;43mself\u001b[39;49m\u001b[38;5;241;43m.\u001b[39;49m\u001b[43mabi\u001b[49m\u001b[43m,\u001b[49m\n\u001b[1;32m    300\u001b[0m \u001b[43m    \u001b[49m\u001b[43mstate_override\u001b[49m\u001b[43m,\u001b[49m\n\u001b[1;32m    301\u001b[0m \u001b[43m    \u001b[49m\u001b[43mccip_read_enabled\u001b[49m\u001b[43m,\u001b[49m\n\u001b[1;32m    302\u001b[0m \u001b[43m    \u001b[49m\u001b[38;5;28;43mself\u001b[39;49m\u001b[38;5;241;43m.\u001b[39;49m\u001b[43mdecode_tuples\u001b[49m\u001b[43m,\u001b[49m\n\u001b[1;32m    303\u001b[0m \u001b[43m    \u001b[49m\u001b[38;5;241;43m*\u001b[39;49m\u001b[38;5;28;43mself\u001b[39;49m\u001b[38;5;241;43m.\u001b[39;49m\u001b[43margs\u001b[49m\u001b[43m \u001b[49m\u001b[38;5;129;43;01mor\u001b[39;49;00m\u001b[43m \u001b[49m\u001b[43m(\u001b[49m\u001b[43m)\u001b[49m\u001b[43m,\u001b[49m\n\u001b[1;32m    304\u001b[0m \u001b[43m    \u001b[49m\u001b[38;5;241;43m*\u001b[39;49m\u001b[38;5;241;43m*\u001b[39;49m\u001b[38;5;28;43mself\u001b[39;49m\u001b[38;5;241;43m.\u001b[39;49m\u001b[43mkwargs\u001b[49m\u001b[43m \u001b[49m\u001b[38;5;129;43;01mor\u001b[39;49;00m\u001b[43m \u001b[49m\u001b[43m{\u001b[49m\u001b[43m}\u001b[49m\u001b[43m,\u001b[49m\n\u001b[1;32m    305\u001b[0m \u001b[43m\u001b[49m\u001b[43m)\u001b[49m\n",
      "File \u001b[0;32m~/projects/sugar-sdk/env/lib/python3.10/site-packages/web3/contract/utils.py:154\u001b[0m, in \u001b[0;36mcall_contract_function\u001b[0;34m(w3, address, normalizers, abi_element_identifier, transaction, block_id, contract_abi, abi_callable, state_override, ccip_read_enabled, decode_tuples, *args, **kwargs)\u001b[0m\n\u001b[1;32m    139\u001b[0m \u001b[38;5;250m\u001b[39m\u001b[38;5;124;03m\"\"\"\u001b[39;00m\n\u001b[1;32m    140\u001b[0m \u001b[38;5;124;03mHelper function for interacting with a contract function using the\u001b[39;00m\n\u001b[1;32m    141\u001b[0m \u001b[38;5;124;03m`eth_call` API.\u001b[39;00m\n\u001b[1;32m    142\u001b[0m \u001b[38;5;124;03m\"\"\"\u001b[39;00m\n\u001b[1;32m    143\u001b[0m call_transaction \u001b[38;5;241m=\u001b[39m prepare_transaction(\n\u001b[1;32m    144\u001b[0m     address,\n\u001b[1;32m    145\u001b[0m     w3,\n\u001b[0;32m   (...)\u001b[0m\n\u001b[1;32m    151\u001b[0m     fn_kwargs\u001b[38;5;241m=\u001b[39mkwargs,\n\u001b[1;32m    152\u001b[0m )\n\u001b[0;32m--> 154\u001b[0m return_data \u001b[38;5;241m=\u001b[39m \u001b[43mw3\u001b[49m\u001b[38;5;241;43m.\u001b[39;49m\u001b[43meth\u001b[49m\u001b[38;5;241;43m.\u001b[39;49m\u001b[43mcall\u001b[49m\u001b[43m(\u001b[49m\n\u001b[1;32m    155\u001b[0m \u001b[43m    \u001b[49m\u001b[43mcall_transaction\u001b[49m\u001b[43m,\u001b[49m\n\u001b[1;32m    156\u001b[0m \u001b[43m    \u001b[49m\u001b[43mblock_identifier\u001b[49m\u001b[38;5;241;43m=\u001b[39;49m\u001b[43mblock_id\u001b[49m\u001b[43m,\u001b[49m\n\u001b[1;32m    157\u001b[0m \u001b[43m    \u001b[49m\u001b[43mstate_override\u001b[49m\u001b[38;5;241;43m=\u001b[39;49m\u001b[43mstate_override\u001b[49m\u001b[43m,\u001b[49m\n\u001b[1;32m    158\u001b[0m \u001b[43m    \u001b[49m\u001b[43mccip_read_enabled\u001b[49m\u001b[38;5;241;43m=\u001b[39;49m\u001b[43mccip_read_enabled\u001b[49m\u001b[43m,\u001b[49m\n\u001b[1;32m    159\u001b[0m \u001b[43m\u001b[49m\u001b[43m)\u001b[49m\n\u001b[1;32m    161\u001b[0m \u001b[38;5;28;01mif\u001b[39;00m abi_callable \u001b[38;5;129;01mis\u001b[39;00m \u001b[38;5;28;01mNone\u001b[39;00m:\n\u001b[1;32m    162\u001b[0m     abi_callable \u001b[38;5;241m=\u001b[39m cast(\n\u001b[1;32m    163\u001b[0m         ABIFunction,\n\u001b[1;32m    164\u001b[0m         get_abi_element(\n\u001b[0;32m   (...)\u001b[0m\n\u001b[1;32m    170\u001b[0m         ),\n\u001b[1;32m    171\u001b[0m     )\n",
      "File \u001b[0;32m~/projects/sugar-sdk/env/lib/python3.10/site-packages/web3/eth/eth.py:246\u001b[0m, in \u001b[0;36mEth.call\u001b[0;34m(self, transaction, block_identifier, state_override, ccip_read_enabled)\u001b[0m\n\u001b[1;32m    236\u001b[0m ccip_read_enabled_on_provider \u001b[38;5;241m=\u001b[39m \u001b[38;5;28mself\u001b[39m\u001b[38;5;241m.\u001b[39mw3\u001b[38;5;241m.\u001b[39mprovider\u001b[38;5;241m.\u001b[39mglobal_ccip_read_enabled\n\u001b[1;32m    237\u001b[0m \u001b[38;5;28;01mif\u001b[39;00m (\n\u001b[1;32m    238\u001b[0m     \u001b[38;5;66;03m# default conditions:\u001b[39;00m\n\u001b[1;32m    239\u001b[0m     ccip_read_enabled_on_provider\n\u001b[0;32m   (...)\u001b[0m\n\u001b[1;32m    244\u001b[0m     \u001b[38;5;129;01mand\u001b[39;00m ccip_read_enabled \u001b[38;5;129;01mis\u001b[39;00m \u001b[38;5;28;01mTrue\u001b[39;00m\n\u001b[1;32m    245\u001b[0m ):\n\u001b[0;32m--> 246\u001b[0m     \u001b[38;5;28;01mreturn\u001b[39;00m \u001b[38;5;28;43mself\u001b[39;49m\u001b[38;5;241;43m.\u001b[39;49m\u001b[43m_durin_call\u001b[49m\u001b[43m(\u001b[49m\u001b[43mtransaction\u001b[49m\u001b[43m,\u001b[49m\u001b[43m \u001b[49m\u001b[43mblock_identifier\u001b[49m\u001b[43m,\u001b[49m\u001b[43m \u001b[49m\u001b[43mstate_override\u001b[49m\u001b[43m)\u001b[49m\n\u001b[1;32m    248\u001b[0m \u001b[38;5;28;01mreturn\u001b[39;00m \u001b[38;5;28mself\u001b[39m\u001b[38;5;241m.\u001b[39m_call(transaction, block_identifier, state_override)\n",
      "File \u001b[0;32m~/projects/sugar-sdk/env/lib/python3.10/site-packages/web3/eth/eth.py:265\u001b[0m, in \u001b[0;36mEth._durin_call\u001b[0;34m(self, transaction, block_identifier, state_override)\u001b[0m\n\u001b[1;32m    263\u001b[0m \u001b[38;5;28;01mfor\u001b[39;00m _ \u001b[38;5;129;01min\u001b[39;00m \u001b[38;5;28mrange\u001b[39m(max_redirects):\n\u001b[1;32m    264\u001b[0m     \u001b[38;5;28;01mtry\u001b[39;00m:\n\u001b[0;32m--> 265\u001b[0m         \u001b[38;5;28;01mreturn\u001b[39;00m \u001b[38;5;28;43mself\u001b[39;49m\u001b[38;5;241;43m.\u001b[39;49m\u001b[43m_call\u001b[49m\u001b[43m(\u001b[49m\u001b[43mtransaction\u001b[49m\u001b[43m,\u001b[49m\u001b[43m \u001b[49m\u001b[43mblock_identifier\u001b[49m\u001b[43m,\u001b[49m\u001b[43m \u001b[49m\u001b[43mstate_override\u001b[49m\u001b[43m)\u001b[49m\n\u001b[1;32m    266\u001b[0m     \u001b[38;5;28;01mexcept\u001b[39;00m OffchainLookup \u001b[38;5;28;01mas\u001b[39;00m offchain_lookup:\n\u001b[1;32m    267\u001b[0m         durin_calldata \u001b[38;5;241m=\u001b[39m handle_offchain_lookup(\n\u001b[1;32m    268\u001b[0m             offchain_lookup\u001b[38;5;241m.\u001b[39mpayload,\n\u001b[1;32m    269\u001b[0m             transaction,\n\u001b[1;32m    270\u001b[0m         )\n",
      "File \u001b[0;32m~/projects/sugar-sdk/env/lib/python3.10/site-packages/web3/module.py:112\u001b[0m, in \u001b[0;36mretrieve_blocking_method_call_fn.<locals>.caller\u001b[0;34m(*args, **kwargs)\u001b[0m\n\u001b[1;32m    105\u001b[0m     \u001b[38;5;28;01mreturn\u001b[39;00m LogFilter(eth_module\u001b[38;5;241m=\u001b[39mmodule, filter_id\u001b[38;5;241m=\u001b[39merr\u001b[38;5;241m.\u001b[39mfilter_id)\n\u001b[1;32m    107\u001b[0m (\n\u001b[1;32m    108\u001b[0m     result_formatters,\n\u001b[1;32m    109\u001b[0m     error_formatters,\n\u001b[1;32m    110\u001b[0m     null_result_formatters,\n\u001b[1;32m    111\u001b[0m ) \u001b[38;5;241m=\u001b[39m response_formatters\n\u001b[0;32m--> 112\u001b[0m result \u001b[38;5;241m=\u001b[39m \u001b[43mw3\u001b[49m\u001b[38;5;241;43m.\u001b[39;49m\u001b[43mmanager\u001b[49m\u001b[38;5;241;43m.\u001b[39;49m\u001b[43mrequest_blocking\u001b[49m\u001b[43m(\u001b[49m\n\u001b[1;32m    113\u001b[0m \u001b[43m    \u001b[49m\u001b[43mmethod_str\u001b[49m\u001b[43m,\u001b[49m\u001b[43m \u001b[49m\u001b[43mparams\u001b[49m\u001b[43m,\u001b[49m\u001b[43m \u001b[49m\u001b[43merror_formatters\u001b[49m\u001b[43m,\u001b[49m\u001b[43m \u001b[49m\u001b[43mnull_result_formatters\u001b[49m\n\u001b[1;32m    114\u001b[0m \u001b[43m\u001b[49m\u001b[43m)\u001b[49m\n\u001b[1;32m    115\u001b[0m \u001b[38;5;28;01mreturn\u001b[39;00m apply_result_formatters(result_formatters, result)\n",
      "File \u001b[0;32m~/projects/sugar-sdk/env/lib/python3.10/site-packages/web3/manager.py:232\u001b[0m, in \u001b[0;36mRequestManager.request_blocking\u001b[0;34m(self, method, params, error_formatters, null_result_formatters)\u001b[0m\n\u001b[1;32m    228\u001b[0m \u001b[38;5;250m\u001b[39m\u001b[38;5;124;03m\"\"\"\u001b[39;00m\n\u001b[1;32m    229\u001b[0m \u001b[38;5;124;03mMake a synchronous request using the provider\u001b[39;00m\n\u001b[1;32m    230\u001b[0m \u001b[38;5;124;03m\"\"\"\u001b[39;00m\n\u001b[1;32m    231\u001b[0m response \u001b[38;5;241m=\u001b[39m \u001b[38;5;28mself\u001b[39m\u001b[38;5;241m.\u001b[39m_make_request(method, params)\n\u001b[0;32m--> 232\u001b[0m \u001b[38;5;28;01mreturn\u001b[39;00m \u001b[38;5;28;43mself\u001b[39;49m\u001b[38;5;241;43m.\u001b[39;49m\u001b[43mformatted_response\u001b[49m\u001b[43m(\u001b[49m\n\u001b[1;32m    233\u001b[0m \u001b[43m    \u001b[49m\u001b[43mresponse\u001b[49m\u001b[43m,\u001b[49m\u001b[43m \u001b[49m\u001b[43mparams\u001b[49m\u001b[43m,\u001b[49m\u001b[43m \u001b[49m\u001b[43merror_formatters\u001b[49m\u001b[43m,\u001b[49m\u001b[43m \u001b[49m\u001b[43mnull_result_formatters\u001b[49m\n\u001b[1;32m    234\u001b[0m \u001b[43m\u001b[49m\u001b[43m)\u001b[49m\n",
      "File \u001b[0;32m~/projects/sugar-sdk/env/lib/python3.10/site-packages/web3/manager.py:198\u001b[0m, in \u001b[0;36mRequestManager.formatted_response\u001b[0;34m(self, response, params, error_formatters, null_result_formatters)\u001b[0m\n\u001b[1;32m    184\u001b[0m \u001b[38;5;28;01mdef\u001b[39;00m\u001b[38;5;250m \u001b[39m\u001b[38;5;21mformatted_response\u001b[39m(\n\u001b[1;32m    185\u001b[0m     \u001b[38;5;28mself\u001b[39m,\n\u001b[1;32m    186\u001b[0m     response: RPCResponse,\n\u001b[0;32m   (...)\u001b[0m\n\u001b[1;32m    189\u001b[0m     null_result_formatters: Optional[Callable[\u001b[38;5;241m.\u001b[39m\u001b[38;5;241m.\u001b[39m\u001b[38;5;241m.\u001b[39m, Any]] \u001b[38;5;241m=\u001b[39m \u001b[38;5;28;01mNone\u001b[39;00m,\n\u001b[1;32m    190\u001b[0m ) \u001b[38;5;241m-\u001b[39m\u001b[38;5;241m>\u001b[39m Any:\n\u001b[1;32m    191\u001b[0m     is_subscription_response \u001b[38;5;241m=\u001b[39m (\n\u001b[1;32m    192\u001b[0m         response\u001b[38;5;241m.\u001b[39mget(\u001b[38;5;124m\"\u001b[39m\u001b[38;5;124mmethod\u001b[39m\u001b[38;5;124m\"\u001b[39m) \u001b[38;5;241m==\u001b[39m \u001b[38;5;124m\"\u001b[39m\u001b[38;5;124meth_subscription\u001b[39m\u001b[38;5;124m\"\u001b[39m\n\u001b[1;32m    193\u001b[0m         \u001b[38;5;129;01mand\u001b[39;00m response\u001b[38;5;241m.\u001b[39mget(\u001b[38;5;124m\"\u001b[39m\u001b[38;5;124mparams\u001b[39m\u001b[38;5;124m\"\u001b[39m) \u001b[38;5;129;01mis\u001b[39;00m \u001b[38;5;129;01mnot\u001b[39;00m \u001b[38;5;28;01mNone\u001b[39;00m\n\u001b[1;32m    194\u001b[0m         \u001b[38;5;129;01mand\u001b[39;00m response[\u001b[38;5;124m\"\u001b[39m\u001b[38;5;124mparams\u001b[39m\u001b[38;5;124m\"\u001b[39m]\u001b[38;5;241m.\u001b[39mget(\u001b[38;5;124m\"\u001b[39m\u001b[38;5;124msubscription\u001b[39m\u001b[38;5;124m\"\u001b[39m) \u001b[38;5;129;01mis\u001b[39;00m \u001b[38;5;129;01mnot\u001b[39;00m \u001b[38;5;28;01mNone\u001b[39;00m\n\u001b[1;32m    195\u001b[0m         \u001b[38;5;129;01mand\u001b[39;00m response[\u001b[38;5;124m\"\u001b[39m\u001b[38;5;124mparams\u001b[39m\u001b[38;5;124m\"\u001b[39m]\u001b[38;5;241m.\u001b[39mget(\u001b[38;5;124m\"\u001b[39m\u001b[38;5;124mresult\u001b[39m\u001b[38;5;124m\"\u001b[39m) \u001b[38;5;129;01mis\u001b[39;00m \u001b[38;5;129;01mnot\u001b[39;00m \u001b[38;5;28;01mNone\u001b[39;00m\n\u001b[1;32m    196\u001b[0m     )\n\u001b[0;32m--> 198\u001b[0m     \u001b[43mvalidate_rpc_response_and_raise_if_error\u001b[49m\u001b[43m(\u001b[49m\n\u001b[1;32m    199\u001b[0m \u001b[43m        \u001b[49m\u001b[43mresponse\u001b[49m\u001b[43m,\u001b[49m\n\u001b[1;32m    200\u001b[0m \u001b[43m        \u001b[49m\u001b[43merror_formatters\u001b[49m\u001b[43m,\u001b[49m\n\u001b[1;32m    201\u001b[0m \u001b[43m        \u001b[49m\u001b[43mis_subscription_response\u001b[49m\u001b[38;5;241;43m=\u001b[39;49m\u001b[43mis_subscription_response\u001b[49m\u001b[43m,\u001b[49m\n\u001b[1;32m    202\u001b[0m \u001b[43m        \u001b[49m\u001b[43mlogger\u001b[49m\u001b[38;5;241;43m=\u001b[39;49m\u001b[38;5;28;43mself\u001b[39;49m\u001b[38;5;241;43m.\u001b[39;49m\u001b[43mlogger\u001b[49m\u001b[43m,\u001b[49m\n\u001b[1;32m    203\u001b[0m \u001b[43m        \u001b[49m\u001b[43mparams\u001b[49m\u001b[38;5;241;43m=\u001b[39;49m\u001b[43mparams\u001b[49m\u001b[43m,\u001b[49m\n\u001b[1;32m    204\u001b[0m \u001b[43m    \u001b[49m\u001b[43m)\u001b[49m\n\u001b[1;32m    206\u001b[0m     \u001b[38;5;66;03m# format results\u001b[39;00m\n\u001b[1;32m    207\u001b[0m     \u001b[38;5;28;01mif\u001b[39;00m \u001b[38;5;124m\"\u001b[39m\u001b[38;5;124mresult\u001b[39m\u001b[38;5;124m\"\u001b[39m \u001b[38;5;129;01min\u001b[39;00m response:\n\u001b[1;32m    208\u001b[0m         \u001b[38;5;66;03m# Null values for result should apply null_result_formatters\u001b[39;00m\n\u001b[1;32m    209\u001b[0m         \u001b[38;5;66;03m# Skip when result not present in the response (fallback to False)\u001b[39;00m\n",
      "File \u001b[0;32m~/projects/sugar-sdk/env/lib/python3.10/site-packages/web3/_utils/validation.py:401\u001b[0m, in \u001b[0;36mvalidate_rpc_response_and_raise_if_error\u001b[0;34m(response, error_formatters, is_subscription_response, logger, params)\u001b[0m\n\u001b[1;32m    398\u001b[0m     \u001b[38;5;28;01mif\u001b[39;00m logger \u001b[38;5;129;01mis\u001b[39;00m \u001b[38;5;129;01mnot\u001b[39;00m \u001b[38;5;28;01mNone\u001b[39;00m:\n\u001b[1;32m    399\u001b[0m         logger\u001b[38;5;241m.\u001b[39mdebug(\u001b[38;5;124mf\u001b[39m\u001b[38;5;124m\"\u001b[39m\u001b[38;5;124mRPC error response: \u001b[39m\u001b[38;5;132;01m{\u001b[39;00mresponse\u001b[38;5;132;01m}\u001b[39;00m\u001b[38;5;124m\"\u001b[39m)\n\u001b[0;32m--> 401\u001b[0m     \u001b[38;5;28;01mraise\u001b[39;00m web3_rpc_error\n\u001b[1;32m    403\u001b[0m \u001b[38;5;28;01melif\u001b[39;00m \u001b[38;5;124m\"\u001b[39m\u001b[38;5;124mresult\u001b[39m\u001b[38;5;124m\"\u001b[39m \u001b[38;5;129;01mnot\u001b[39;00m \u001b[38;5;129;01min\u001b[39;00m response \u001b[38;5;129;01mand\u001b[39;00m \u001b[38;5;129;01mnot\u001b[39;00m is_subscription_response:\n\u001b[1;32m    404\u001b[0m     _raise_bad_response_format(response)\n",
      "\u001b[0;31mWeb3RPCError\u001b[0m: {'code': -32603, 'message': 'failed to get storage for 0x41C914ee0c7E1A5edCD0295623e6dC557B5aBf3C at 23716608863816337723465323608686578564268057409016433012441080778824087594713: Max retries exceeded HTTP error 429 with body: {\"jsonrpc\":\"2.0\",\"error\":{\"code\":-32016,\"message\":\"Your IP has exceeded its requests per second capacity. Please consider using a dedicated API provider: https://community.optimism.io/docs/useful-tools/providers\"},\"id\":375}'}"
     ]
    }
   ],
   "source": [
    "# velo -> usdc\n",
    "with OPChainSimnet() as op:\n",
    "    tokens = op.get_all_tokens(listed_only=True)\n",
    "    def get_token_by_address(addr): return next(filter(lambda t: t.token_address == addr, tokens), None)\n",
    "    usdc, velo = get_token_by_address(normalize_address(\"0x0b2c639c533813f4aa9d7837caf62653d097ff85\")), get_token_by_address(normalize_address(\"0x9560e827af36c94d2ac33a39bce1fe78631088db\"))\n",
    "    print(op.swap(velo, usdc, 1, slippage=0.01))"
   ]
  },
  {
   "cell_type": "markdown",
   "metadata": {},
   "source": [
    "Let's make sure sync VS async quote return consistent results"
   ]
  },
  {
   "cell_type": "code",
   "execution_count": null,
   "metadata": {},
   "outputs": [],
   "source": [
    "# velo -> usdc\n",
    "\n",
    "async with AsyncOPChainSimnet() as op:\n",
    "    tokens = await op.get_all_tokens(listed_only=True)\n",
    "    def get_token_by_address(addr): return next(filter(lambda t: t.token_address == addr, tokens), None)\n",
    "    usdc, velo = get_token_by_address(normalize_address(\"0x0b2c639c533813f4aa9d7837caf62653d097ff85\")), get_token_by_address(normalize_address(\"0x9560e827af36c94d2ac33a39bce1fe78631088db\"))\n",
    "    q1 = await op.get_quote(from_token=velo, to_token=usdc, amount_in=1)\n",
    "    amount_out1 = q1.amount_out / 10 ** usdc.decimals\n",
    "\n",
    "\n",
    "with OPChainSimnet() as op:\n",
    "    tokens = op.get_all_tokens(listed_only=True)\n",
    "    def get_token_by_address(addr): return next(filter(lambda t: t.token_address == addr, tokens), None)\n",
    "    usdc, velo = get_token_by_address(normalize_address(\"0x0b2c639c533813f4aa9d7837caf62653d097ff85\")), get_token_by_address(normalize_address(\"0x9560e827af36c94d2ac33a39bce1fe78631088db\"))\n",
    "    q2 = op.get_quote(from_token=velo, to_token=usdc, amount_in=1)\n",
    "    amount_out2 = q2.amount_out / 10 ** usdc.decimals\n",
    "\n",
    "test_close(amount_out1, amount_out2, 0.001)"
   ]
  },
  {
   "cell_type": "code",
   "execution_count": null,
   "metadata": {},
   "outputs": [
    {
     "name": "stdout",
     "output_type": "stream",
     "text": [
      "AttributeDict({'blockHash': HexBytes('0x63fcf042e32d150d0ab4e1a671989ee9e7d30dbbc99d166ef04fa0a09e35428b'), 'blockNumber': 134395918, 'contractAddress': None, 'cumulativeGasUsed': 2954942, 'effectiveGasPrice': 2146688, 'from': '0x1e7A6B63F98484514610A9F0D5b399d4F7a9b1dA', 'gasUsed': 364938, 'l1BaseFeeScalar': '0x146b', 'l1BlobBaseFee': '0x22a07abf', 'l1BlobBaseFeeScalar': '0xf79c5', 'l1Fee': '0x2f1d61406d', 'l1GasPrice': '0x912ea67a', 'l1GasUsed': '0xff3', 'logs': [AttributeDict({'address': '0x0b2C639c533813f4Aa9D7837CAf62653d097Ff85', 'topics': [HexBytes('0xddf252ad1be2c89b69c2b068fc378daa952ba7f163c4a11628f55a4df523b3ef'), HexBytes('0x0000000000000000000000007cfc2da3ba598ef4de692905fedca32565ab836e'), HexBytes('0x000000000000000000000000f4f2657ae744354baca871e56775e5083f7276ab')], 'data': HexBytes('0x000000000000000000000000000000000000000000000000000000000006c9c5'), 'blockNumber': 134395918, 'transactionHash': HexBytes('0x0d6e9cfae43d4809140725e39586fb8dbac56c5f302d153ad2772f9de57dbec0'), 'transactionIndex': 8, 'blockHash': HexBytes('0x63fcf042e32d150d0ab4e1a671989ee9e7d30dbbc99d166ef04fa0a09e35428b'), 'logIndex': 11, 'removed': False}), AttributeDict({'address': '0x9560e827aF36c94D2Ac33a39bCE1Fe78631088Db', 'topics': [HexBytes('0x8c5be1e5ebec7d5bd14f71427d1e84f3dd0314c0f7b2291e5b200ac8c7c3b925'), HexBytes('0x0000000000000000000000001e7a6b63f98484514610a9f0d5b399d4f7a9b1da'), HexBytes('0x0000000000000000000000004bf3e32de155359d1d75e8b474b66848221142fc')], 'data': HexBytes('0x0000000000000000000000000000000000000000000000000000000000000000'), 'blockNumber': 134395918, 'transactionHash': HexBytes('0x0d6e9cfae43d4809140725e39586fb8dbac56c5f302d153ad2772f9de57dbec0'), 'transactionIndex': 8, 'blockHash': HexBytes('0x63fcf042e32d150d0ab4e1a671989ee9e7d30dbbc99d166ef04fa0a09e35428b'), 'logIndex': 12, 'removed': False}), AttributeDict({'address': '0x9560e827aF36c94D2Ac33a39bCE1Fe78631088Db', 'topics': [HexBytes('0xddf252ad1be2c89b69c2b068fc378daa952ba7f163c4a11628f55a4df523b3ef'), HexBytes('0x0000000000000000000000001e7a6b63f98484514610a9f0d5b399d4f7a9b1da'), HexBytes('0x0000000000000000000000007cfc2da3ba598ef4de692905fedca32565ab836e')], 'data': HexBytes('0x0000000000000000000000000000000000000000000000008ac7230489e80000'), 'blockNumber': 134395918, 'transactionHash': HexBytes('0x0d6e9cfae43d4809140725e39586fb8dbac56c5f302d153ad2772f9de57dbec0'), 'transactionIndex': 8, 'blockHash': HexBytes('0x63fcf042e32d150d0ab4e1a671989ee9e7d30dbbc99d166ef04fa0a09e35428b'), 'logIndex': 13, 'removed': False}), AttributeDict({'address': '0x7cfc2Da3ba598ef4De692905feDcA32565AB836E', 'topics': [HexBytes('0xc42079f94a6350d7e6235f29174924f928cc2ac818eb64fed8004e115fbcca67'), HexBytes('0x0000000000000000000000004bf3e32de155359d1d75e8b474b66848221142fc'), HexBytes('0x000000000000000000000000f4f2657ae744354baca871e56775e5083f7276ab')], 'data': HexBytes('0xfffffffffffffffffffffffffffffffffffffffffffffffffffffffffff9363b0000000000000000000000000000000000000000000000008ac7230489e800000000000000000000000000000000000000483adfe539b1bbe114176b55a7cd740000000000000000000000000000000000000000000000012f202a5b3d033fe6000000000000000000000000000000000000000000000000000000000004b0db'), 'blockNumber': 134395918, 'transactionHash': HexBytes('0x0d6e9cfae43d4809140725e39586fb8dbac56c5f302d153ad2772f9de57dbec0'), 'transactionIndex': 8, 'blockHash': HexBytes('0x63fcf042e32d150d0ab4e1a671989ee9e7d30dbbc99d166ef04fa0a09e35428b'), 'logIndex': 14, 'removed': False}), AttributeDict({'address': '0x4200000000000000000000000000000000000006', 'topics': [HexBytes('0xddf252ad1be2c89b69c2b068fc378daa952ba7f163c4a11628f55a4df523b3ef'), HexBytes('0x000000000000000000000000f4f2657ae744354baca871e56775e5083f7276ab'), HexBytes('0x0000000000000000000000004bf3e32de155359d1d75e8b474b66848221142fc')], 'data': HexBytes('0x000000000000000000000000000000000000000000000000000102271238abab'), 'blockNumber': 134395918, 'transactionHash': HexBytes('0x0d6e9cfae43d4809140725e39586fb8dbac56c5f302d153ad2772f9de57dbec0'), 'transactionIndex': 8, 'blockHash': HexBytes('0x63fcf042e32d150d0ab4e1a671989ee9e7d30dbbc99d166ef04fa0a09e35428b'), 'logIndex': 15, 'removed': False}), AttributeDict({'address': '0x0b2C639c533813f4Aa9D7837CAf62653d097Ff85', 'topics': [HexBytes('0xddf252ad1be2c89b69c2b068fc378daa952ba7f163c4a11628f55a4df523b3ef'), HexBytes('0x000000000000000000000000f4f2657ae744354baca871e56775e5083f7276ab'), HexBytes('0x0000000000000000000000009a31922b6e38f911aa91fadab5ddca9e01af1a7a')], 'data': HexBytes('0x0000000000000000000000000000000000000000000000000000000000000536'), 'blockNumber': 134395918, 'transactionHash': HexBytes('0x0d6e9cfae43d4809140725e39586fb8dbac56c5f302d153ad2772f9de57dbec0'), 'transactionIndex': 8, 'blockHash': HexBytes('0x63fcf042e32d150d0ab4e1a671989ee9e7d30dbbc99d166ef04fa0a09e35428b'), 'logIndex': 16, 'removed': False}), AttributeDict({'address': '0xF4F2657AE744354bAcA871E56775e5083F7276Ab', 'topics': [HexBytes('0x112c256902bf554b6ed882d2936687aaeb4225e8cd5b51303c90ca6cf43a8602'), HexBytes('0x0000000000000000000000004bf3e32de155359d1d75e8b474b66848221142fc')], 'data': HexBytes('0x00000000000000000000000000000000000000000000000000000000000005360000000000000000000000000000000000000000000000000000000000000000'), 'blockNumber': 134395918, 'transactionHash': HexBytes('0x0d6e9cfae43d4809140725e39586fb8dbac56c5f302d153ad2772f9de57dbec0'), 'transactionIndex': 8, 'blockHash': HexBytes('0x63fcf042e32d150d0ab4e1a671989ee9e7d30dbbc99d166ef04fa0a09e35428b'), 'logIndex': 17, 'removed': False}), AttributeDict({'address': '0xF4F2657AE744354bAcA871E56775e5083F7276Ab', 'topics': [HexBytes('0xcf2aa50876cdfbb541206f89af0ee78d44a2abf8d328e37fa4917f982149848a')], 'data': HexBytes('0x000000000000000000000000000000000000000000000000000000015efbcbdd000000000000000000000000000000000000000000000000344afb3d16a5a6f4'), 'blockNumber': 134395918, 'transactionHash': HexBytes('0x0d6e9cfae43d4809140725e39586fb8dbac56c5f302d153ad2772f9de57dbec0'), 'transactionIndex': 8, 'blockHash': HexBytes('0x63fcf042e32d150d0ab4e1a671989ee9e7d30dbbc99d166ef04fa0a09e35428b'), 'logIndex': 18, 'removed': False}), AttributeDict({'address': '0xF4F2657AE744354bAcA871E56775e5083F7276Ab', 'topics': [HexBytes('0xb3e2773606abfd36b5bd91394b3a54d1398336c65005baf7bf7a05efeffaf75b'), HexBytes('0x0000000000000000000000004bf3e32de155359d1d75e8b474b66848221142fc'), HexBytes('0x0000000000000000000000004bf3e32de155359d1d75e8b474b66848221142fc')], 'data': HexBytes('0x000000000000000000000000000000000000000000000000000000000006c9c500000000000000000000000000000000000000000000000000000000000000000000000000000000000000000000000000000000000000000000000000000000000000000000000000000000000000000000000000000000000102271238abab'), 'blockNumber': 134395918, 'transactionHash': HexBytes('0x0d6e9cfae43d4809140725e39586fb8dbac56c5f302d153ad2772f9de57dbec0'), 'transactionIndex': 8, 'blockHash': HexBytes('0x63fcf042e32d150d0ab4e1a671989ee9e7d30dbbc99d166ef04fa0a09e35428b'), 'logIndex': 19, 'removed': False}), AttributeDict({'address': '0x4200000000000000000000000000000000000006', 'topics': [HexBytes('0x7fcf532c15f0a6db0bd6d0e038bea71d30d808c7d98cb3bf7268a95bf5081b65'), HexBytes('0x0000000000000000000000004bf3e32de155359d1d75e8b474b66848221142fc')], 'data': HexBytes('0x000000000000000000000000000000000000000000000000000102271238abab'), 'blockNumber': 134395918, 'transactionHash': HexBytes('0x0d6e9cfae43d4809140725e39586fb8dbac56c5f302d153ad2772f9de57dbec0'), 'transactionIndex': 8, 'blockHash': HexBytes('0x63fcf042e32d150d0ab4e1a671989ee9e7d30dbbc99d166ef04fa0a09e35428b'), 'logIndex': 20, 'removed': False})], 'logsBloom': HexBytes('0x0000200800000000000000000000002000000008000000000104000040000000040000002000000000000010000000000000000000002000000000000020000000000000000000080000000800010000008000000040000000000000000000000800020000040000040000000000000004000000000024000000001000080000000020000000000000020200000000000000100000200000000000000200000002080000000000000000000000000000000000001000000000000000000000000000004208008000800000040000000000040000008002000000000a000000000010000100000000000000000000030000000000000000000000000000100000'), 'status': 1, 'to': '0x4bF3E32de155359D1D75e8B474b66848221142fc', 'transactionHash': HexBytes('0x0d6e9cfae43d4809140725e39586fb8dbac56c5f302d153ad2772f9de57dbec0'), 'transactionIndex': 8, 'type': 2})\n"
     ]
    }
   ],
   "source": [
    "# velo -> eth\n",
    "async with AsyncOPChainSimnet() as op:\n",
    "    tokens = await op.get_all_tokens(listed_only=True)\n",
    "    def get_token_by_address(addr): return next(filter(lambda t: t.token_address == addr, tokens), None)\n",
    "    velo = get_token_by_address(normalize_address(\"0x9560e827af36c94d2ac33a39bce1fe78631088db\"))\n",
    "    eth = get_token_by_address(\"ETH\")\n",
    "    quote = await op.get_quote(velo, eth, 10)\n",
    "    print(await op.swap_from_quote(quote))"
   ]
  },
  {
   "cell_type": "code",
   "execution_count": null,
   "metadata": {},
   "outputs": [
    {
     "name": "stdout",
     "output_type": "stream",
     "text": [
      "AttributeDict({'blockHash': HexBytes('0x9150012436df10e0d9f492a15acd3a399a2a40967f1a962d628efa799da22e6a'), 'blockNumber': 134395924, 'contractAddress': None, 'cumulativeGasUsed': 2882889, 'effectiveGasPrice': 2143981, 'from': '0x1e7A6B63F98484514610A9F0D5b399d4F7a9b1dA', 'gasUsed': 460781, 'l1BaseFeeScalar': '0x146b', 'l1BlobBaseFee': '0x25749808', 'l1BlobBaseFeeScalar': '0xf79c5', 'l1Fee': '0x37778230fa', 'l1GasPrice': '0x9059926b', 'l1GasUsed': '0x11ba', 'logs': [AttributeDict({'address': '0x4200000000000000000000000000000000000006', 'topics': [HexBytes('0xe1fffcc4923d04b559f4d29a8bfc6cda04eb5b0d3c460751c2402c5c5cc9109c'), HexBytes('0x0000000000000000000000004bf3e32de155359d1d75e8b474b66848221142fc')], 'data': HexBytes('0x00000000000000000000000000000000000000000000000000038d7ea4c68000'), 'blockNumber': 134395924, 'transactionHash': HexBytes('0x4f53cf7b91502f7e8bbf30100742a5a9e527514264d606fd35221bcdd4309e6d'), 'transactionIndex': 10, 'blockHash': HexBytes('0x9150012436df10e0d9f492a15acd3a399a2a40967f1a962d628efa799da22e6a'), 'logIndex': 15, 'removed': False}), AttributeDict({'address': '0x1F32b1c2345538c0c6f582fCB022739c4A194Ebb', 'topics': [HexBytes('0xddf252ad1be2c89b69c2b068fc378daa952ba7f163c4a11628f55a4df523b3ef'), HexBytes('0x000000000000000000000000bf30ff33cf9c6b0c48702ff17891293b002dfea4'), HexBytes('0x000000000000000000000000dad7b4c48b5b0be1159c674226be19038814ebf6')], 'data': HexBytes('0x0000000000000000000000000000000000000000000000000002f8562e3c8264'), 'blockNumber': 134395924, 'transactionHash': HexBytes('0x4f53cf7b91502f7e8bbf30100742a5a9e527514264d606fd35221bcdd4309e6d'), 'transactionIndex': 10, 'blockHash': HexBytes('0x9150012436df10e0d9f492a15acd3a399a2a40967f1a962d628efa799da22e6a'), 'logIndex': 16, 'removed': False}), AttributeDict({'address': '0x4200000000000000000000000000000000000006', 'topics': [HexBytes('0xddf252ad1be2c89b69c2b068fc378daa952ba7f163c4a11628f55a4df523b3ef'), HexBytes('0x0000000000000000000000004bf3e32de155359d1d75e8b474b66848221142fc'), HexBytes('0x000000000000000000000000bf30ff33cf9c6b0c48702ff17891293b002dfea4')], 'data': HexBytes('0x00000000000000000000000000000000000000000000000000038d7ea4c68000'), 'blockNumber': 134395924, 'transactionHash': HexBytes('0x4f53cf7b91502f7e8bbf30100742a5a9e527514264d606fd35221bcdd4309e6d'), 'transactionIndex': 10, 'blockHash': HexBytes('0x9150012436df10e0d9f492a15acd3a399a2a40967f1a962d628efa799da22e6a'), 'logIndex': 17, 'removed': False}), AttributeDict({'address': '0xbF30Ff33CF9C6b0c48702Ff17891293b002DfeA4', 'topics': [HexBytes('0xc42079f94a6350d7e6235f29174924f928cc2ac818eb64fed8004e115fbcca67'), HexBytes('0x0000000000000000000000004bf3e32de155359d1d75e8b474b66848221142fc'), HexBytes('0x000000000000000000000000dad7b4c48b5b0be1159c674226be19038814ebf6')], 'data': HexBytes('0xfffffffffffffffffffffffffffffffffffffffffffffffffffd07a9d1c37d9c00000000000000000000000000000000000000000000000000038d7ea4c68000000000000000000000000000000000000000000117f95187115b899876f57ab60000000000000000000000000000000000000000000b1665f88fd9823a3bf9dc00000000000000000000000000000000000000000000000000000000000006fe'), 'blockNumber': 134395924, 'transactionHash': HexBytes('0x4f53cf7b91502f7e8bbf30100742a5a9e527514264d606fd35221bcdd4309e6d'), 'transactionIndex': 10, 'blockHash': HexBytes('0x9150012436df10e0d9f492a15acd3a399a2a40967f1a962d628efa799da22e6a'), 'logIndex': 18, 'removed': False}), AttributeDict({'address': '0x0a7B751FcDBBAA8BB988B9217ad5Fb5cfe7bf7A0', 'topics': [HexBytes('0xddf252ad1be2c89b69c2b068fc378daa952ba7f163c4a11628f55a4df523b3ef'), HexBytes('0x000000000000000000000000dad7b4c48b5b0be1159c674226be19038814ebf6'), HexBytes('0x000000000000000000000000c04754f8027abbfe9eea492c9cc78b66946a07d1')], 'data': HexBytes('0x00000000000000000000000000000000000000000000000579351837fa0778ad'), 'blockNumber': 134395924, 'transactionHash': HexBytes('0x4f53cf7b91502f7e8bbf30100742a5a9e527514264d606fd35221bcdd4309e6d'), 'transactionIndex': 10, 'blockHash': HexBytes('0x9150012436df10e0d9f492a15acd3a399a2a40967f1a962d628efa799da22e6a'), 'logIndex': 19, 'removed': False}), AttributeDict({'address': '0x1F32b1c2345538c0c6f582fCB022739c4A194Ebb', 'topics': [HexBytes('0xddf252ad1be2c89b69c2b068fc378daa952ba7f163c4a11628f55a4df523b3ef'), HexBytes('0x000000000000000000000000dad7b4c48b5b0be1159c674226be19038814ebf6'), HexBytes('0x000000000000000000000000f3a9c484a6d7a7c4864b16f98a7a3b056d0fc0ba')], 'data': HexBytes('0x00000000000000000000000000000000000000000000000000000247f044470c'), 'blockNumber': 134395924, 'transactionHash': HexBytes('0x4f53cf7b91502f7e8bbf30100742a5a9e527514264d606fd35221bcdd4309e6d'), 'transactionIndex': 10, 'blockHash': HexBytes('0x9150012436df10e0d9f492a15acd3a399a2a40967f1a962d628efa799da22e6a'), 'logIndex': 20, 'removed': False}), AttributeDict({'address': '0xdAD7B4C48b5B0BE1159c674226BE19038814eBf6', 'topics': [HexBytes('0x112c256902bf554b6ed882d2936687aaeb4225e8cd5b51303c90ca6cf43a8602'), HexBytes('0x0000000000000000000000004bf3e32de155359d1d75e8b474b66848221142fc')], 'data': HexBytes('0x000000000000000000000000000000000000000000000000000000000000000000000000000000000000000000000000000000000000000000000247f044470c'), 'blockNumber': 134395924, 'transactionHash': HexBytes('0x4f53cf7b91502f7e8bbf30100742a5a9e527514264d606fd35221bcdd4309e6d'), 'transactionIndex': 10, 'blockHash': HexBytes('0x9150012436df10e0d9f492a15acd3a399a2a40967f1a962d628efa799da22e6a'), 'logIndex': 21, 'removed': False}), AttributeDict({'address': '0xdAD7B4C48b5B0BE1159c674226BE19038814eBf6', 'topics': [HexBytes('0xcf2aa50876cdfbb541206f89af0ee78d44a2abf8d328e37fa4917f982149848a')], 'data': HexBytes('0x000000000000000000000000000000000000000000008ded5a34e628fd5674280000000000000000000000000000000000000000000000004ccb5e26a81b4a27'), 'blockNumber': 134395924, 'transactionHash': HexBytes('0x4f53cf7b91502f7e8bbf30100742a5a9e527514264d606fd35221bcdd4309e6d'), 'transactionIndex': 10, 'blockHash': HexBytes('0x9150012436df10e0d9f492a15acd3a399a2a40967f1a962d628efa799da22e6a'), 'logIndex': 22, 'removed': False}), AttributeDict({'address': '0xdAD7B4C48b5B0BE1159c674226BE19038814eBf6', 'topics': [HexBytes('0xb3e2773606abfd36b5bd91394b3a54d1398336c65005baf7bf7a05efeffaf75b'), HexBytes('0x0000000000000000000000004bf3e32de155359d1d75e8b474b66848221142fc'), HexBytes('0x000000000000000000000000c04754f8027abbfe9eea492c9cc78b66946a07d1')], 'data': HexBytes('0x00000000000000000000000000000000000000000000000000000000000000000000000000000000000000000000000000000000000000000002f8562e3c826400000000000000000000000000000000000000000000000579351837fa0778ad0000000000000000000000000000000000000000000000000000000000000000'), 'blockNumber': 134395924, 'transactionHash': HexBytes('0x4f53cf7b91502f7e8bbf30100742a5a9e527514264d606fd35221bcdd4309e6d'), 'transactionIndex': 10, 'blockHash': HexBytes('0x9150012436df10e0d9f492a15acd3a399a2a40967f1a962d628efa799da22e6a'), 'logIndex': 23, 'removed': False}), AttributeDict({'address': '0x9560e827aF36c94D2Ac33a39bCE1Fe78631088Db', 'topics': [HexBytes('0xddf252ad1be2c89b69c2b068fc378daa952ba7f163c4a11628f55a4df523b3ef'), HexBytes('0x000000000000000000000000c04754f8027abbfe9eea492c9cc78b66946a07d1'), HexBytes('0x0000000000000000000000001e7a6b63f98484514610a9f0d5b399d4f7a9b1da')], 'data': HexBytes('0x000000000000000000000000000000000000000000000001e9ac84308a1bb151'), 'blockNumber': 134395924, 'transactionHash': HexBytes('0x4f53cf7b91502f7e8bbf30100742a5a9e527514264d606fd35221bcdd4309e6d'), 'transactionIndex': 10, 'blockHash': HexBytes('0x9150012436df10e0d9f492a15acd3a399a2a40967f1a962d628efa799da22e6a'), 'logIndex': 24, 'removed': False}), AttributeDict({'address': '0x0a7B751FcDBBAA8BB988B9217ad5Fb5cfe7bf7A0', 'topics': [HexBytes('0xddf252ad1be2c89b69c2b068fc378daa952ba7f163c4a11628f55a4df523b3ef'), HexBytes('0x000000000000000000000000c04754f8027abbfe9eea492c9cc78b66946a07d1'), HexBytes('0x0000000000000000000000007ec38ab6af0ad66c28126650eae5856e84061d2b')], 'data': HexBytes('0x00000000000000000000000000000000000000000000000004342095ac039b3d'), 'blockNumber': 134395924, 'transactionHash': HexBytes('0x4f53cf7b91502f7e8bbf30100742a5a9e527514264d606fd35221bcdd4309e6d'), 'transactionIndex': 10, 'blockHash': HexBytes('0x9150012436df10e0d9f492a15acd3a399a2a40967f1a962d628efa799da22e6a'), 'logIndex': 25, 'removed': False}), AttributeDict({'address': '0xC04754F8027aBBFe9EeA492C9cC78b66946a07D1', 'topics': [HexBytes('0x112c256902bf554b6ed882d2936687aaeb4225e8cd5b51303c90ca6cf43a8602'), HexBytes('0x0000000000000000000000004bf3e32de155359d1d75e8b474b66848221142fc')], 'data': HexBytes('0x00000000000000000000000000000000000000000000000004342095ac039b3d0000000000000000000000000000000000000000000000000000000000000000'), 'blockNumber': 134395924, 'transactionHash': HexBytes('0x4f53cf7b91502f7e8bbf30100742a5a9e527514264d606fd35221bcdd4309e6d'), 'transactionIndex': 10, 'blockHash': HexBytes('0x9150012436df10e0d9f492a15acd3a399a2a40967f1a962d628efa799da22e6a'), 'logIndex': 26, 'removed': False}), AttributeDict({'address': '0xC04754F8027aBBFe9EeA492C9cC78b66946a07D1', 'topics': [HexBytes('0xcf2aa50876cdfbb541206f89af0ee78d44a2abf8d328e37fa4917f982149848a')], 'data': HexBytes('0x0000000000000000000000000000000000000000000089b920c05df51a1ab76b00000000000000000000000000000000000000000000304451661cca1e78abbe'), 'blockNumber': 134395924, 'transactionHash': HexBytes('0x4f53cf7b91502f7e8bbf30100742a5a9e527514264d606fd35221bcdd4309e6d'), 'transactionIndex': 10, 'blockHash': HexBytes('0x9150012436df10e0d9f492a15acd3a399a2a40967f1a962d628efa799da22e6a'), 'logIndex': 27, 'removed': False}), AttributeDict({'address': '0xC04754F8027aBBFe9EeA492C9cC78b66946a07D1', 'topics': [HexBytes('0xb3e2773606abfd36b5bd91394b3a54d1398336c65005baf7bf7a05efeffaf75b'), HexBytes('0x0000000000000000000000004bf3e32de155359d1d75e8b474b66848221142fc'), HexBytes('0x0000000000000000000000001e7a6b63f98484514610a9f0d5b399d4f7a9b1da')], 'data': HexBytes('0x00000000000000000000000000000000000000000000000579351837fa0778ad00000000000000000000000000000000000000000000000000000000000000000000000000000000000000000000000000000000000000000000000000000000000000000000000000000000000000000000000000000001e9ac84308a1bb151'), 'blockNumber': 134395924, 'transactionHash': HexBytes('0x4f53cf7b91502f7e8bbf30100742a5a9e527514264d606fd35221bcdd4309e6d'), 'transactionIndex': 10, 'blockHash': HexBytes('0x9150012436df10e0d9f492a15acd3a399a2a40967f1a962d628efa799da22e6a'), 'logIndex': 28, 'removed': False})], 'logsBloom': HexBytes('0x00000041000000000000000100000000000000000000000000040000600000000400000020000001000400100000000400000000000020000000800000000200000000000000000800000008000100000080000040000000000000008000000008004000400400010000010000000000001000000000000000000010000800004800000000004000000002000000020020001001002000000000000010000000000801000000000000000000000000000000000000000000000000000000000000000082080000008080000400000000000000000480020000000000000000000010000100040000000000000000030000000000000000400000080000020000'), 'status': 1, 'to': '0x4bF3E32de155359D1D75e8B474b66848221142fc', 'transactionHash': HexBytes('0x4f53cf7b91502f7e8bbf30100742a5a9e527514264d606fd35221bcdd4309e6d'), 'transactionIndex': 10, 'type': 2})\n"
     ]
    }
   ],
   "source": [
    "# eth -> velo\n",
    "async with AsyncOPChainSimnet() as op:\n",
    "    tokens = await op.get_all_tokens(listed_only=True)\n",
    "    def get_token_by_address(addr): return next(filter(lambda t: t.token_address == addr, tokens), None)\n",
    "    velo = get_token_by_address(normalize_address(\"0x9560e827af36c94d2ac33a39bce1fe78631088db\"))\n",
    "    eth = get_token_by_address(\"ETH\")\n",
    "    print(await op.swap(eth, velo, 0.001, slippage=0.01))"
   ]
  },
  {
   "cell_type": "markdown",
   "metadata": {},
   "source": [
    "Basic deposit on OP"
   ]
  },
  {
   "cell_type": "code",
   "execution_count": null,
   "metadata": {},
   "outputs": [],
   "source": [
    "# async with AsyncOPChain() as chain:\n",
    "#     pools = await chain.get_pools()\n",
    "#     pools = list(filter(lambda x: x.token0 and x.token0.token_address == chain.usdc and x.token1.token_address == chain.velo, pools))\n",
    "#     async with AsyncOPChainSimnet() as supersim:\n",
    "#         print(f\"supersim is {supersim}\")\n",
    "#         # 0.02 USDC \n",
    "#         await supersim.deposit(Deposit(pools[0], 0.02))"
   ]
  },
  {
   "cell_type": "markdown",
   "metadata": {},
   "source": [
    "Native -> non Native on OP"
   ]
  },
  {
   "cell_type": "code",
   "execution_count": null,
   "metadata": {},
   "outputs": [],
   "source": [
    "## WIP\n",
    "# async with OPChain() as op:\n",
    "#     pools = await op.get_pools()\n",
    "#     # find WETH/Velo pool\n",
    "#     weth_velo_pool = next(filter(lambda p: p.token0.token_address == op.settings.wrapped_native_token_addr and p.token1.token_address == OPChain.velo, pools), None)\n",
    "#     test_ne(weth_velo_pool, None)\n",
    "#     async with OPChainSimnet() as supersim:\n",
    "#         await supersim.deposit(Deposit(weth_velo_pool, 0.0001))"
   ]
  },
  {
   "cell_type": "markdown",
   "metadata": {},
   "source": [
    "Basic deposit on Base"
   ]
  },
  {
   "cell_type": "code",
   "execution_count": null,
   "metadata": {},
   "outputs": [],
   "source": [
    "# async with AsyncBaseChain() as chain:\n",
    "#     pools = await chain.get_pools()\n",
    "#     pools = list(filter(lambda x: x.token0 and x.token0.token_address == chain.usdc and x.token1.token_address == chain.aero, pools))\n",
    "#     async with AsyncBaseChainSimnet() as supersim:\n",
    "#         # 0.02 USDC \n",
    "#         await supersim.deposit(Deposit(pools[0], 0.01), slippage=0.05)"
   ]
  },
  {
   "cell_type": "markdown",
   "metadata": {},
   "source": [
    "CL on OP"
   ]
  },
  {
   "cell_type": "code",
   "execution_count": null,
   "metadata": {},
   "outputs": [],
   "source": [
    "# WIP\n",
    "# async with OPChain() as chain:\n",
    "#     pools = await chain.get_pools()\n",
    "#     # CL200-USDC/VELO\n",
    "#     cl_usdc_velo = next(filter(lambda x: x.token0 and x.token0.token_address == chain.usdc and x.token1.token_address == chain.velo and x.is_cl, pools), None)\n",
    "#     test_ne(cl_usdc_velo, None)\n",
    "#     async with OPChainSimnet() as supersim:\n",
    "#         await supersim.deposit(Deposit(cl_usdc_velo, 0.02))\n"
   ]
  },
  {
   "cell_type": "code",
   "execution_count": null,
   "metadata": {},
   "outputs": [],
   "source": [
    "#| hide\n",
    "\n",
    "import nbdev; nbdev.nbdev_export()"
   ]
  }
 ],
 "metadata": {
  "kernelspec": {
   "display_name": "python3",
   "language": "python",
   "name": "python3"
  }
 },
 "nbformat": 4,
 "nbformat_minor": 2
}
