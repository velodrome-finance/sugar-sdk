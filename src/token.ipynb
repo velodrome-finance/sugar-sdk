{
 "cells": [
  {
   "cell_type": "markdown",
   "metadata": {},
   "source": [
    "# Token API"
   ]
  },
  {
   "cell_type": "code",
   "execution_count": null,
   "metadata": {},
   "outputs": [],
   "source": [
    "#| default_exp token"
   ]
  },
  {
   "cell_type": "code",
   "execution_count": null,
   "metadata": {},
   "outputs": [],
   "source": [
    "#| export\n",
    "\n",
    "from typing import Tuple\n",
    "from dataclasses import dataclass\n",
    "from sugar.helpers import normalize_address"
   ]
  },
  {
   "cell_type": "code",
   "execution_count": null,
   "metadata": {},
   "outputs": [],
   "source": [
    "#| hide\n",
    "from nbdev.showdoc import *"
   ]
  },
  {
   "cell_type": "code",
   "execution_count": null,
   "metadata": {},
   "outputs": [],
   "source": [
    "#| export\n",
    "\n",
    "@dataclass(frozen=True)\n",
    "class Token:\n",
    "    \"\"\"Data class for Token\n",
    "    based on: https://github.com/velodrome-finance/sugar/blob/v2/contracts/LpSugar.vy#L17\n",
    "    \"\"\"\n",
    "\n",
    "    chain_id: str\n",
    "    chain_name: str\n",
    "    token_address: str\n",
    "    symbol: str\n",
    "    decimals: int\n",
    "    listed: bool\n",
    "    wrapped_token_address: str = None\n",
    "\n",
    "    def to_wei(self, value: float) -> int:\n",
    "        \"\"\"Convert a value to wei based on the token's decimals.\"\"\"\n",
    "        return int(value * 10**self.decimals)\n",
    "\n",
    "    @property\n",
    "    def is_native(self) -> bool: return self.wrapped_token_address is not None\n",
    "\n",
    "    def value_from_bigint(self, value: float) -> float: return value / 10**self.decimals\n",
    "\n",
    "    @classmethod\n",
    "    def make_native_token(cls, symbol: str, wrapped_address: str, decimals: int, chain_id: str, chain_name: str) -> \"Token\":\n",
    "        return Token(chain_id=chain_id, chain_name=chain_name, token_address=symbol, symbol=symbol, decimals=decimals, listed=True, wrapped_token_address=wrapped_address)\n",
    "\n",
    "    @classmethod\n",
    "    def from_tuple(cls, t: Tuple, chain_id: str, chain_name: str) -> \"Token\":\n",
    "        (token_address, symbol, decimals, _, listed) = t\n",
    "        return Token(\n",
    "            chain_id=chain_id,\n",
    "            chain_name=chain_name,\n",
    "            token_address=normalize_address(token_address),\n",
    "            symbol=symbol,\n",
    "            decimals=decimals,\n",
    "            listed=listed,\n",
    "        )"
   ]
  },
  {
   "cell_type": "code",
   "execution_count": null,
   "metadata": {},
   "outputs": [],
   "source": [
    "#| hide\n",
    "import nbdev; nbdev.nbdev_export()"
   ]
  }
 ],
 "metadata": {
  "kernelspec": {
   "display_name": "python3",
   "language": "python",
   "name": "python3"
  }
 },
 "nbformat": 4,
 "nbformat_minor": 2
}
