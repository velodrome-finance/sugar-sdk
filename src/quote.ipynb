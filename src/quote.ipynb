{
 "cells": [
  {
   "cell_type": "markdown",
   "metadata": {},
   "source": [
    "# Quotes for swaps"
   ]
  },
  {
   "cell_type": "code",
   "execution_count": null,
   "metadata": {},
   "outputs": [],
   "source": [
    "#| default_exp quote"
   ]
  },
  {
   "cell_type": "code",
   "execution_count": null,
   "metadata": {},
   "outputs": [],
   "source": [
    "#| hide\n",
    "from nbdev.showdoc import *"
   ]
  },
  {
   "cell_type": "code",
   "execution_count": null,
   "metadata": {},
   "outputs": [],
   "source": [
    "#| export\n",
    "\n",
    "from functools import reduce\n",
    "from typing import List, Union, Tuple\n",
    "from eth_abi.packed import encode_packed\n",
    "from dataclasses import dataclass\n",
    "from sugar.token import Token\n",
    "from sugar.pool import LiquidityPoolForSwap"
   ]
  },
  {
   "cell_type": "code",
   "execution_count": null,
   "metadata": {},
   "outputs": [],
   "source": [
    "#| export \n",
    "\n",
    "# magic numbers\n",
    "QUOTER_STABLE_POOL_FILLER, QUOTER_VOLATILE_POOL_FILLER = 2097152, 4194304\n",
    "\n",
    "@dataclass\n",
    "class PreparedRoute:\n",
    "    types: List[str]; values: List[Union[str, int]]\n",
    "\n",
    "    @property\n",
    "    def encoded(self) -> bytes: return encode_packed(self.types, self.values)\n",
    "\n",
    "def pack_path(path: List[Tuple[LiquidityPoolForSwap, bool]]) -> PreparedRoute:\n",
    "    types, values = reduce(lambda s, pool: s + pool, [[\"address\", \"int24\"] for i in range(len(path))], []) + [\"address\"], []\n",
    "    for node in path:\n",
    "        pool, reversed = node\n",
    "        token0, token1 = pool.token0_address if not reversed else pool.token1_address, pool.token1_address if not reversed else pool.token0_address\n",
    "        if pool.type > 0: filler = pool.type\n",
    "        else: filler =  QUOTER_STABLE_POOL_FILLER if pool.is_stable else QUOTER_VOLATILE_POOL_FILLER\n",
    "        if len(values) == 0: values = [token0, filler, token1]\n",
    "        else: values += [filler, token1]\n",
    "    return PreparedRoute(types=types, values=values)\n",
    "\n",
    "@dataclass\n",
    "class QuoteInput:\n",
    "    from_token: Token; to_token: Token; path: List[Tuple[LiquidityPoolForSwap, bool]]; amount_in: int\n",
    "\n",
    "    def to_tuple(self) -> tuple: return (self.from_token, self.to_token, tuple(self.path), self.amount_in, self.amount_out)\n",
    "\n",
    "    @staticmethod\n",
    "    def from_tuple(t: tuple) -> \"QuoteInput\":\n",
    "        from_token, to_token, path, amount_in, amount_out = t\n",
    "        return QuoteInput(from_token=from_token, to_token=to_token, path=list(path), amount_in=amount_in, amount_out=amount_out)\n",
    "    \n",
    "    @property\n",
    "    def route(self) -> PreparedRoute: return pack_path(self.path)\n",
    "\n",
    "@dataclass\n",
    "class Quote:\n",
    "    input: QuoteInput; amount_out: int\n",
    "\n",
    "    @property\n",
    "    def from_token(self) -> Token: return self.input.from_token\n",
    "    @property\n",
    "    def to_token(self) -> Token: return self.input.to_token\n",
    "    @property\n",
    "    def path(self) -> List[Tuple[LiquidityPoolForSwap, bool]]: return self.input.path\n",
    "    @property\n",
    "    def amount_in(self) -> int: return self.input.amount_in"
   ]
  },
  {
   "cell_type": "markdown",
   "metadata": {},
   "source": [
    "## Tests"
   ]
  },
  {
   "cell_type": "code",
   "execution_count": null,
   "metadata": {},
   "outputs": [],
   "source": [
    "from fastcore.test import test_eq"
   ]
  },
  {
   "cell_type": "code",
   "execution_count": null,
   "metadata": {},
   "outputs": [],
   "source": [
    "path = [\n",
    "    (LiquidityPoolForSwap(lp='0xec3d9098BD40ec741676fc04D4bd26BCCF592aa3', type=200, token0_address='0x4200000000000000000000000000000000000006', token1_address='0x6c84a8f1c29108F47a79964b5Fe888D4f4D0dE40', is_stable=False, is_cl=True), False),\n",
    "    (LiquidityPoolForSwap(lp='0x02A130b6D35611bC2D90e20f2ceA45431c0A9a8d', type=-1, token0_address='0x6c84a8f1c29108F47a79964b5Fe888D4f4D0dE40', token1_address='0x7F5c764cBc14f9669B88837ca1490cCa17c31607', is_stable=False, is_cl=False), False),\n",
    "    (LiquidityPoolForSwap(lp='0xf7a73e1995030B0198f8d6e528a1c42ACEf90a4c', type=0, token0_address='0x7F5c764cBc14f9669B88837ca1490cCa17c31607', token1_address='0x9560e827aF36c94D2Ac33a39bCE1Fe78631088Db', is_stable=True, is_cl=False), False)\n",
    "]\n",
    "\n",
    "rt = pack_path(path)\n",
    "\n",
    "test_eq(rt.types, ['address', 'int24', 'address', 'int24', 'address', 'int24', 'address'])\n",
    "test_eq(rt.values, ['0x4200000000000000000000000000000000000006', 200, '0x6c84a8f1c29108F47a79964b5Fe888D4f4D0dE40', 4194304, '0x7F5c764cBc14f9669B88837ca1490cCa17c31607', 2097152, '0x9560e827aF36c94D2Ac33a39bCE1Fe78631088Db'])\n",
    "test_eq(rt.encoded.hex(), \"42000000000000000000000000000000000000060000c86c84a8f1c29108f47a79964b5fe888d4f4d0de404000007f5c764cbc14f9669b88837ca1490cca17c316072000009560e827af36c94d2ac33a39bce1fe78631088db\")\n",
    "\n",
    "# test reversed version\n",
    "\n",
    "path = [\n",
    "    (LiquidityPoolForSwap(lp='0xec3d9098BD40ec741676fc04D4bd26BCCF592aa3', type=200, token0_address='0x4200000000000000000000000000000000000006', token1_address='0x6c84a8f1c29108F47a79964b5Fe888D4f4D0dE40', is_stable=False, is_cl=True), True),\n",
    "    (LiquidityPoolForSwap(lp='0x02A130b6D35611bC2D90e20f2ceA45431c0A9a8d', type=-1, token0_address='0x6c84a8f1c29108F47a79964b5Fe888D4f4D0dE40', token1_address='0x7F5c764cBc14f9669B88837ca1490cCa17c31607', is_stable=False, is_cl=False), False),\n",
    "    (LiquidityPoolForSwap(lp='0xf7a73e1995030B0198f8d6e528a1c42ACEf90a4c', type=0, token0_address='0x7F5c764cBc14f9669B88837ca1490cCa17c31607', token1_address='0x9560e827aF36c94D2Ac33a39bCE1Fe78631088Db', is_stable=True, is_cl=False), False)\n",
    "]\n",
    "\n",
    "rt = pack_path(path)\n",
    "\n",
    "test_eq(rt.types, ['address', 'int24', 'address', 'int24', 'address', 'int24', 'address'])\n",
    "test_eq(rt.values, ['0x6c84a8f1c29108F47a79964b5Fe888D4f4D0dE40', 200, '0x4200000000000000000000000000000000000006', 4194304, '0x7F5c764cBc14f9669B88837ca1490cCa17c31607', 2097152, '0x9560e827aF36c94D2Ac33a39bCE1Fe78631088Db'])\n",
    "test_eq(rt.encoded.hex(), \"6c84a8f1c29108f47a79964b5fe888d4f4d0de400000c842000000000000000000000000000000000000064000007f5c764cbc14f9669b88837ca1490cca17c316072000009560e827af36c94d2ac33a39bce1fe78631088db\")\n"
   ]
  },
  {
   "cell_type": "code",
   "execution_count": null,
   "metadata": {},
   "outputs": [],
   "source": [
    "#| hide\n",
    "import nbdev; nbdev.nbdev_export()"
   ]
  }
 ],
 "metadata": {
  "kernelspec": {
   "display_name": "python3",
   "language": "python",
   "name": "python3"
  }
 },
 "nbformat": 4,
 "nbformat_minor": 2
}
