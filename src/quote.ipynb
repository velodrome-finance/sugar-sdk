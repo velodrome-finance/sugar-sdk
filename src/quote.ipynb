{
 "cells": [
  {
   "cell_type": "markdown",
   "metadata": {},
   "source": [
    "# Quotes for swaps"
   ]
  },
  {
   "cell_type": "code",
   "execution_count": null,
   "metadata": {},
   "outputs": [],
   "source": [
    "#| default_exp quote"
   ]
  },
  {
   "cell_type": "code",
   "execution_count": null,
   "metadata": {},
   "outputs": [],
   "source": [
    "#| hide\n",
    "from nbdev.showdoc import *"
   ]
  },
  {
   "cell_type": "code",
   "execution_count": null,
   "metadata": {},
   "outputs": [],
   "source": [
    "#| export\n",
    "\n",
    "from functools import reduce\n",
    "from typing import List, Union\n",
    "from eth_abi.packed import encode_packed\n",
    "from dataclasses import dataclass\n",
    "from sugar.token import Token\n",
    "from sugar.pool import LiquidityPoolForSwap"
   ]
  },
  {
   "cell_type": "code",
   "execution_count": null,
   "metadata": {},
   "outputs": [],
   "source": [
    "#| export \n",
    "\n",
    "@dataclass\n",
    "class Quote: from_token: Token; to_token: Token; path: List[LiquidityPoolForSwap]; amount_in: int; amount_out: int\n",
    "\n",
    "# magic numbers\n",
    "QUOTER_STABLE_POOL_FILLER, QUOTER_VOLATILE_POOL_FILLER = 2097152, 4194304\n",
    "\n",
    "@dataclass\n",
    "class PreparedRoute: \n",
    "    types: List[str]; values: List[Union[str, int]]\n",
    "\n",
    "    @property\n",
    "    def encoded(self) -> bytes: return encode_packed(self.types, self.values)\n",
    "\n",
    "\n",
    "def prepare_route(nodes: List[LiquidityPoolForSwap]) -> PreparedRoute:\n",
    "    types, values = reduce(lambda s, pool: s + pool, [[\"address\", \"int24\"] for i in range(len(nodes))], []) + [\"address\"], []\n",
    "    for pool in nodes:\n",
    "        if pool.type > 0: filler = pool.type\n",
    "        else: filler =  QUOTER_STABLE_POOL_FILLER if pool.is_stable else QUOTER_VOLATILE_POOL_FILLER\n",
    "        if len(values) == 0: values = [pool.token0.token_address, filler, pool.token1.token_address]\n",
    "        else: values += [filler, pool.token1.token_address]\n",
    "    return PreparedRoute(types=types, values=values)"
   ]
  },
  {
   "cell_type": "code",
   "execution_count": null,
   "metadata": {},
   "outputs": [],
   "source": [
    "from fastcore.test import test_eq\n",
    "\n",
    "nodes = [\n",
    "    LiquidityPoolForSwap(lp='0xec3d9098BD40ec741676fc04D4bd26BCCF592aa3', type=200, token0=Token(token_address='0x4200000000000000000000000000000000000006', symbol='WETH', decimals=18, listed=True, wrapped_token_address=None), token1=Token(token_address='0x6c84a8f1c29108F47a79964b5Fe888D4f4D0dE40', symbol='tBTC', decimals=18, listed=True, wrapped_token_address=None), is_stable=False, is_cl=True, symbol='CL200-WETH/tBTC'),\n",
    "    LiquidityPoolForSwap(lp='0x02A130b6D35611bC2D90e20f2ceA45431c0A9a8d', type=-1, token0=Token(token_address='0x6c84a8f1c29108F47a79964b5Fe888D4f4D0dE40', symbol='tBTC', decimals=18, listed=True, wrapped_token_address=None), token1=Token(token_address='0x7F5c764cBc14f9669B88837ca1490cCa17c31607', symbol='USDC', decimals=6, listed=True, wrapped_token_address=None), is_stable=False, is_cl=False, symbol='vAMM-tBTC/USDC'),\n",
    "    LiquidityPoolForSwap(lp='0xf7a73e1995030B0198f8d6e528a1c42ACEf90a4c', type=0, token0=Token(token_address='0x7F5c764cBc14f9669B88837ca1490cCa17c31607', symbol='USDC', decimals=6, listed=True, wrapped_token_address=None), token1=Token(token_address='0x9560e827aF36c94D2Ac33a39bCE1Fe78631088Db', symbol='VELO', decimals=18, listed=True, wrapped_token_address=None), is_stable=True, is_cl=False, symbol='sAMM-USDC/VELO')\n",
    "]\n",
    "\n",
    "rt = prepare_route(nodes)\n",
    "\n",
    "test_eq(rt.types, ['address', 'int24', 'address', 'int24', 'address', 'int24', 'address'])\n",
    "test_eq(rt.values, ['0x4200000000000000000000000000000000000006', 200, '0x6c84a8f1c29108F47a79964b5Fe888D4f4D0dE40', 4194304, '0x7F5c764cBc14f9669B88837ca1490cCa17c31607', 2097152, '0x9560e827aF36c94D2Ac33a39bCE1Fe78631088Db'])\n",
    "test_eq(rt.encoded.hex(), \"42000000000000000000000000000000000000060000c86c84a8f1c29108f47a79964b5fe888d4f4d0de404000007f5c764cbc14f9669b88837ca1490cca17c316072000009560e827af36c94d2ac33a39bce1fe78631088db\")    "
   ]
  },
  {
   "cell_type": "code",
   "execution_count": null,
   "metadata": {},
   "outputs": [],
   "source": [
    "#| hide\n",
    "import nbdev; nbdev.nbdev_export()"
   ]
  }
 ],
 "metadata": {
  "kernelspec": {
   "display_name": "python3",
   "language": "python",
   "name": "python3"
  }
 },
 "nbformat": 4,
 "nbformat_minor": 2
}
