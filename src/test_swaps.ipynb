{
 "cells": [
  {
   "cell_type": "markdown",
   "id": "e3adce91",
   "metadata": {},
   "source": [
    "# Test swaps"
   ]
  },
  {
   "cell_type": "code",
   "execution_count": null,
   "id": "e3adce91",
   "metadata": {},
   "outputs": [],
   "source": [
    "from sugar import AsyncOPChainSimnet, OPChainSimnet, AsyncOPChain, AsyncBaseChain\n",
    "from sugar import get_simnet_chain_from_token, get_async_simnet_chain_from_token\n",
    "from sugar.superswap import MockSuperswapRelayer, AsyncSuperswap, Superswap\n",
    "from sugar.helpers import require_supersim, atime_it\n",
    "from fastcore.test import test_eq\n",
    "from test_specs import superswap_tests_specs\n",
    "\n",
    "require_supersim()"
   ]
  },
  {
   "cell_type": "code",
   "execution_count": null,
   "id": "dcc1205a",
   "metadata": {},
   "outputs": [
    {
     "name": "stdout",
     "output_type": "stream",
     "text": [
      "Get quote took 3.3722 seconds\n",
      "AttributeDict({'type': 2, 'status': 1, 'cumulativeGasUsed': 541686, 'logs': [AttributeDict({'address': '0x9560e827aF36c94D2Ac33a39bCE1Fe78631088Db', 'topics': [HexBytes('0x8c5be1e5ebec7d5bd14f71427d1e84f3dd0314c0f7b2291e5b200ac8c7c3b925'), HexBytes('0x000000000000000000000000f39fd6e51aad88f6f4ce6ab8827279cfffb92266'), HexBytes('0x00000000000000000000000001d40099fcd87c018969b0e8d4ab1633fb34763c')], 'data': HexBytes('0x0000000000000000000000000000000000000000000000000000000000000000'), 'blockHash': HexBytes('0x6353fbe9571fd02c952818ea08fff2cdc40ac8f0e7cf46843afefe6370bc0667'), 'blockNumber': 138883020, 'blockTimestamp': '0x688239c0', 'transactionHash': HexBytes('0xdd875cdb48a80c08e57b8b05038dd252f8023d4767c7804541ce343c8b7e9b3b'), 'transactionIndex': 0, 'logIndex': 0, 'removed': False}), AttributeDict({'address': '0x9560e827aF36c94D2Ac33a39bCE1Fe78631088Db', 'topics': [HexBytes('0xddf252ad1be2c89b69c2b068fc378daa952ba7f163c4a11628f55a4df523b3ef'), HexBytes('0x000000000000000000000000f39fd6e51aad88f6f4ce6ab8827279cfffb92266'), HexBytes('0x00000000000000000000000092fb369363498d8bfefc4eb705d8c91a51d22c45')], 'data': HexBytes('0x0000000000000000000000000000000000000000000000008ac7230489e80000'), 'blockHash': HexBytes('0x6353fbe9571fd02c952818ea08fff2cdc40ac8f0e7cf46843afefe6370bc0667'), 'blockNumber': 138883020, 'blockTimestamp': '0x688239c0', 'transactionHash': HexBytes('0xdd875cdb48a80c08e57b8b05038dd252f8023d4767c7804541ce343c8b7e9b3b'), 'transactionIndex': 0, 'logIndex': 1, 'removed': False}), AttributeDict({'address': '0xC26921B5b9ee80773774d36C84328ccb22c3a819', 'topics': [HexBytes('0xddf252ad1be2c89b69c2b068fc378daa952ba7f163c4a11628f55a4df523b3ef'), HexBytes('0x00000000000000000000000092fb369363498d8bfefc4eb705d8c91a51d22c45'), HexBytes('0x0000000000000000000000002ab2683a9eea7d62309f25b7e8bb6566cbfd2cfe')], 'data': HexBytes('0x0000000000000000000000000000000000000000000169e82a0ea7cb292865b9'), 'blockHash': HexBytes('0x6353fbe9571fd02c952818ea08fff2cdc40ac8f0e7cf46843afefe6370bc0667'), 'blockNumber': 138883020, 'blockTimestamp': '0x688239c0', 'transactionHash': HexBytes('0xdd875cdb48a80c08e57b8b05038dd252f8023d4767c7804541ce343c8b7e9b3b'), 'transactionIndex': 0, 'logIndex': 2, 'removed': False}), AttributeDict({'address': '0x9560e827aF36c94D2Ac33a39bCE1Fe78631088Db', 'topics': [HexBytes('0xddf252ad1be2c89b69c2b068fc378daa952ba7f163c4a11628f55a4df523b3ef'), HexBytes('0x00000000000000000000000092fb369363498d8bfefc4eb705d8c91a51d22c45'), HexBytes('0x00000000000000000000000030c4400694df8797ebb073c237dc881d343283be')], 'data': HexBytes('0x000000000000000000000000000000000000000000000000016345785d8a0000'), 'blockHash': HexBytes('0x6353fbe9571fd02c952818ea08fff2cdc40ac8f0e7cf46843afefe6370bc0667'), 'blockNumber': 138883020, 'blockTimestamp': '0x688239c0', 'transactionHash': HexBytes('0xdd875cdb48a80c08e57b8b05038dd252f8023d4767c7804541ce343c8b7e9b3b'), 'transactionIndex': 0, 'logIndex': 3, 'removed': False}), AttributeDict({'address': '0x92FB369363498d8bFEFc4EB705d8c91a51d22C45', 'topics': [HexBytes('0x112c256902bf554b6ed882d2936687aaeb4225e8cd5b51303c90ca6cf43a8602'), HexBytes('0x00000000000000000000000001d40099fcd87c018969b0e8d4ab1633fb34763c')], 'data': HexBytes('0x000000000000000000000000000000000000000000000000016345785d8a00000000000000000000000000000000000000000000000000000000000000000000'), 'blockHash': HexBytes('0x6353fbe9571fd02c952818ea08fff2cdc40ac8f0e7cf46843afefe6370bc0667'), 'blockNumber': 138883020, 'blockTimestamp': '0x688239c0', 'transactionHash': HexBytes('0xdd875cdb48a80c08e57b8b05038dd252f8023d4767c7804541ce343c8b7e9b3b'), 'transactionIndex': 0, 'logIndex': 4, 'removed': False}), AttributeDict({'address': '0x92FB369363498d8bFEFc4EB705d8c91a51d22C45', 'topics': [HexBytes('0xcf2aa50876cdfbb541206f89af0ee78d44a2abf8d328e37fa4917f982149848a')], 'data': HexBytes('0x00000000000000000000000000000000000000000000255ad0381bcbbb0fdaf300000000000000000000000000000000000000006264862ca485460af9f0ea00'), 'blockHash': HexBytes('0x6353fbe9571fd02c952818ea08fff2cdc40ac8f0e7cf46843afefe6370bc0667'), 'blockNumber': 138883020, 'blockTimestamp': '0x688239c0', 'transactionHash': HexBytes('0xdd875cdb48a80c08e57b8b05038dd252f8023d4767c7804541ce343c8b7e9b3b'), 'transactionIndex': 0, 'logIndex': 5, 'removed': False}), AttributeDict({'address': '0x92FB369363498d8bFEFc4EB705d8c91a51d22C45', 'topics': [HexBytes('0xb3e2773606abfd36b5bd91394b3a54d1398336c65005baf7bf7a05efeffaf75b'), HexBytes('0x00000000000000000000000001d40099fcd87c018969b0e8d4ab1633fb34763c'), HexBytes('0x0000000000000000000000002ab2683a9eea7d62309f25b7e8bb6566cbfd2cfe')], 'data': HexBytes('0x0000000000000000000000000000000000000000000000008ac7230489e80000000000000000000000000000000000000000000000000000000000000000000000000000000000000000000000000000000000000000000000000000000000000000000000000000000000000000000000000000000169e82a0ea7cb292865b9'), 'blockHash': HexBytes('0x6353fbe9571fd02c952818ea08fff2cdc40ac8f0e7cf46843afefe6370bc0667'), 'blockNumber': 138883020, 'blockTimestamp': '0x688239c0', 'transactionHash': HexBytes('0xdd875cdb48a80c08e57b8b05038dd252f8023d4767c7804541ce343c8b7e9b3b'), 'transactionIndex': 0, 'logIndex': 6, 'removed': False}), AttributeDict({'address': '0x4200000000000000000000000000000000000042', 'topics': [HexBytes('0xddf252ad1be2c89b69c2b068fc378daa952ba7f163c4a11628f55a4df523b3ef'), HexBytes('0x0000000000000000000000002ab2683a9eea7d62309f25b7e8bb6566cbfd2cfe'), HexBytes('0x00000000000000000000000067f56ac099f11ad5f65e2ec804f75f2cea6ab8c5')], 'data': HexBytes('0x0000000000000000000000000000000000000000000000000ac932e3f03ceb3d'), 'blockHash': HexBytes('0x6353fbe9571fd02c952818ea08fff2cdc40ac8f0e7cf46843afefe6370bc0667'), 'blockNumber': 138883020, 'blockTimestamp': '0x688239c0', 'transactionHash': HexBytes('0xdd875cdb48a80c08e57b8b05038dd252f8023d4767c7804541ce343c8b7e9b3b'), 'transactionIndex': 0, 'logIndex': 7, 'removed': False}), AttributeDict({'address': '0xC26921B5b9ee80773774d36C84328ccb22c3a819', 'topics': [HexBytes('0xddf252ad1be2c89b69c2b068fc378daa952ba7f163c4a11628f55a4df523b3ef'), HexBytes('0x0000000000000000000000002ab2683a9eea7d62309f25b7e8bb6566cbfd2cfe'), HexBytes('0x0000000000000000000000005c68ad2d0a8830c8be3d9746a99c71f69c1971ba')], 'data': HexBytes('0x000000000000000000000000000000000000000000000115f1ca48b20479b8a0'), 'blockHash': HexBytes('0x6353fbe9571fd02c952818ea08fff2cdc40ac8f0e7cf46843afefe6370bc0667'), 'blockNumber': 138883020, 'blockTimestamp': '0x688239c0', 'transactionHash': HexBytes('0xdd875cdb48a80c08e57b8b05038dd252f8023d4767c7804541ce343c8b7e9b3b'), 'transactionIndex': 0, 'logIndex': 8, 'removed': False}), AttributeDict({'address': '0x2Ab2683a9eEa7D62309F25b7E8bB6566cBfd2CFe', 'topics': [HexBytes('0x112c256902bf554b6ed882d2936687aaeb4225e8cd5b51303c90ca6cf43a8602'), HexBytes('0x00000000000000000000000001d40099fcd87c018969b0e8d4ab1633fb34763c')], 'data': HexBytes('0x0000000000000000000000000000000000000000000000000000000000000000000000000000000000000000000000000000000000000115f1ca48b20479b8a0'), 'blockHash': HexBytes('0x6353fbe9571fd02c952818ea08fff2cdc40ac8f0e7cf46843afefe6370bc0667'), 'blockNumber': 138883020, 'blockTimestamp': '0x688239c0', 'transactionHash': HexBytes('0xdd875cdb48a80c08e57b8b05038dd252f8023d4767c7804541ce343c8b7e9b3b'), 'transactionIndex': 0, 'logIndex': 9, 'removed': False}), AttributeDict({'address': '0x2Ab2683a9eEa7D62309F25b7E8bB6566cBfd2CFe', 'topics': [HexBytes('0xcf2aa50876cdfbb541206f89af0ee78d44a2abf8d328e37fa4917f982149848a')], 'data': HexBytes('0x00000000000000000000000000000000000000000000000f9bce821f1b16cb6f0000000000000000000000000000000000000000020b904e2fe2e5a073394a93'), 'blockHash': HexBytes('0x6353fbe9571fd02c952818ea08fff2cdc40ac8f0e7cf46843afefe6370bc0667'), 'blockNumber': 138883020, 'blockTimestamp': '0x688239c0', 'transactionHash': HexBytes('0xdd875cdb48a80c08e57b8b05038dd252f8023d4767c7804541ce343c8b7e9b3b'), 'transactionIndex': 0, 'logIndex': 10, 'removed': False}), AttributeDict({'address': '0x2Ab2683a9eEa7D62309F25b7E8bB6566cBfd2CFe', 'topics': [HexBytes('0xb3e2773606abfd36b5bd91394b3a54d1398336c65005baf7bf7a05efeffaf75b'), HexBytes('0x00000000000000000000000001d40099fcd87c018969b0e8d4ab1633fb34763c'), HexBytes('0x00000000000000000000000067f56ac099f11ad5f65e2ec804f75f2cea6ab8c5')], 'data': HexBytes('0x00000000000000000000000000000000000000000000000000000000000000000000000000000000000000000000000000000000000169e82a0ea7cb292865b90000000000000000000000000000000000000000000000000ac932e3f03ceb3d0000000000000000000000000000000000000000000000000000000000000000'), 'blockHash': HexBytes('0x6353fbe9571fd02c952818ea08fff2cdc40ac8f0e7cf46843afefe6370bc0667'), 'blockNumber': 138883020, 'blockTimestamp': '0x688239c0', 'transactionHash': HexBytes('0xdd875cdb48a80c08e57b8b05038dd252f8023d4767c7804541ce343c8b7e9b3b'), 'transactionIndex': 0, 'logIndex': 11, 'removed': False}), AttributeDict({'address': '0x0b2C639c533813f4Aa9D7837CAf62653d097Ff85', 'topics': [HexBytes('0xddf252ad1be2c89b69c2b068fc378daa952ba7f163c4a11628f55a4df523b3ef'), HexBytes('0x00000000000000000000000067f56ac099f11ad5f65e2ec804f75f2cea6ab8c5'), HexBytes('0x000000000000000000000000f39fd6e51aad88f6f4ce6ab8827279cfffb92266')], 'data': HexBytes('0x00000000000000000000000000000000000000000000000000000000000839b3'), 'blockHash': HexBytes('0x6353fbe9571fd02c952818ea08fff2cdc40ac8f0e7cf46843afefe6370bc0667'), 'blockNumber': 138883020, 'blockTimestamp': '0x688239c0', 'transactionHash': HexBytes('0xdd875cdb48a80c08e57b8b05038dd252f8023d4767c7804541ce343c8b7e9b3b'), 'transactionIndex': 0, 'logIndex': 12, 'removed': False}), AttributeDict({'address': '0x4200000000000000000000000000000000000042', 'topics': [HexBytes('0xddf252ad1be2c89b69c2b068fc378daa952ba7f163c4a11628f55a4df523b3ef'), HexBytes('0x00000000000000000000000067f56ac099f11ad5f65e2ec804f75f2cea6ab8c5'), HexBytes('0x0000000000000000000000007a6d9745a7d65b53c1f8a1926e7965ff7ee5712b')], 'data': HexBytes('0x00000000000000000000000000000000000000000000000000084899c595afcf'), 'blockHash': HexBytes('0x6353fbe9571fd02c952818ea08fff2cdc40ac8f0e7cf46843afefe6370bc0667'), 'blockNumber': 138883020, 'blockTimestamp': '0x688239c0', 'transactionHash': HexBytes('0xdd875cdb48a80c08e57b8b05038dd252f8023d4767c7804541ce343c8b7e9b3b'), 'transactionIndex': 0, 'logIndex': 13, 'removed': False}), AttributeDict({'address': '0x67F56Ac099F11aD5F65E2ec804f75F2cEa6ab8C5', 'topics': [HexBytes('0x112c256902bf554b6ed882d2936687aaeb4225e8cd5b51303c90ca6cf43a8602'), HexBytes('0x00000000000000000000000001d40099fcd87c018969b0e8d4ab1633fb34763c')], 'data': HexBytes('0x000000000000000000000000000000000000000000000000000000000000000000000000000000000000000000000000000000000000000000084899c595afcf'), 'blockHash': HexBytes('0x6353fbe9571fd02c952818ea08fff2cdc40ac8f0e7cf46843afefe6370bc0667'), 'blockNumber': 138883020, 'blockTimestamp': '0x688239c0', 'transactionHash': HexBytes('0xdd875cdb48a80c08e57b8b05038dd252f8023d4767c7804541ce343c8b7e9b3b'), 'transactionIndex': 0, 'logIndex': 14, 'removed': False}), AttributeDict({'address': '0x67F56Ac099F11aD5F65E2ec804f75F2cEa6ab8C5', 'topics': [HexBytes('0xcf2aa50876cdfbb541206f89af0ee78d44a2abf8d328e37fa4917f982149848a')], 'data': HexBytes('0x0000000000000000000000000000000000000000000000000000000293ce32a100000000000000000000000000000000000000000000035ea5d4a6469f6db80e'), 'blockHash': HexBytes('0x6353fbe9571fd02c952818ea08fff2cdc40ac8f0e7cf46843afefe6370bc0667'), 'blockNumber': 138883020, 'blockTimestamp': '0x688239c0', 'transactionHash': HexBytes('0xdd875cdb48a80c08e57b8b05038dd252f8023d4767c7804541ce343c8b7e9b3b'), 'transactionIndex': 0, 'logIndex': 15, 'removed': False}), AttributeDict({'address': '0x67F56Ac099F11aD5F65E2ec804f75F2cEa6ab8C5', 'topics': [HexBytes('0xb3e2773606abfd36b5bd91394b3a54d1398336c65005baf7bf7a05efeffaf75b'), HexBytes('0x00000000000000000000000001d40099fcd87c018969b0e8d4ab1633fb34763c'), HexBytes('0x000000000000000000000000f39fd6e51aad88f6f4ce6ab8827279cfffb92266')], 'data': HexBytes('0x00000000000000000000000000000000000000000000000000000000000000000000000000000000000000000000000000000000000000000ac932e3f03ceb3d00000000000000000000000000000000000000000000000000000000000839b30000000000000000000000000000000000000000000000000000000000000000'), 'blockHash': HexBytes('0x6353fbe9571fd02c952818ea08fff2cdc40ac8f0e7cf46843afefe6370bc0667'), 'blockNumber': 138883020, 'blockTimestamp': '0x688239c0', 'transactionHash': HexBytes('0xdd875cdb48a80c08e57b8b05038dd252f8023d4767c7804541ce343c8b7e9b3b'), 'transactionIndex': 0, 'logIndex': 16, 'removed': False}), AttributeDict({'address': '0x01D40099fCD87C018969B0e8D4aB1633Fb34763C', 'topics': [HexBytes('0xaa2dd386ed08047486db39ea1a9e5461b6a95c8bb3ca845cce27a537799a4672'), HexBytes('0x000000000000000000000000f39fd6e51aad88f6f4ce6ab8827279cfffb92266'), HexBytes('0x000000000000000000000000f39fd6e51aad88f6f4ce6ab8827279cfffb92266')], 'data': HexBytes('0x'), 'blockHash': HexBytes('0x6353fbe9571fd02c952818ea08fff2cdc40ac8f0e7cf46843afefe6370bc0667'), 'blockNumber': 138883020, 'blockTimestamp': '0x688239c0', 'transactionHash': HexBytes('0xdd875cdb48a80c08e57b8b05038dd252f8023d4767c7804541ce343c8b7e9b3b'), 'transactionIndex': 0, 'logIndex': 17, 'removed': False})], 'logsBloom': HexBytes('0x000020000000000000000100000000080000040800000000000000004000000204000000200400000000000000000000000000000000000000000000002081c0000000800040000020000008001000000080020000000100080000000000000000000000000480000000000900000000000000000000000000000810040042000000000000800000000002000000000000001008000000000000000803000000020000000008000000000000000040000008000004000004000000000001000000000002000000200000000400000000808000002090020100000000000080000010000100000000000000000000010040000000008100000004000000000000'), 'transactionHash': HexBytes('0xdd875cdb48a80c08e57b8b05038dd252f8023d4767c7804541ce343c8b7e9b3b'), 'transactionIndex': 0, 'blockHash': HexBytes('0x6353fbe9571fd02c952818ea08fff2cdc40ac8f0e7cf46843afefe6370bc0667'), 'blockNumber': 138883020, 'gasUsed': 541686, 'effectiveGasPrice': 1000001309, 'blobGasPrice': 1, 'from': '0xf39Fd6e51aad88F6F4ce6aB8827279cffFb92266', 'to': '0x01D40099fCD87C018969B0e8D4aB1633Fb34763C', 'contractAddress': None})\n"
     ]
    }
   ],
   "source": [
    "# velo -> usdc\n",
    "async with AsyncOPChain() as op:\n",
    "    async with atime_it(\"Get quote\"):\n",
    "        quote = await op.get_quote(from_token=op.velo, to_token=op.usdc, amount=op.velo.parse_units(10))\n",
    "\n",
    "    async with AsyncOPChainSimnet() as op_simnet:\n",
    "        print(await op_simnet.swap_from_quote(quote, slippage=0.1))\n",
    "\n",
    "    with OPChainSimnet() as op_simnet_sync:\n",
    "        print(op_simnet_sync.swap_from_quote(quote, slippage=0.1))\n",
    "\n",
    "# velo -> eth\n",
    "async with AsyncOPChain() as op:\n",
    "    async with atime_it(\"Get quote\"):\n",
    "        quote = await op.get_quote(op.velo, op.eth, op.velo.parse_units(10))\n",
    "\n",
    "    async with AsyncOPChainSimnet() as op_simnet:\n",
    "        print(await op_simnet.swap_from_quote(quote, slippage=0.1))\n",
    "\n",
    "# eth -> velo\n",
    "async with AsyncOPChain() as op:\n",
    "    async with atime_it(\"Get quote\"):\n",
    "        quote = await op.get_quote(op.eth, op.velo, op.eth.parse_units(0.001))\n",
    "\n",
    "    async with AsyncOPChainSimnet() as op_simnet:\n",
    "        print(await op_simnet.swap_from_quote(quote, slippage=0.1))\n"
   ]
  },
  {
   "cell_type": "markdown",
   "id": "fd678c7c",
   "metadata": {},
   "source": [
    "## Superswaps"
   ]
  },
  {
   "cell_type": "code",
   "execution_count": null,
   "id": "e11dc846",
   "metadata": {},
   "outputs": [],
   "source": [
    "# try unsupported chains\n",
    "\n",
    "with OPChainSimnet() as op_sim:\n",
    "    from_token, to_token = AsyncOPChain.velo, AsyncBaseChain.aero \n",
    "    error = None\n",
    "    try:\n",
    "        tx = Superswap(chain_for_writes=op_sim, relayer=MockSuperswapRelayer()).swap(from_token, to_token, amount=from_token.parse_units(20))\n",
    "    except ValueError as e:\n",
    "        error = e\n",
    "    test_eq(str(error), \"Superswap only supports ['OP', 'Lisk', 'Uni']. Got OP -> Base\")\n",
    "     "
   ]
  },
  {
   "cell_type": "code",
   "execution_count": null,
   "id": "12a8f4ab",
   "metadata": {},
   "outputs": [],
   "source": [
    "# sync version\n",
    "\n",
    "for from_token, to_token, amount, requires_relay in superswap_tests_specs:\n",
    "    with get_simnet_chain_from_token(from_token) as from_sim:\n",
    "        relayer=MockSuperswapRelayer()\n",
    "        tx = Superswap(chain_for_writes=from_sim, relayer=relayer).swap(from_token, to_token, amount=amount, slippage=0.1)\n",
    "        assert(tx.startswith(\"0x\"))\n",
    "\n",
    "        if not requires_relay: \n",
    "            test_eq(relayer.get_call_count(), 0)\n",
    "            continue\n",
    "\n",
    "        test_eq(relayer.get_call_count(), 1)\n",
    "        last_call = relayer.get_last_call()\n",
    "        test_eq(type(last_call[\"salt\"]), str)\n",
    "        test_eq(type(last_call[\"origin_domain\"]), int)"
   ]
  },
  {
   "cell_type": "code",
   "execution_count": null,
   "id": "7f0473a7",
   "metadata": {},
   "outputs": [],
   "source": [
    "# async version\n",
    "\n",
    "for from_token, to_token, amount, requires_relay in superswap_tests_specs:\n",
    "    async with get_async_simnet_chain_from_token(from_token) as from_sim:\n",
    "        relayer=MockSuperswapRelayer()\n",
    "        tx = await AsyncSuperswap(chain_for_writes=from_sim, relayer=relayer).swap(from_token, to_token, amount=amount, slippage=0.1)\n",
    "        assert(tx.startswith(\"0x\"))\n",
    "\n",
    "        if not requires_relay: \n",
    "            test_eq(relayer.get_call_count(), 0)\n",
    "            continue\n",
    "\n",
    "        test_eq(relayer.get_call_count(), 1)\n",
    "        last_call = relayer.get_last_call()\n",
    "        test_eq(type(last_call[\"salt\"]), str)\n",
    "        test_eq(type(last_call[\"origin_domain\"]), int)"
   ]
  }
 ],
 "metadata": {
  "kernelspec": {
   "display_name": "python3",
   "language": "python",
   "name": "python3"
  }
 },
 "nbformat": 4,
 "nbformat_minor": 5
}
